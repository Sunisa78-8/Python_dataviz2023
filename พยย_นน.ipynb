{
  "nbformat": 4,
  "nbformat_minor": 0,
  "metadata": {
    "colab": {
      "provenance": [],
      "authorship_tag": "ABX9TyNJxbdQs2NLbGDT+OXTRQZ8",
      "include_colab_link": true
    },
    "kernelspec": {
      "name": "python3",
      "display_name": "Python 3"
    },
    "language_info": {
      "name": "python"
    }
  },
  "cells": [
    {
      "cell_type": "markdown",
      "metadata": {
        "id": "view-in-github",
        "colab_type": "text"
      },
      "source": [
        "<a href=\"https://colab.research.google.com/github/Sunisa78-8/Python_dataviz2023/blob/main/%E0%B8%9E%E0%B8%A2%E0%B8%A2_%E0%B8%99%E0%B8%99.ipynb\" target=\"_parent\"><img src=\"https://colab.research.google.com/assets/colab-badge.svg\" alt=\"Open In Colab\"/></a>"
      ]
    },
    {
      "cell_type": "code",
      "execution_count": 8,
      "metadata": {
        "colab": {
          "base_uri": "https://localhost:8080/"
        },
        "id": "00-geJ9XVOdh",
        "outputId": "e9ca1818-dc9e-40cd-90a7-5b142f2ca1c3"
      },
      "outputs": [
        {
          "output_type": "stream",
          "name": "stdout",
          "text": [
            "Drive already mounted at /content/drive; to attempt to forcibly remount, call drive.mount(\"/content/drive\", force_remount=True).\n"
          ]
        }
      ],
      "source": [
        "from google.colab import drive # เชื่อมบัญชีกับ google drive\n",
        "drive.mount('/content/drive')"
      ]
    },
    {
      "cell_type": "code",
      "source": [
        "import numpy as np\n",
        "import pandas as pd\n",
        "import os"
      ],
      "metadata": {
        "id": "4UKpeRlMY3j0"
      },
      "execution_count": 9,
      "outputs": []
    },
    {
      "cell_type": "code",
      "source": [
        "#เข้าไป path ใน google drive\n",
        "import os\n",
        "os.chdir('/content/drive/MyDrive/Data-Viz-2023-2')\n",
        "\n",
        "!pwd #เช็ค path ที่กำลังทำงานอยู่"
      ],
      "metadata": {
        "colab": {
          "base_uri": "https://localhost:8080/"
        },
        "id": "gN0v2AeMZqRt",
        "outputId": "2079df1a-96c5-4147-e79e-9296452f1590"
      },
      "execution_count": 10,
      "outputs": [
        {
          "output_type": "stream",
          "name": "stdout",
          "text": [
            "/content/drive/.shortcut-targets-by-id/12P345W-7yfEVWYLBQrbu5kvt7JHLEhMU/Data-Viz-2023-2\n"
          ]
        }
      ]
    },
    {
      "cell_type": "code",
      "source": [
        "!ls  #ดูว่ามีไฟล์อะไรบ้าง"
      ],
      "metadata": {
        "colab": {
          "base_uri": "https://localhost:8080/"
        },
        "id": "syB58b5NZ3Dm",
        "outputId": "2db9eff6-3198-490e-b9ca-2cdf17bcb0b2"
      },
      "execution_count": 12,
      "outputs": [
        {
          "output_type": "stream",
          "name": "stdout",
          "text": [
            " Bhumjaithai.png\t\t\t 'table_merge_result (16).gsheet'\n",
            " Compare.csv\t\t\t\t 'table_merge_result (17).gsheet'\n",
            "'Copy of table_merge_result (1).gsheet'  'table_merge_result (18).gsheet'\n",
            "'Copy of table_merge_result (2).gsheet'  'table_merge_result (19).gsheet'\n",
            "'Copy of table_merge_result.csv'\t 'table_merge_result (1).gsheet'\n",
            "'Copy of table_merge_result.gsheet'\t 'table_merge_result(1).gsheet'\n",
            " data_ectre_66.csv\t\t\t 'table_merge_result (20).gsheet'\n",
            "'DataViz22 Data'\t\t\t 'table_merge_result (21).gsheet'\n",
            " ectreport2023.xlsx\t\t\t 'table_merge_result (2).gsheet'\n",
            " iPrice-election.jpg\t\t\t 'table_merge_result (3).gsheet'\n",
            " max_vote_region.gsheet\t\t\t 'table_merge_result (4).gsheet'\n",
            " merge_chiangmai.csv\t\t\t 'table_merge_result (5).gsheet'\n",
            " merge_chiangmai.gsheet\t\t\t 'table_merge_result (6).gsheet'\n",
            " merge_chiangmai_new.csv\t\t 'table_merge_result (7).gsheet'\n",
            " merge_chiangmai_neww.csv\t\t 'table_merge_result (8).gsheet'\n",
            " merge_chiangmai_neww.gsheet\t\t 'table_merge_result (9).gsheet'\n",
            " merge_result_project1.csv\t\t  table_merge_result.csv\n",
            " merge_result_project1.gsheet\t\t  table_merge_result.gsheet\n",
            " MFP_Point.csv\t\t\t\t  table_merge_result_project1.csv\n",
            "'Move Forward Party.png'\t\t  table_merge_result_tonry.gsheet\n",
            "'of table_merge_result.gsheet'\t\t  table_merge_result_useforproject.csv\n",
            " Partylist_merge.csv\t\t\t 'thai (1) (1).json'\n",
            " Pheu_Thai_RM_bk.png\t\t\t 'thai (1).json'\n",
            "'table_merge_result (10).gsheet'\t 'thai (2).json'\n",
            "'table_merge_result (11).gsheet'\t  Thai-election.jpg\n",
            "'table_merge_result (12).gsheet'\t  thai.json\n",
            "'table_merge_result (13).gsheet'\t  thailand-elections-removebg-rmBK.png\n",
            "'table_merge_result (14).gsheet'\t  Waiitable_merge_result.gsheet\n",
            "'table_merge_result (15).gsheet'\t  ซ้อม\n"
          ]
        }
      ]
    },
    {
      "cell_type": "markdown",
      "source": [
        "# 🔗Database\n",
        "\n",
        "[Google drive link for Database](https://drive.google.com/drive/folders/18Xsh2jEf7s2bTQY_0lHhOXXxuyM_3_9V?usp=sharing)\n"
      ],
      "metadata": {
        "id": "WgGgLJ3KajfO"
      }
    },
    {
      "cell_type": "markdown",
      "source": [
        "## open csv\n",
        "\n",
        "```\n",
        "import pandas as pd\n",
        "file_name = 'ectreport66.xlsx'\n",
        "sheet = 'sheet_name'\n",
        "df = pd.read_excel(io=file_name, sheet_name=sheet)\n",
        "print(df)\n",
        "```"
      ],
      "metadata": {
        "id": "kVgB_Mnpap-0"
      }
    },
    {
      "cell_type": "code",
      "source": [
        "\n",
        "file_name = 'ectreport2023.xlsx' # ชื่อไฟล์ xlsx\n",
        "dfs = pd.ExcelFile(file_name) # คำสั่งอ่านไฟล์ xlsx\n",
        "\n",
        "dfs.sheet_names # คำสั่งเช็คว่าในไฟล์ xlsx มี seet ย่อย ในไฟล์ชื่อว่าอะไรบ้าง"
      ],
      "metadata": {
        "colab": {
          "base_uri": "https://localhost:8080/"
        },
        "id": "7rGpFmJ0dqTW",
        "outputId": "faa3336a-ff8a-4284-fcd1-68362ce2f56c"
      },
      "execution_count": 20,
      "outputs": [
        {
          "output_type": "execute_result",
          "data": {
            "text/plain": [
              "['Schema',\n",
              " 'result_constituencies_PartyList',\n",
              " 'result_constituencies_Candidate',\n",
              " 'result_constituencies_status',\n",
              " 'info_province',\n",
              " 'info_party_overview',\n",
              " 'info_constituency',\n",
              " 'Candidate_Constituency',\n",
              " 'Candidate_PartyList',\n",
              " 'Candidate_PM']"
            ]
          },
          "metadata": {},
          "execution_count": 20
        }
      ]
    }
  ]
}