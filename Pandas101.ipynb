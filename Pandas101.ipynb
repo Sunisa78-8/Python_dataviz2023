{
  "nbformat": 4,
  "nbformat_minor": 0,
  "metadata": {
    "colab": {
      "name": " Pandas101.ipynb",
      "provenance": [],
      "toc_visible": true,
      "include_colab_link": true
    },
    "kernelspec": {
      "name": "python3",
      "display_name": "Python 3"
    }
  },
  "cells": [
    {
      "cell_type": "markdown",
      "metadata": {
        "id": "view-in-github",
        "colab_type": "text"
      },
      "source": [
        "<a href=\"https://colab.research.google.com/github/Sunisa78-8/Python_dataviz2023/blob/main/Pandas101.ipynb\" target=\"_parent\"><img src=\"https://colab.research.google.com/assets/colab-badge.svg\" alt=\"Open In Colab\"/></a>"
      ]
    },
    {
      "cell_type": "code",
      "metadata": {
        "id": "-db5CJRNlwyL"
      },
      "source": [
        "import pandas as pd"
      ],
      "execution_count": 2,
      "outputs": []
    },
    {
      "cell_type": "markdown",
      "source": [
        "## Meta data = Data that describtion data\n",
        "\n",
        "ใช้อธิบายช้อมูล\n",
        "\n",
        "## CSV = Comma Separated Values\n",
        "ในการจะใส่ค่าแต่ละค่า จะใช้  comma ในการแย่ง"
      ],
      "metadata": {
        "id": "RuhVtlerGS4Q"
      }
    },
    {
      "cell_type": "markdown",
      "source": [
        ".csv = Comma Separated Values"
      ],
      "metadata": {
        "id": "nG20ex-3NX6H"
      }
    },
    {
      "cell_type": "markdown",
      "source": [
        "data.go.th"
      ],
      "metadata": {
        "id": "AyRXEjDINX3K"
      }
    },
    {
      "cell_type": "markdown",
      "source": [
        "# นำ Data เข้า\n",
        "- upload to colab  # กรณีใช้เเค่ครั้งเดียว\n",
        "- link with google drive"
      ],
      "metadata": {
        "id": "_rHnnYlYIGsG"
      }
    },
    {
      "cell_type": "markdown",
      "source": [
        "## upload to colab"
      ],
      "metadata": {
        "id": "9qyXeNjjJpaF"
      }
    },
    {
      "cell_type": "code",
      "source": [
        "data0 = pd.read_csv('/content/csv.csv')"
      ],
      "metadata": {
        "id": "baOzFVR9JqwU",
        "outputId": "1b18fd06-a868-4e68-d773-211f15327e9d",
        "colab": {
          "base_uri": "https://localhost:8080/",
          "height": 312
        }
      },
      "execution_count": 19,
      "outputs": [
        {
          "output_type": "error",
          "ename": "FileNotFoundError",
          "evalue": "ignored",
          "traceback": [
            "\u001b[0;31m---------------------------------------------------------------------------\u001b[0m",
            "\u001b[0;31mFileNotFoundError\u001b[0m                         Traceback (most recent call last)",
            "\u001b[0;32m<ipython-input-19-eb95db60e09b>\u001b[0m in \u001b[0;36m<cell line: 1>\u001b[0;34m()\u001b[0m\n\u001b[0;32m----> 1\u001b[0;31m \u001b[0mdata0\u001b[0m \u001b[0;34m=\u001b[0m \u001b[0mpd\u001b[0m\u001b[0;34m.\u001b[0m\u001b[0mread_csv\u001b[0m\u001b[0;34m(\u001b[0m\u001b[0;34m'/content/csv.csv'\u001b[0m\u001b[0;34m)\u001b[0m\u001b[0;34m\u001b[0m\u001b[0;34m\u001b[0m\u001b[0m\n\u001b[0m",
            "\u001b[0;32m/usr/local/lib/python3.10/dist-packages/pandas/util/_decorators.py\u001b[0m in \u001b[0;36mwrapper\u001b[0;34m(*args, **kwargs)\u001b[0m\n\u001b[1;32m    209\u001b[0m                 \u001b[0;32melse\u001b[0m\u001b[0;34m:\u001b[0m\u001b[0;34m\u001b[0m\u001b[0;34m\u001b[0m\u001b[0m\n\u001b[1;32m    210\u001b[0m                     \u001b[0mkwargs\u001b[0m\u001b[0;34m[\u001b[0m\u001b[0mnew_arg_name\u001b[0m\u001b[0;34m]\u001b[0m \u001b[0;34m=\u001b[0m \u001b[0mnew_arg_value\u001b[0m\u001b[0;34m\u001b[0m\u001b[0;34m\u001b[0m\u001b[0m\n\u001b[0;32m--> 211\u001b[0;31m             \u001b[0;32mreturn\u001b[0m \u001b[0mfunc\u001b[0m\u001b[0;34m(\u001b[0m\u001b[0;34m*\u001b[0m\u001b[0margs\u001b[0m\u001b[0;34m,\u001b[0m \u001b[0;34m**\u001b[0m\u001b[0mkwargs\u001b[0m\u001b[0;34m)\u001b[0m\u001b[0;34m\u001b[0m\u001b[0;34m\u001b[0m\u001b[0m\n\u001b[0m\u001b[1;32m    212\u001b[0m \u001b[0;34m\u001b[0m\u001b[0m\n\u001b[1;32m    213\u001b[0m         \u001b[0;32mreturn\u001b[0m \u001b[0mcast\u001b[0m\u001b[0;34m(\u001b[0m\u001b[0mF\u001b[0m\u001b[0;34m,\u001b[0m \u001b[0mwrapper\u001b[0m\u001b[0;34m)\u001b[0m\u001b[0;34m\u001b[0m\u001b[0;34m\u001b[0m\u001b[0m\n",
            "\u001b[0;32m/usr/local/lib/python3.10/dist-packages/pandas/util/_decorators.py\u001b[0m in \u001b[0;36mwrapper\u001b[0;34m(*args, **kwargs)\u001b[0m\n\u001b[1;32m    329\u001b[0m                     \u001b[0mstacklevel\u001b[0m\u001b[0;34m=\u001b[0m\u001b[0mfind_stack_level\u001b[0m\u001b[0;34m(\u001b[0m\u001b[0;34m)\u001b[0m\u001b[0;34m,\u001b[0m\u001b[0;34m\u001b[0m\u001b[0;34m\u001b[0m\u001b[0m\n\u001b[1;32m    330\u001b[0m                 )\n\u001b[0;32m--> 331\u001b[0;31m             \u001b[0;32mreturn\u001b[0m \u001b[0mfunc\u001b[0m\u001b[0;34m(\u001b[0m\u001b[0;34m*\u001b[0m\u001b[0margs\u001b[0m\u001b[0;34m,\u001b[0m \u001b[0;34m**\u001b[0m\u001b[0mkwargs\u001b[0m\u001b[0;34m)\u001b[0m\u001b[0;34m\u001b[0m\u001b[0;34m\u001b[0m\u001b[0m\n\u001b[0m\u001b[1;32m    332\u001b[0m \u001b[0;34m\u001b[0m\u001b[0m\n\u001b[1;32m    333\u001b[0m         \u001b[0;31m# error: \"Callable[[VarArg(Any), KwArg(Any)], Any]\" has no\u001b[0m\u001b[0;34m\u001b[0m\u001b[0;34m\u001b[0m\u001b[0m\n",
            "\u001b[0;32m/usr/local/lib/python3.10/dist-packages/pandas/io/parsers/readers.py\u001b[0m in \u001b[0;36mread_csv\u001b[0;34m(filepath_or_buffer, sep, delimiter, header, names, index_col, usecols, squeeze, prefix, mangle_dupe_cols, dtype, engine, converters, true_values, false_values, skipinitialspace, skiprows, skipfooter, nrows, na_values, keep_default_na, na_filter, verbose, skip_blank_lines, parse_dates, infer_datetime_format, keep_date_col, date_parser, dayfirst, cache_dates, iterator, chunksize, compression, thousands, decimal, lineterminator, quotechar, quoting, doublequote, escapechar, comment, encoding, encoding_errors, dialect, error_bad_lines, warn_bad_lines, on_bad_lines, delim_whitespace, low_memory, memory_map, float_precision, storage_options)\u001b[0m\n\u001b[1;32m    948\u001b[0m     \u001b[0mkwds\u001b[0m\u001b[0;34m.\u001b[0m\u001b[0mupdate\u001b[0m\u001b[0;34m(\u001b[0m\u001b[0mkwds_defaults\u001b[0m\u001b[0;34m)\u001b[0m\u001b[0;34m\u001b[0m\u001b[0;34m\u001b[0m\u001b[0m\n\u001b[1;32m    949\u001b[0m \u001b[0;34m\u001b[0m\u001b[0m\n\u001b[0;32m--> 950\u001b[0;31m     \u001b[0;32mreturn\u001b[0m \u001b[0m_read\u001b[0m\u001b[0;34m(\u001b[0m\u001b[0mfilepath_or_buffer\u001b[0m\u001b[0;34m,\u001b[0m \u001b[0mkwds\u001b[0m\u001b[0;34m)\u001b[0m\u001b[0;34m\u001b[0m\u001b[0;34m\u001b[0m\u001b[0m\n\u001b[0m\u001b[1;32m    951\u001b[0m \u001b[0;34m\u001b[0m\u001b[0m\n\u001b[1;32m    952\u001b[0m \u001b[0;34m\u001b[0m\u001b[0m\n",
            "\u001b[0;32m/usr/local/lib/python3.10/dist-packages/pandas/io/parsers/readers.py\u001b[0m in \u001b[0;36m_read\u001b[0;34m(filepath_or_buffer, kwds)\u001b[0m\n\u001b[1;32m    603\u001b[0m \u001b[0;34m\u001b[0m\u001b[0m\n\u001b[1;32m    604\u001b[0m     \u001b[0;31m# Create the parser.\u001b[0m\u001b[0;34m\u001b[0m\u001b[0;34m\u001b[0m\u001b[0m\n\u001b[0;32m--> 605\u001b[0;31m     \u001b[0mparser\u001b[0m \u001b[0;34m=\u001b[0m \u001b[0mTextFileReader\u001b[0m\u001b[0;34m(\u001b[0m\u001b[0mfilepath_or_buffer\u001b[0m\u001b[0;34m,\u001b[0m \u001b[0;34m**\u001b[0m\u001b[0mkwds\u001b[0m\u001b[0;34m)\u001b[0m\u001b[0;34m\u001b[0m\u001b[0;34m\u001b[0m\u001b[0m\n\u001b[0m\u001b[1;32m    606\u001b[0m \u001b[0;34m\u001b[0m\u001b[0m\n\u001b[1;32m    607\u001b[0m     \u001b[0;32mif\u001b[0m \u001b[0mchunksize\u001b[0m \u001b[0;32mor\u001b[0m \u001b[0miterator\u001b[0m\u001b[0;34m:\u001b[0m\u001b[0;34m\u001b[0m\u001b[0;34m\u001b[0m\u001b[0m\n",
            "\u001b[0;32m/usr/local/lib/python3.10/dist-packages/pandas/io/parsers/readers.py\u001b[0m in \u001b[0;36m__init__\u001b[0;34m(self, f, engine, **kwds)\u001b[0m\n\u001b[1;32m   1440\u001b[0m \u001b[0;34m\u001b[0m\u001b[0m\n\u001b[1;32m   1441\u001b[0m         \u001b[0mself\u001b[0m\u001b[0;34m.\u001b[0m\u001b[0mhandles\u001b[0m\u001b[0;34m:\u001b[0m \u001b[0mIOHandles\u001b[0m \u001b[0;34m|\u001b[0m \u001b[0;32mNone\u001b[0m \u001b[0;34m=\u001b[0m \u001b[0;32mNone\u001b[0m\u001b[0;34m\u001b[0m\u001b[0;34m\u001b[0m\u001b[0m\n\u001b[0;32m-> 1442\u001b[0;31m         \u001b[0mself\u001b[0m\u001b[0;34m.\u001b[0m\u001b[0m_engine\u001b[0m \u001b[0;34m=\u001b[0m \u001b[0mself\u001b[0m\u001b[0;34m.\u001b[0m\u001b[0m_make_engine\u001b[0m\u001b[0;34m(\u001b[0m\u001b[0mf\u001b[0m\u001b[0;34m,\u001b[0m \u001b[0mself\u001b[0m\u001b[0;34m.\u001b[0m\u001b[0mengine\u001b[0m\u001b[0;34m)\u001b[0m\u001b[0;34m\u001b[0m\u001b[0;34m\u001b[0m\u001b[0m\n\u001b[0m\u001b[1;32m   1443\u001b[0m \u001b[0;34m\u001b[0m\u001b[0m\n\u001b[1;32m   1444\u001b[0m     \u001b[0;32mdef\u001b[0m \u001b[0mclose\u001b[0m\u001b[0;34m(\u001b[0m\u001b[0mself\u001b[0m\u001b[0;34m)\u001b[0m \u001b[0;34m->\u001b[0m \u001b[0;32mNone\u001b[0m\u001b[0;34m:\u001b[0m\u001b[0;34m\u001b[0m\u001b[0;34m\u001b[0m\u001b[0m\n",
            "\u001b[0;32m/usr/local/lib/python3.10/dist-packages/pandas/io/parsers/readers.py\u001b[0m in \u001b[0;36m_make_engine\u001b[0;34m(self, f, engine)\u001b[0m\n\u001b[1;32m   1733\u001b[0m                 \u001b[0;32mif\u001b[0m \u001b[0;34m\"b\"\u001b[0m \u001b[0;32mnot\u001b[0m \u001b[0;32min\u001b[0m \u001b[0mmode\u001b[0m\u001b[0;34m:\u001b[0m\u001b[0;34m\u001b[0m\u001b[0;34m\u001b[0m\u001b[0m\n\u001b[1;32m   1734\u001b[0m                     \u001b[0mmode\u001b[0m \u001b[0;34m+=\u001b[0m \u001b[0;34m\"b\"\u001b[0m\u001b[0;34m\u001b[0m\u001b[0;34m\u001b[0m\u001b[0m\n\u001b[0;32m-> 1735\u001b[0;31m             self.handles = get_handle(\n\u001b[0m\u001b[1;32m   1736\u001b[0m                 \u001b[0mf\u001b[0m\u001b[0;34m,\u001b[0m\u001b[0;34m\u001b[0m\u001b[0;34m\u001b[0m\u001b[0m\n\u001b[1;32m   1737\u001b[0m                 \u001b[0mmode\u001b[0m\u001b[0;34m,\u001b[0m\u001b[0;34m\u001b[0m\u001b[0;34m\u001b[0m\u001b[0m\n",
            "\u001b[0;32m/usr/local/lib/python3.10/dist-packages/pandas/io/common.py\u001b[0m in \u001b[0;36mget_handle\u001b[0;34m(path_or_buf, mode, encoding, compression, memory_map, is_text, errors, storage_options)\u001b[0m\n\u001b[1;32m    854\u001b[0m         \u001b[0;32mif\u001b[0m \u001b[0mioargs\u001b[0m\u001b[0;34m.\u001b[0m\u001b[0mencoding\u001b[0m \u001b[0;32mand\u001b[0m \u001b[0;34m\"b\"\u001b[0m \u001b[0;32mnot\u001b[0m \u001b[0;32min\u001b[0m \u001b[0mioargs\u001b[0m\u001b[0;34m.\u001b[0m\u001b[0mmode\u001b[0m\u001b[0;34m:\u001b[0m\u001b[0;34m\u001b[0m\u001b[0;34m\u001b[0m\u001b[0m\n\u001b[1;32m    855\u001b[0m             \u001b[0;31m# Encoding\u001b[0m\u001b[0;34m\u001b[0m\u001b[0;34m\u001b[0m\u001b[0m\n\u001b[0;32m--> 856\u001b[0;31m             handle = open(\n\u001b[0m\u001b[1;32m    857\u001b[0m                 \u001b[0mhandle\u001b[0m\u001b[0;34m,\u001b[0m\u001b[0;34m\u001b[0m\u001b[0;34m\u001b[0m\u001b[0m\n\u001b[1;32m    858\u001b[0m                 \u001b[0mioargs\u001b[0m\u001b[0;34m.\u001b[0m\u001b[0mmode\u001b[0m\u001b[0;34m,\u001b[0m\u001b[0;34m\u001b[0m\u001b[0;34m\u001b[0m\u001b[0m\n",
            "\u001b[0;31mFileNotFoundError\u001b[0m: [Errno 2] No such file or directory: '/content/csv.csv'"
          ]
        }
      ]
    },
    {
      "cell_type": "code",
      "source": [
        "#data0"
      ],
      "metadata": {
        "id": "cErTCZusF3C4"
      },
      "execution_count": null,
      "outputs": []
    },
    {
      "cell_type": "code",
      "source": [
        "data0.head(20)"
      ],
      "metadata": {
        "id": "cUr1kbUXK8L8"
      },
      "execution_count": null,
      "outputs": []
    },
    {
      "cell_type": "code",
      "source": [
        "data0.tail()"
      ],
      "metadata": {
        "id": "95BSAuQoKF2Q"
      },
      "execution_count": null,
      "outputs": []
    },
    {
      "cell_type": "code",
      "source": [
        "data0.shape"
      ],
      "metadata": {
        "id": "ZY0D6SyDKKt-"
      },
      "execution_count": null,
      "outputs": []
    },
    {
      "cell_type": "code",
      "source": [
        "data0.describe()"
      ],
      "metadata": {
        "id": "aLWKlTshKffv"
      },
      "execution_count": null,
      "outputs": []
    },
    {
      "cell_type": "markdown",
      "source": [
        "## link with google drive"
      ],
      "metadata": {
        "id": "CgUMNJxVO9FV"
      }
    },
    {
      "cell_type": "code",
      "metadata": {
        "colab": {
          "base_uri": "https://localhost:8080/"
        },
        "id": "RwYRFJocm086",
        "outputId": "85b74312-7dc6-4302-817e-126b5e68abbe"
      },
      "source": [
        "from google.colab import drive\n",
        "drive.mount('/content/drive')  # mount =  เชื่อมไดร์ฟ"
      ],
      "execution_count": 6,
      "outputs": [
        {
          "output_type": "stream",
          "name": "stdout",
          "text": [
            "Drive already mounted at /content/drive; to attempt to forcibly remount, call drive.mount(\"/content/drive\", force_remount=True).\n"
          ]
        }
      ]
    },
    {
      "cell_type": "code",
      "source": [
        "data1 = pd.read_csv('/content/drive/MyDrive/DataViz23DATA/csv.csv')\n",
        "data1.head()"
      ],
      "metadata": {
        "colab": {
          "base_uri": "https://localhost:8080/",
          "height": 530
        },
        "id": "PSxrUlEWPjHE",
        "outputId": "dc3c9d1c-5345-412a-da80-4d1e1bdd5b30"
      },
      "execution_count": 7,
      "outputs": [
        {
          "output_type": "execute_result",
          "data": {
            "text/plain": [
              "  Budget_resource  Issue_No  Fiscal_year  Department_code        Department  \\\n",
              "0       งบประจำปี         0           62         11000000  สำนักการระบายน้ำ   \n",
              "1       งบประจำปี         0           62         11000000  สำนักการระบายน้ำ   \n",
              "2       งบประจำปี         0           62         11000000  สำนักการระบายน้ำ   \n",
              "3       งบประจำปี         0           62         11000000  สำนักการระบายน้ำ   \n",
              "4       งบประจำปี         0           62         11000000  สำนักการระบายน้ำ   \n",
              "\n",
              "                                    Core_budget_code Expenditure_category  \\\n",
              "0  12-เงินสำรองจ่ายทั่วไป กรณีค่าใช้จ่ายต่างๆ เกี...              งบลงทุน   \n",
              "1  12-เงินสำรองจ่ายทั่วไป กรณีค่าใช้จ่ายต่างๆ เกี...              งบลงทุน   \n",
              "2  12-เงินสำรองจ่ายทั่วไป กรณีค่าใช้จ่ายต่างๆ เกี...              งบลงทุน   \n",
              "3  12-เงินสำรองจ่ายทั่วไป กรณีค่าใช้จ่ายต่างๆ เกี...              งบลงทุน   \n",
              "4  12-เงินสำรองจ่ายทั่วไป กรณีค่าใช้จ่ายต่างๆ เกี...              งบลงทุน   \n",
              "\n",
              "                                           Item_name  Approved_buget  \n",
              "0        ขุดลอกคลองบางกะปิจากคลองสามเสนถึงคลองแสนแสบ         1193000  \n",
              "1  ขุดลอกคลองทรงกระเทียมจากคลองลาดพร้าวถึงถนนโชคช...         1100000  \n",
              "2          ขุดลอกคลองเป้งจากคลองแสนแสบถึงซอยเจริญสุข         3075000  \n",
              "3  ขุดลอกคลองลำพังพวยจากถนนศรีบูรพาถึงสถานีสูบน้ำ...         6240000  \n",
              "4  ขุดลอกบึงรางเข้จากคลองพระยาราชมนตรีถึงถนนบางขุ...         2685000  "
            ],
            "text/html": [
              "\n",
              "\n",
              "  <div id=\"df-4ad97e17-49e4-44a4-8761-df54a333e54a\">\n",
              "    <div class=\"colab-df-container\">\n",
              "      <div>\n",
              "<style scoped>\n",
              "    .dataframe tbody tr th:only-of-type {\n",
              "        vertical-align: middle;\n",
              "    }\n",
              "\n",
              "    .dataframe tbody tr th {\n",
              "        vertical-align: top;\n",
              "    }\n",
              "\n",
              "    .dataframe thead th {\n",
              "        text-align: right;\n",
              "    }\n",
              "</style>\n",
              "<table border=\"1\" class=\"dataframe\">\n",
              "  <thead>\n",
              "    <tr style=\"text-align: right;\">\n",
              "      <th></th>\n",
              "      <th>Budget_resource</th>\n",
              "      <th>Issue_No</th>\n",
              "      <th>Fiscal_year</th>\n",
              "      <th>Department_code</th>\n",
              "      <th>Department</th>\n",
              "      <th>Core_budget_code</th>\n",
              "      <th>Expenditure_category</th>\n",
              "      <th>Item_name</th>\n",
              "      <th>Approved_buget</th>\n",
              "    </tr>\n",
              "  </thead>\n",
              "  <tbody>\n",
              "    <tr>\n",
              "      <th>0</th>\n",
              "      <td>งบประจำปี</td>\n",
              "      <td>0</td>\n",
              "      <td>62</td>\n",
              "      <td>11000000</td>\n",
              "      <td>สำนักการระบายน้ำ</td>\n",
              "      <td>12-เงินสำรองจ่ายทั่วไป กรณีค่าใช้จ่ายต่างๆ เกี...</td>\n",
              "      <td>งบลงทุน</td>\n",
              "      <td>ขุดลอกคลองบางกะปิจากคลองสามเสนถึงคลองแสนแสบ</td>\n",
              "      <td>1193000</td>\n",
              "    </tr>\n",
              "    <tr>\n",
              "      <th>1</th>\n",
              "      <td>งบประจำปี</td>\n",
              "      <td>0</td>\n",
              "      <td>62</td>\n",
              "      <td>11000000</td>\n",
              "      <td>สำนักการระบายน้ำ</td>\n",
              "      <td>12-เงินสำรองจ่ายทั่วไป กรณีค่าใช้จ่ายต่างๆ เกี...</td>\n",
              "      <td>งบลงทุน</td>\n",
              "      <td>ขุดลอกคลองทรงกระเทียมจากคลองลาดพร้าวถึงถนนโชคช...</td>\n",
              "      <td>1100000</td>\n",
              "    </tr>\n",
              "    <tr>\n",
              "      <th>2</th>\n",
              "      <td>งบประจำปี</td>\n",
              "      <td>0</td>\n",
              "      <td>62</td>\n",
              "      <td>11000000</td>\n",
              "      <td>สำนักการระบายน้ำ</td>\n",
              "      <td>12-เงินสำรองจ่ายทั่วไป กรณีค่าใช้จ่ายต่างๆ เกี...</td>\n",
              "      <td>งบลงทุน</td>\n",
              "      <td>ขุดลอกคลองเป้งจากคลองแสนแสบถึงซอยเจริญสุข</td>\n",
              "      <td>3075000</td>\n",
              "    </tr>\n",
              "    <tr>\n",
              "      <th>3</th>\n",
              "      <td>งบประจำปี</td>\n",
              "      <td>0</td>\n",
              "      <td>62</td>\n",
              "      <td>11000000</td>\n",
              "      <td>สำนักการระบายน้ำ</td>\n",
              "      <td>12-เงินสำรองจ่ายทั่วไป กรณีค่าใช้จ่ายต่างๆ เกี...</td>\n",
              "      <td>งบลงทุน</td>\n",
              "      <td>ขุดลอกคลองลำพังพวยจากถนนศรีบูรพาถึงสถานีสูบน้ำ...</td>\n",
              "      <td>6240000</td>\n",
              "    </tr>\n",
              "    <tr>\n",
              "      <th>4</th>\n",
              "      <td>งบประจำปี</td>\n",
              "      <td>0</td>\n",
              "      <td>62</td>\n",
              "      <td>11000000</td>\n",
              "      <td>สำนักการระบายน้ำ</td>\n",
              "      <td>12-เงินสำรองจ่ายทั่วไป กรณีค่าใช้จ่ายต่างๆ เกี...</td>\n",
              "      <td>งบลงทุน</td>\n",
              "      <td>ขุดลอกบึงรางเข้จากคลองพระยาราชมนตรีถึงถนนบางขุ...</td>\n",
              "      <td>2685000</td>\n",
              "    </tr>\n",
              "  </tbody>\n",
              "</table>\n",
              "</div>\n",
              "      <button class=\"colab-df-convert\" onclick=\"convertToInteractive('df-4ad97e17-49e4-44a4-8761-df54a333e54a')\"\n",
              "              title=\"Convert this dataframe to an interactive table.\"\n",
              "              style=\"display:none;\">\n",
              "\n",
              "  <svg xmlns=\"http://www.w3.org/2000/svg\" height=\"24px\"viewBox=\"0 0 24 24\"\n",
              "       width=\"24px\">\n",
              "    <path d=\"M0 0h24v24H0V0z\" fill=\"none\"/>\n",
              "    <path d=\"M18.56 5.44l.94 2.06.94-2.06 2.06-.94-2.06-.94-.94-2.06-.94 2.06-2.06.94zm-11 1L8.5 8.5l.94-2.06 2.06-.94-2.06-.94L8.5 2.5l-.94 2.06-2.06.94zm10 10l.94 2.06.94-2.06 2.06-.94-2.06-.94-.94-2.06-.94 2.06-2.06.94z\"/><path d=\"M17.41 7.96l-1.37-1.37c-.4-.4-.92-.59-1.43-.59-.52 0-1.04.2-1.43.59L10.3 9.45l-7.72 7.72c-.78.78-.78 2.05 0 2.83L4 21.41c.39.39.9.59 1.41.59.51 0 1.02-.2 1.41-.59l7.78-7.78 2.81-2.81c.8-.78.8-2.07 0-2.86zM5.41 20L4 18.59l7.72-7.72 1.47 1.35L5.41 20z\"/>\n",
              "  </svg>\n",
              "      </button>\n",
              "\n",
              "\n",
              "\n",
              "    <div id=\"df-16cae1eb-82f3-4fb5-ac61-b5feb9963b4e\">\n",
              "      <button class=\"colab-df-quickchart\" onclick=\"quickchart('df-16cae1eb-82f3-4fb5-ac61-b5feb9963b4e')\"\n",
              "              title=\"Suggest charts.\"\n",
              "              style=\"display:none;\">\n",
              "\n",
              "<svg xmlns=\"http://www.w3.org/2000/svg\" height=\"24px\"viewBox=\"0 0 24 24\"\n",
              "     width=\"24px\">\n",
              "    <g>\n",
              "        <path d=\"M19 3H5c-1.1 0-2 .9-2 2v14c0 1.1.9 2 2 2h14c1.1 0 2-.9 2-2V5c0-1.1-.9-2-2-2zM9 17H7v-7h2v7zm4 0h-2V7h2v10zm4 0h-2v-4h2v4z\"/>\n",
              "    </g>\n",
              "</svg>\n",
              "      </button>\n",
              "    </div>\n",
              "\n",
              "<style>\n",
              "  .colab-df-quickchart {\n",
              "    background-color: #E8F0FE;\n",
              "    border: none;\n",
              "    border-radius: 50%;\n",
              "    cursor: pointer;\n",
              "    display: none;\n",
              "    fill: #1967D2;\n",
              "    height: 32px;\n",
              "    padding: 0 0 0 0;\n",
              "    width: 32px;\n",
              "  }\n",
              "\n",
              "  .colab-df-quickchart:hover {\n",
              "    background-color: #E2EBFA;\n",
              "    box-shadow: 0px 1px 2px rgba(60, 64, 67, 0.3), 0px 1px 3px 1px rgba(60, 64, 67, 0.15);\n",
              "    fill: #174EA6;\n",
              "  }\n",
              "\n",
              "  [theme=dark] .colab-df-quickchart {\n",
              "    background-color: #3B4455;\n",
              "    fill: #D2E3FC;\n",
              "  }\n",
              "\n",
              "  [theme=dark] .colab-df-quickchart:hover {\n",
              "    background-color: #434B5C;\n",
              "    box-shadow: 0px 1px 3px 1px rgba(0, 0, 0, 0.15);\n",
              "    filter: drop-shadow(0px 1px 2px rgba(0, 0, 0, 0.3));\n",
              "    fill: #FFFFFF;\n",
              "  }\n",
              "</style>\n",
              "\n",
              "    <script>\n",
              "      async function quickchart(key) {\n",
              "        const containerElement = document.querySelector('#' + key);\n",
              "        const charts = await google.colab.kernel.invokeFunction(\n",
              "            'suggestCharts', [key], {});\n",
              "      }\n",
              "    </script>\n",
              "\n",
              "      <script>\n",
              "\n",
              "function displayQuickchartButton(domScope) {\n",
              "  let quickchartButtonEl =\n",
              "    domScope.querySelector('#df-16cae1eb-82f3-4fb5-ac61-b5feb9963b4e button.colab-df-quickchart');\n",
              "  quickchartButtonEl.style.display =\n",
              "    google.colab.kernel.accessAllowed ? 'block' : 'none';\n",
              "}\n",
              "\n",
              "        displayQuickchartButton(document);\n",
              "      </script>\n",
              "      <style>\n",
              "    .colab-df-container {\n",
              "      display:flex;\n",
              "      flex-wrap:wrap;\n",
              "      gap: 12px;\n",
              "    }\n",
              "\n",
              "    .colab-df-convert {\n",
              "      background-color: #E8F0FE;\n",
              "      border: none;\n",
              "      border-radius: 50%;\n",
              "      cursor: pointer;\n",
              "      display: none;\n",
              "      fill: #1967D2;\n",
              "      height: 32px;\n",
              "      padding: 0 0 0 0;\n",
              "      width: 32px;\n",
              "    }\n",
              "\n",
              "    .colab-df-convert:hover {\n",
              "      background-color: #E2EBFA;\n",
              "      box-shadow: 0px 1px 2px rgba(60, 64, 67, 0.3), 0px 1px 3px 1px rgba(60, 64, 67, 0.15);\n",
              "      fill: #174EA6;\n",
              "    }\n",
              "\n",
              "    [theme=dark] .colab-df-convert {\n",
              "      background-color: #3B4455;\n",
              "      fill: #D2E3FC;\n",
              "    }\n",
              "\n",
              "    [theme=dark] .colab-df-convert:hover {\n",
              "      background-color: #434B5C;\n",
              "      box-shadow: 0px 1px 3px 1px rgba(0, 0, 0, 0.15);\n",
              "      filter: drop-shadow(0px 1px 2px rgba(0, 0, 0, 0.3));\n",
              "      fill: #FFFFFF;\n",
              "    }\n",
              "  </style>\n",
              "\n",
              "      <script>\n",
              "        const buttonEl =\n",
              "          document.querySelector('#df-4ad97e17-49e4-44a4-8761-df54a333e54a button.colab-df-convert');\n",
              "        buttonEl.style.display =\n",
              "          google.colab.kernel.accessAllowed ? 'block' : 'none';\n",
              "\n",
              "        async function convertToInteractive(key) {\n",
              "          const element = document.querySelector('#df-4ad97e17-49e4-44a4-8761-df54a333e54a');\n",
              "          const dataTable =\n",
              "            await google.colab.kernel.invokeFunction('convertToInteractive',\n",
              "                                                     [key], {});\n",
              "          if (!dataTable) return;\n",
              "\n",
              "          const docLinkHtml = 'Like what you see? Visit the ' +\n",
              "            '<a target=\"_blank\" href=https://colab.research.google.com/notebooks/data_table.ipynb>data table notebook</a>'\n",
              "            + ' to learn more about interactive tables.';\n",
              "          element.innerHTML = '';\n",
              "          dataTable['output_type'] = 'display_data';\n",
              "          await google.colab.output.renderOutput(dataTable, element);\n",
              "          const docLink = document.createElement('div');\n",
              "          docLink.innerHTML = docLinkHtml;\n",
              "          element.appendChild(docLink);\n",
              "        }\n",
              "      </script>\n",
              "    </div>\n",
              "  </div>\n"
            ]
          },
          "metadata": {},
          "execution_count": 7
        }
      ]
    },
    {
      "cell_type": "code",
      "source": [
        "data1.head(10)  # ดูหัวตาราง จากแถวบน 10 แถวแรก นับจาก 0-9"
      ],
      "metadata": {
        "id": "x2yBLVzVQZp0",
        "colab": {
          "base_uri": "https://localhost:8080/",
          "height": 930
        },
        "outputId": "10bf0f89-db61-4ea8-dcc0-ab02315cd271"
      },
      "execution_count": 8,
      "outputs": [
        {
          "output_type": "execute_result",
          "data": {
            "text/plain": [
              "  Budget_resource  Issue_No  Fiscal_year  Department_code          Department  \\\n",
              "0       งบประจำปี         0           62         11000000    สำนักการระบายน้ำ   \n",
              "1       งบประจำปี         0           62         11000000    สำนักการระบายน้ำ   \n",
              "2       งบประจำปี         0           62         11000000    สำนักการระบายน้ำ   \n",
              "3       งบประจำปี         0           62         11000000    สำนักการระบายน้ำ   \n",
              "4       งบประจำปี         0           62         11000000    สำนักการระบายน้ำ   \n",
              "5       งบประจำปี         0           62         11000000    สำนักการระบายน้ำ   \n",
              "6       งบประจำปี         0           62         50130000  สำนักงานเขตมีนบุรี   \n",
              "7       งบประจำปี         0           62         50130000  สำนักงานเขตมีนบุรี   \n",
              "8       งบประจำปี         0           62         50150000  สำนักงานเขตหนองจอก   \n",
              "9       งบประจำปี         0           62         50150000  สำนักงานเขตหนองจอก   \n",
              "\n",
              "                                    Core_budget_code Expenditure_category  \\\n",
              "0  12-เงินสำรองจ่ายทั่วไป กรณีค่าใช้จ่ายต่างๆ เกี...              งบลงทุน   \n",
              "1  12-เงินสำรองจ่ายทั่วไป กรณีค่าใช้จ่ายต่างๆ เกี...              งบลงทุน   \n",
              "2  12-เงินสำรองจ่ายทั่วไป กรณีค่าใช้จ่ายต่างๆ เกี...              งบลงทุน   \n",
              "3  12-เงินสำรองจ่ายทั่วไป กรณีค่าใช้จ่ายต่างๆ เกี...              งบลงทุน   \n",
              "4  12-เงินสำรองจ่ายทั่วไป กรณีค่าใช้จ่ายต่างๆ เกี...              งบลงทุน   \n",
              "5  12-เงินสำรองจ่ายทั่วไป กรณีค่าใช้จ่ายต่างๆ เกี...              งบลงทุน   \n",
              "6  12-เงินสำรองจ่ายทั่วไป กรณีค่าใช้จ่ายต่างๆ เกี...              งบลงทุน   \n",
              "7  12-เงินสำรองจ่ายทั่วไป กรณีค่าใช้จ่ายต่างๆ เกี...              งบลงทุน   \n",
              "8               28-เงินสำรองค่าใช้จ่าย ในการพัฒนาเขต              งบลงทุน   \n",
              "9               28-เงินสำรองค่าใช้จ่าย ในการพัฒนาเขต              งบลงทุน   \n",
              "\n",
              "                                           Item_name  Approved_buget  \n",
              "0        ขุดลอกคลองบางกะปิจากคลองสามเสนถึงคลองแสนแสบ         1193000  \n",
              "1  ขุดลอกคลองทรงกระเทียมจากคลองลาดพร้าวถึงถนนโชคช...         1100000  \n",
              "2          ขุดลอกคลองเป้งจากคลองแสนแสบถึงซอยเจริญสุข         3075000  \n",
              "3  ขุดลอกคลองลำพังพวยจากถนนศรีบูรพาถึงสถานีสูบน้ำ...         6240000  \n",
              "4  ขุดลอกบึงรางเข้จากคลองพระยาราชมนตรีถึงถนนบางขุ...         2685000  \n",
              "5  ขุดลอกคลองราษฎร์สามัคคีจากคลองทวีวัฒนาถึงคลองม...         1207000  \n",
              "6  ขุดลอกลำรางโต๊ะรอด ตั้งแต่คลองสองต้นนุ่นถึงระย...          225400  \n",
              "7  ขุดลอกลำรางเลียบคลองบึงขวาง ตั้งแต่คลองบึงขวาง...          452500  \n",
              "8  ขุดลอกคลองลำแขก จากคลองลำปลาทิว \\nถึงคลองลำตาเ...          447000  \n",
              "9  ขุดลอกคลองอู่ตะเภา จากคลองลำนกแขวก\\nถึงคลองลำม...          497000  "
            ],
            "text/html": [
              "\n",
              "\n",
              "  <div id=\"df-dec86276-a15f-4b7e-a520-346edc9a3960\">\n",
              "    <div class=\"colab-df-container\">\n",
              "      <div>\n",
              "<style scoped>\n",
              "    .dataframe tbody tr th:only-of-type {\n",
              "        vertical-align: middle;\n",
              "    }\n",
              "\n",
              "    .dataframe tbody tr th {\n",
              "        vertical-align: top;\n",
              "    }\n",
              "\n",
              "    .dataframe thead th {\n",
              "        text-align: right;\n",
              "    }\n",
              "</style>\n",
              "<table border=\"1\" class=\"dataframe\">\n",
              "  <thead>\n",
              "    <tr style=\"text-align: right;\">\n",
              "      <th></th>\n",
              "      <th>Budget_resource</th>\n",
              "      <th>Issue_No</th>\n",
              "      <th>Fiscal_year</th>\n",
              "      <th>Department_code</th>\n",
              "      <th>Department</th>\n",
              "      <th>Core_budget_code</th>\n",
              "      <th>Expenditure_category</th>\n",
              "      <th>Item_name</th>\n",
              "      <th>Approved_buget</th>\n",
              "    </tr>\n",
              "  </thead>\n",
              "  <tbody>\n",
              "    <tr>\n",
              "      <th>0</th>\n",
              "      <td>งบประจำปี</td>\n",
              "      <td>0</td>\n",
              "      <td>62</td>\n",
              "      <td>11000000</td>\n",
              "      <td>สำนักการระบายน้ำ</td>\n",
              "      <td>12-เงินสำรองจ่ายทั่วไป กรณีค่าใช้จ่ายต่างๆ เกี...</td>\n",
              "      <td>งบลงทุน</td>\n",
              "      <td>ขุดลอกคลองบางกะปิจากคลองสามเสนถึงคลองแสนแสบ</td>\n",
              "      <td>1193000</td>\n",
              "    </tr>\n",
              "    <tr>\n",
              "      <th>1</th>\n",
              "      <td>งบประจำปี</td>\n",
              "      <td>0</td>\n",
              "      <td>62</td>\n",
              "      <td>11000000</td>\n",
              "      <td>สำนักการระบายน้ำ</td>\n",
              "      <td>12-เงินสำรองจ่ายทั่วไป กรณีค่าใช้จ่ายต่างๆ เกี...</td>\n",
              "      <td>งบลงทุน</td>\n",
              "      <td>ขุดลอกคลองทรงกระเทียมจากคลองลาดพร้าวถึงถนนโชคช...</td>\n",
              "      <td>1100000</td>\n",
              "    </tr>\n",
              "    <tr>\n",
              "      <th>2</th>\n",
              "      <td>งบประจำปี</td>\n",
              "      <td>0</td>\n",
              "      <td>62</td>\n",
              "      <td>11000000</td>\n",
              "      <td>สำนักการระบายน้ำ</td>\n",
              "      <td>12-เงินสำรองจ่ายทั่วไป กรณีค่าใช้จ่ายต่างๆ เกี...</td>\n",
              "      <td>งบลงทุน</td>\n",
              "      <td>ขุดลอกคลองเป้งจากคลองแสนแสบถึงซอยเจริญสุข</td>\n",
              "      <td>3075000</td>\n",
              "    </tr>\n",
              "    <tr>\n",
              "      <th>3</th>\n",
              "      <td>งบประจำปี</td>\n",
              "      <td>0</td>\n",
              "      <td>62</td>\n",
              "      <td>11000000</td>\n",
              "      <td>สำนักการระบายน้ำ</td>\n",
              "      <td>12-เงินสำรองจ่ายทั่วไป กรณีค่าใช้จ่ายต่างๆ เกี...</td>\n",
              "      <td>งบลงทุน</td>\n",
              "      <td>ขุดลอกคลองลำพังพวยจากถนนศรีบูรพาถึงสถานีสูบน้ำ...</td>\n",
              "      <td>6240000</td>\n",
              "    </tr>\n",
              "    <tr>\n",
              "      <th>4</th>\n",
              "      <td>งบประจำปี</td>\n",
              "      <td>0</td>\n",
              "      <td>62</td>\n",
              "      <td>11000000</td>\n",
              "      <td>สำนักการระบายน้ำ</td>\n",
              "      <td>12-เงินสำรองจ่ายทั่วไป กรณีค่าใช้จ่ายต่างๆ เกี...</td>\n",
              "      <td>งบลงทุน</td>\n",
              "      <td>ขุดลอกบึงรางเข้จากคลองพระยาราชมนตรีถึงถนนบางขุ...</td>\n",
              "      <td>2685000</td>\n",
              "    </tr>\n",
              "    <tr>\n",
              "      <th>5</th>\n",
              "      <td>งบประจำปี</td>\n",
              "      <td>0</td>\n",
              "      <td>62</td>\n",
              "      <td>11000000</td>\n",
              "      <td>สำนักการระบายน้ำ</td>\n",
              "      <td>12-เงินสำรองจ่ายทั่วไป กรณีค่าใช้จ่ายต่างๆ เกี...</td>\n",
              "      <td>งบลงทุน</td>\n",
              "      <td>ขุดลอกคลองราษฎร์สามัคคีจากคลองทวีวัฒนาถึงคลองม...</td>\n",
              "      <td>1207000</td>\n",
              "    </tr>\n",
              "    <tr>\n",
              "      <th>6</th>\n",
              "      <td>งบประจำปี</td>\n",
              "      <td>0</td>\n",
              "      <td>62</td>\n",
              "      <td>50130000</td>\n",
              "      <td>สำนักงานเขตมีนบุรี</td>\n",
              "      <td>12-เงินสำรองจ่ายทั่วไป กรณีค่าใช้จ่ายต่างๆ เกี...</td>\n",
              "      <td>งบลงทุน</td>\n",
              "      <td>ขุดลอกลำรางโต๊ะรอด ตั้งแต่คลองสองต้นนุ่นถึงระย...</td>\n",
              "      <td>225400</td>\n",
              "    </tr>\n",
              "    <tr>\n",
              "      <th>7</th>\n",
              "      <td>งบประจำปี</td>\n",
              "      <td>0</td>\n",
              "      <td>62</td>\n",
              "      <td>50130000</td>\n",
              "      <td>สำนักงานเขตมีนบุรี</td>\n",
              "      <td>12-เงินสำรองจ่ายทั่วไป กรณีค่าใช้จ่ายต่างๆ เกี...</td>\n",
              "      <td>งบลงทุน</td>\n",
              "      <td>ขุดลอกลำรางเลียบคลองบึงขวาง ตั้งแต่คลองบึงขวาง...</td>\n",
              "      <td>452500</td>\n",
              "    </tr>\n",
              "    <tr>\n",
              "      <th>8</th>\n",
              "      <td>งบประจำปี</td>\n",
              "      <td>0</td>\n",
              "      <td>62</td>\n",
              "      <td>50150000</td>\n",
              "      <td>สำนักงานเขตหนองจอก</td>\n",
              "      <td>28-เงินสำรองค่าใช้จ่าย ในการพัฒนาเขต</td>\n",
              "      <td>งบลงทุน</td>\n",
              "      <td>ขุดลอกคลองลำแขก จากคลองลำปลาทิว \\nถึงคลองลำตาเ...</td>\n",
              "      <td>447000</td>\n",
              "    </tr>\n",
              "    <tr>\n",
              "      <th>9</th>\n",
              "      <td>งบประจำปี</td>\n",
              "      <td>0</td>\n",
              "      <td>62</td>\n",
              "      <td>50150000</td>\n",
              "      <td>สำนักงานเขตหนองจอก</td>\n",
              "      <td>28-เงินสำรองค่าใช้จ่าย ในการพัฒนาเขต</td>\n",
              "      <td>งบลงทุน</td>\n",
              "      <td>ขุดลอกคลองอู่ตะเภา จากคลองลำนกแขวก\\nถึงคลองลำม...</td>\n",
              "      <td>497000</td>\n",
              "    </tr>\n",
              "  </tbody>\n",
              "</table>\n",
              "</div>\n",
              "      <button class=\"colab-df-convert\" onclick=\"convertToInteractive('df-dec86276-a15f-4b7e-a520-346edc9a3960')\"\n",
              "              title=\"Convert this dataframe to an interactive table.\"\n",
              "              style=\"display:none;\">\n",
              "\n",
              "  <svg xmlns=\"http://www.w3.org/2000/svg\" height=\"24px\"viewBox=\"0 0 24 24\"\n",
              "       width=\"24px\">\n",
              "    <path d=\"M0 0h24v24H0V0z\" fill=\"none\"/>\n",
              "    <path d=\"M18.56 5.44l.94 2.06.94-2.06 2.06-.94-2.06-.94-.94-2.06-.94 2.06-2.06.94zm-11 1L8.5 8.5l.94-2.06 2.06-.94-2.06-.94L8.5 2.5l-.94 2.06-2.06.94zm10 10l.94 2.06.94-2.06 2.06-.94-2.06-.94-.94-2.06-.94 2.06-2.06.94z\"/><path d=\"M17.41 7.96l-1.37-1.37c-.4-.4-.92-.59-1.43-.59-.52 0-1.04.2-1.43.59L10.3 9.45l-7.72 7.72c-.78.78-.78 2.05 0 2.83L4 21.41c.39.39.9.59 1.41.59.51 0 1.02-.2 1.41-.59l7.78-7.78 2.81-2.81c.8-.78.8-2.07 0-2.86zM5.41 20L4 18.59l7.72-7.72 1.47 1.35L5.41 20z\"/>\n",
              "  </svg>\n",
              "      </button>\n",
              "\n",
              "\n",
              "\n",
              "    <div id=\"df-841186f0-deb7-42fd-92a2-fd671a50a59c\">\n",
              "      <button class=\"colab-df-quickchart\" onclick=\"quickchart('df-841186f0-deb7-42fd-92a2-fd671a50a59c')\"\n",
              "              title=\"Suggest charts.\"\n",
              "              style=\"display:none;\">\n",
              "\n",
              "<svg xmlns=\"http://www.w3.org/2000/svg\" height=\"24px\"viewBox=\"0 0 24 24\"\n",
              "     width=\"24px\">\n",
              "    <g>\n",
              "        <path d=\"M19 3H5c-1.1 0-2 .9-2 2v14c0 1.1.9 2 2 2h14c1.1 0 2-.9 2-2V5c0-1.1-.9-2-2-2zM9 17H7v-7h2v7zm4 0h-2V7h2v10zm4 0h-2v-4h2v4z\"/>\n",
              "    </g>\n",
              "</svg>\n",
              "      </button>\n",
              "    </div>\n",
              "\n",
              "<style>\n",
              "  .colab-df-quickchart {\n",
              "    background-color: #E8F0FE;\n",
              "    border: none;\n",
              "    border-radius: 50%;\n",
              "    cursor: pointer;\n",
              "    display: none;\n",
              "    fill: #1967D2;\n",
              "    height: 32px;\n",
              "    padding: 0 0 0 0;\n",
              "    width: 32px;\n",
              "  }\n",
              "\n",
              "  .colab-df-quickchart:hover {\n",
              "    background-color: #E2EBFA;\n",
              "    box-shadow: 0px 1px 2px rgba(60, 64, 67, 0.3), 0px 1px 3px 1px rgba(60, 64, 67, 0.15);\n",
              "    fill: #174EA6;\n",
              "  }\n",
              "\n",
              "  [theme=dark] .colab-df-quickchart {\n",
              "    background-color: #3B4455;\n",
              "    fill: #D2E3FC;\n",
              "  }\n",
              "\n",
              "  [theme=dark] .colab-df-quickchart:hover {\n",
              "    background-color: #434B5C;\n",
              "    box-shadow: 0px 1px 3px 1px rgba(0, 0, 0, 0.15);\n",
              "    filter: drop-shadow(0px 1px 2px rgba(0, 0, 0, 0.3));\n",
              "    fill: #FFFFFF;\n",
              "  }\n",
              "</style>\n",
              "\n",
              "    <script>\n",
              "      async function quickchart(key) {\n",
              "        const containerElement = document.querySelector('#' + key);\n",
              "        const charts = await google.colab.kernel.invokeFunction(\n",
              "            'suggestCharts', [key], {});\n",
              "      }\n",
              "    </script>\n",
              "\n",
              "      <script>\n",
              "\n",
              "function displayQuickchartButton(domScope) {\n",
              "  let quickchartButtonEl =\n",
              "    domScope.querySelector('#df-841186f0-deb7-42fd-92a2-fd671a50a59c button.colab-df-quickchart');\n",
              "  quickchartButtonEl.style.display =\n",
              "    google.colab.kernel.accessAllowed ? 'block' : 'none';\n",
              "}\n",
              "\n",
              "        displayQuickchartButton(document);\n",
              "      </script>\n",
              "      <style>\n",
              "    .colab-df-container {\n",
              "      display:flex;\n",
              "      flex-wrap:wrap;\n",
              "      gap: 12px;\n",
              "    }\n",
              "\n",
              "    .colab-df-convert {\n",
              "      background-color: #E8F0FE;\n",
              "      border: none;\n",
              "      border-radius: 50%;\n",
              "      cursor: pointer;\n",
              "      display: none;\n",
              "      fill: #1967D2;\n",
              "      height: 32px;\n",
              "      padding: 0 0 0 0;\n",
              "      width: 32px;\n",
              "    }\n",
              "\n",
              "    .colab-df-convert:hover {\n",
              "      background-color: #E2EBFA;\n",
              "      box-shadow: 0px 1px 2px rgba(60, 64, 67, 0.3), 0px 1px 3px 1px rgba(60, 64, 67, 0.15);\n",
              "      fill: #174EA6;\n",
              "    }\n",
              "\n",
              "    [theme=dark] .colab-df-convert {\n",
              "      background-color: #3B4455;\n",
              "      fill: #D2E3FC;\n",
              "    }\n",
              "\n",
              "    [theme=dark] .colab-df-convert:hover {\n",
              "      background-color: #434B5C;\n",
              "      box-shadow: 0px 1px 3px 1px rgba(0, 0, 0, 0.15);\n",
              "      filter: drop-shadow(0px 1px 2px rgba(0, 0, 0, 0.3));\n",
              "      fill: #FFFFFF;\n",
              "    }\n",
              "  </style>\n",
              "\n",
              "      <script>\n",
              "        const buttonEl =\n",
              "          document.querySelector('#df-dec86276-a15f-4b7e-a520-346edc9a3960 button.colab-df-convert');\n",
              "        buttonEl.style.display =\n",
              "          google.colab.kernel.accessAllowed ? 'block' : 'none';\n",
              "\n",
              "        async function convertToInteractive(key) {\n",
              "          const element = document.querySelector('#df-dec86276-a15f-4b7e-a520-346edc9a3960');\n",
              "          const dataTable =\n",
              "            await google.colab.kernel.invokeFunction('convertToInteractive',\n",
              "                                                     [key], {});\n",
              "          if (!dataTable) return;\n",
              "\n",
              "          const docLinkHtml = 'Like what you see? Visit the ' +\n",
              "            '<a target=\"_blank\" href=https://colab.research.google.com/notebooks/data_table.ipynb>data table notebook</a>'\n",
              "            + ' to learn more about interactive tables.';\n",
              "          element.innerHTML = '';\n",
              "          dataTable['output_type'] = 'display_data';\n",
              "          await google.colab.output.renderOutput(dataTable, element);\n",
              "          const docLink = document.createElement('div');\n",
              "          docLink.innerHTML = docLinkHtml;\n",
              "          element.appendChild(docLink);\n",
              "        }\n",
              "      </script>\n",
              "    </div>\n",
              "  </div>\n"
            ]
          },
          "metadata": {},
          "execution_count": 8
        }
      ]
    },
    {
      "cell_type": "code",
      "source": [
        "data1.tail(10) # ดูท้ายตาราง จากข้างล่าง"
      ],
      "metadata": {
        "id": "ekG57u89QWrH",
        "colab": {
          "base_uri": "https://localhost:8080/",
          "height": 670
        },
        "outputId": "e9422b4e-4e4d-412f-d102-194563c5e494"
      },
      "execution_count": 20,
      "outputs": [
        {
          "output_type": "execute_result",
          "data": {
            "text/plain": [
              "    Budget_resource  Issue_No  Fiscal_year  Department_code  \\\n",
              "682     งบเพิ่มเติม         1           66         50460000   \n",
              "683     งบเพิ่มเติม         1           66         50460000   \n",
              "684     งบเพิ่มเติม         1           66         50460000   \n",
              "685     งบเพิ่มเติม         1           66         50460000   \n",
              "686     งบเพิ่มเติม         1           66         50460000   \n",
              "687     งบเพิ่มเติม         1           66         50460000   \n",
              "688     งบเพิ่มเติม         1           66         50460000   \n",
              "689     งบเพิ่มเติม         1           66         50460000   \n",
              "690     งบเพิ่มเติม         1           66         50460000   \n",
              "691     งบเพิ่มเติม         1           66         50500000   \n",
              "\n",
              "               Department Core_budget_code Expenditure_category  \\\n",
              "682  สำนักงานเขตคลองสามวา              NaN              งบลงทุน   \n",
              "683  สำนักงานเขตคลองสามวา              NaN              งบลงทุน   \n",
              "684  สำนักงานเขตคลองสามวา              NaN              งบลงทุน   \n",
              "685  สำนักงานเขตคลองสามวา              NaN              งบลงทุน   \n",
              "686  สำนักงานเขตคลองสามวา              NaN              งบลงทุน   \n",
              "687  สำนักงานเขตคลองสามวา              NaN              งบลงทุน   \n",
              "688  สำนักงานเขตคลองสามวา              NaN              งบลงทุน   \n",
              "689  สำนักงานเขตคลองสามวา              NaN              งบลงทุน   \n",
              "690  สำนักงานเขตคลองสามวา              NaN              งบลงทุน   \n",
              "691     สำนักงานเขตบางบอน              NaN              งบลงทุน   \n",
              "\n",
              "                                     Item_name  Approved_buget  \n",
              "682                      ขุดลอกลำรางไทยเอราวัณ         3494000  \n",
              "683                     ขุดลอกคลองหนึ่งตะวันตก         4330000  \n",
              "684                       ขุดลอกคลองสองตะวันตก         9832000  \n",
              "685                           ขุดลอกคลองกีบหมู         2925000  \n",
              "686                         ขุดลอกคลองลำกะโหลก         3875000  \n",
              "687                         ขุดลอกคลองผักกะเฉด         3686000  \n",
              "688                    ขุดลอกคลองบึงทรายกองดิน         2575000  \n",
              "689                          ขุดลอกลำรางซาฟารี          689000  \n",
              "690                        ขุดลอกลำรางตาจันทร์          464000  \n",
              "691  ขุดลอกคลองบางบอนต่อจากของเดิมถึงคลองนายผล         7578000  "
            ],
            "text/html": [
              "\n",
              "\n",
              "  <div id=\"df-3648f0af-814f-4f1d-ad1b-976e43b215d6\">\n",
              "    <div class=\"colab-df-container\">\n",
              "      <div>\n",
              "<style scoped>\n",
              "    .dataframe tbody tr th:only-of-type {\n",
              "        vertical-align: middle;\n",
              "    }\n",
              "\n",
              "    .dataframe tbody tr th {\n",
              "        vertical-align: top;\n",
              "    }\n",
              "\n",
              "    .dataframe thead th {\n",
              "        text-align: right;\n",
              "    }\n",
              "</style>\n",
              "<table border=\"1\" class=\"dataframe\">\n",
              "  <thead>\n",
              "    <tr style=\"text-align: right;\">\n",
              "      <th></th>\n",
              "      <th>Budget_resource</th>\n",
              "      <th>Issue_No</th>\n",
              "      <th>Fiscal_year</th>\n",
              "      <th>Department_code</th>\n",
              "      <th>Department</th>\n",
              "      <th>Core_budget_code</th>\n",
              "      <th>Expenditure_category</th>\n",
              "      <th>Item_name</th>\n",
              "      <th>Approved_buget</th>\n",
              "    </tr>\n",
              "  </thead>\n",
              "  <tbody>\n",
              "    <tr>\n",
              "      <th>682</th>\n",
              "      <td>งบเพิ่มเติม</td>\n",
              "      <td>1</td>\n",
              "      <td>66</td>\n",
              "      <td>50460000</td>\n",
              "      <td>สำนักงานเขตคลองสามวา</td>\n",
              "      <td>NaN</td>\n",
              "      <td>งบลงทุน</td>\n",
              "      <td>ขุดลอกลำรางไทยเอราวัณ</td>\n",
              "      <td>3494000</td>\n",
              "    </tr>\n",
              "    <tr>\n",
              "      <th>683</th>\n",
              "      <td>งบเพิ่มเติม</td>\n",
              "      <td>1</td>\n",
              "      <td>66</td>\n",
              "      <td>50460000</td>\n",
              "      <td>สำนักงานเขตคลองสามวา</td>\n",
              "      <td>NaN</td>\n",
              "      <td>งบลงทุน</td>\n",
              "      <td>ขุดลอกคลองหนึ่งตะวันตก</td>\n",
              "      <td>4330000</td>\n",
              "    </tr>\n",
              "    <tr>\n",
              "      <th>684</th>\n",
              "      <td>งบเพิ่มเติม</td>\n",
              "      <td>1</td>\n",
              "      <td>66</td>\n",
              "      <td>50460000</td>\n",
              "      <td>สำนักงานเขตคลองสามวา</td>\n",
              "      <td>NaN</td>\n",
              "      <td>งบลงทุน</td>\n",
              "      <td>ขุดลอกคลองสองตะวันตก</td>\n",
              "      <td>9832000</td>\n",
              "    </tr>\n",
              "    <tr>\n",
              "      <th>685</th>\n",
              "      <td>งบเพิ่มเติม</td>\n",
              "      <td>1</td>\n",
              "      <td>66</td>\n",
              "      <td>50460000</td>\n",
              "      <td>สำนักงานเขตคลองสามวา</td>\n",
              "      <td>NaN</td>\n",
              "      <td>งบลงทุน</td>\n",
              "      <td>ขุดลอกคลองกีบหมู</td>\n",
              "      <td>2925000</td>\n",
              "    </tr>\n",
              "    <tr>\n",
              "      <th>686</th>\n",
              "      <td>งบเพิ่มเติม</td>\n",
              "      <td>1</td>\n",
              "      <td>66</td>\n",
              "      <td>50460000</td>\n",
              "      <td>สำนักงานเขตคลองสามวา</td>\n",
              "      <td>NaN</td>\n",
              "      <td>งบลงทุน</td>\n",
              "      <td>ขุดลอกคลองลำกะโหลก</td>\n",
              "      <td>3875000</td>\n",
              "    </tr>\n",
              "    <tr>\n",
              "      <th>687</th>\n",
              "      <td>งบเพิ่มเติม</td>\n",
              "      <td>1</td>\n",
              "      <td>66</td>\n",
              "      <td>50460000</td>\n",
              "      <td>สำนักงานเขตคลองสามวา</td>\n",
              "      <td>NaN</td>\n",
              "      <td>งบลงทุน</td>\n",
              "      <td>ขุดลอกคลองผักกะเฉด</td>\n",
              "      <td>3686000</td>\n",
              "    </tr>\n",
              "    <tr>\n",
              "      <th>688</th>\n",
              "      <td>งบเพิ่มเติม</td>\n",
              "      <td>1</td>\n",
              "      <td>66</td>\n",
              "      <td>50460000</td>\n",
              "      <td>สำนักงานเขตคลองสามวา</td>\n",
              "      <td>NaN</td>\n",
              "      <td>งบลงทุน</td>\n",
              "      <td>ขุดลอกคลองบึงทรายกองดิน</td>\n",
              "      <td>2575000</td>\n",
              "    </tr>\n",
              "    <tr>\n",
              "      <th>689</th>\n",
              "      <td>งบเพิ่มเติม</td>\n",
              "      <td>1</td>\n",
              "      <td>66</td>\n",
              "      <td>50460000</td>\n",
              "      <td>สำนักงานเขตคลองสามวา</td>\n",
              "      <td>NaN</td>\n",
              "      <td>งบลงทุน</td>\n",
              "      <td>ขุดลอกลำรางซาฟารี</td>\n",
              "      <td>689000</td>\n",
              "    </tr>\n",
              "    <tr>\n",
              "      <th>690</th>\n",
              "      <td>งบเพิ่มเติม</td>\n",
              "      <td>1</td>\n",
              "      <td>66</td>\n",
              "      <td>50460000</td>\n",
              "      <td>สำนักงานเขตคลองสามวา</td>\n",
              "      <td>NaN</td>\n",
              "      <td>งบลงทุน</td>\n",
              "      <td>ขุดลอกลำรางตาจันทร์</td>\n",
              "      <td>464000</td>\n",
              "    </tr>\n",
              "    <tr>\n",
              "      <th>691</th>\n",
              "      <td>งบเพิ่มเติม</td>\n",
              "      <td>1</td>\n",
              "      <td>66</td>\n",
              "      <td>50500000</td>\n",
              "      <td>สำนักงานเขตบางบอน</td>\n",
              "      <td>NaN</td>\n",
              "      <td>งบลงทุน</td>\n",
              "      <td>ขุดลอกคลองบางบอนต่อจากของเดิมถึงคลองนายผล</td>\n",
              "      <td>7578000</td>\n",
              "    </tr>\n",
              "  </tbody>\n",
              "</table>\n",
              "</div>\n",
              "      <button class=\"colab-df-convert\" onclick=\"convertToInteractive('df-3648f0af-814f-4f1d-ad1b-976e43b215d6')\"\n",
              "              title=\"Convert this dataframe to an interactive table.\"\n",
              "              style=\"display:none;\">\n",
              "\n",
              "  <svg xmlns=\"http://www.w3.org/2000/svg\" height=\"24px\"viewBox=\"0 0 24 24\"\n",
              "       width=\"24px\">\n",
              "    <path d=\"M0 0h24v24H0V0z\" fill=\"none\"/>\n",
              "    <path d=\"M18.56 5.44l.94 2.06.94-2.06 2.06-.94-2.06-.94-.94-2.06-.94 2.06-2.06.94zm-11 1L8.5 8.5l.94-2.06 2.06-.94-2.06-.94L8.5 2.5l-.94 2.06-2.06.94zm10 10l.94 2.06.94-2.06 2.06-.94-2.06-.94-.94-2.06-.94 2.06-2.06.94z\"/><path d=\"M17.41 7.96l-1.37-1.37c-.4-.4-.92-.59-1.43-.59-.52 0-1.04.2-1.43.59L10.3 9.45l-7.72 7.72c-.78.78-.78 2.05 0 2.83L4 21.41c.39.39.9.59 1.41.59.51 0 1.02-.2 1.41-.59l7.78-7.78 2.81-2.81c.8-.78.8-2.07 0-2.86zM5.41 20L4 18.59l7.72-7.72 1.47 1.35L5.41 20z\"/>\n",
              "  </svg>\n",
              "      </button>\n",
              "\n",
              "\n",
              "\n",
              "    <div id=\"df-e42c025c-af05-4fd4-8029-9e8a5bacbd78\">\n",
              "      <button class=\"colab-df-quickchart\" onclick=\"quickchart('df-e42c025c-af05-4fd4-8029-9e8a5bacbd78')\"\n",
              "              title=\"Suggest charts.\"\n",
              "              style=\"display:none;\">\n",
              "\n",
              "<svg xmlns=\"http://www.w3.org/2000/svg\" height=\"24px\"viewBox=\"0 0 24 24\"\n",
              "     width=\"24px\">\n",
              "    <g>\n",
              "        <path d=\"M19 3H5c-1.1 0-2 .9-2 2v14c0 1.1.9 2 2 2h14c1.1 0 2-.9 2-2V5c0-1.1-.9-2-2-2zM9 17H7v-7h2v7zm4 0h-2V7h2v10zm4 0h-2v-4h2v4z\"/>\n",
              "    </g>\n",
              "</svg>\n",
              "      </button>\n",
              "    </div>\n",
              "\n",
              "<style>\n",
              "  .colab-df-quickchart {\n",
              "    background-color: #E8F0FE;\n",
              "    border: none;\n",
              "    border-radius: 50%;\n",
              "    cursor: pointer;\n",
              "    display: none;\n",
              "    fill: #1967D2;\n",
              "    height: 32px;\n",
              "    padding: 0 0 0 0;\n",
              "    width: 32px;\n",
              "  }\n",
              "\n",
              "  .colab-df-quickchart:hover {\n",
              "    background-color: #E2EBFA;\n",
              "    box-shadow: 0px 1px 2px rgba(60, 64, 67, 0.3), 0px 1px 3px 1px rgba(60, 64, 67, 0.15);\n",
              "    fill: #174EA6;\n",
              "  }\n",
              "\n",
              "  [theme=dark] .colab-df-quickchart {\n",
              "    background-color: #3B4455;\n",
              "    fill: #D2E3FC;\n",
              "  }\n",
              "\n",
              "  [theme=dark] .colab-df-quickchart:hover {\n",
              "    background-color: #434B5C;\n",
              "    box-shadow: 0px 1px 3px 1px rgba(0, 0, 0, 0.15);\n",
              "    filter: drop-shadow(0px 1px 2px rgba(0, 0, 0, 0.3));\n",
              "    fill: #FFFFFF;\n",
              "  }\n",
              "</style>\n",
              "\n",
              "    <script>\n",
              "      async function quickchart(key) {\n",
              "        const containerElement = document.querySelector('#' + key);\n",
              "        const charts = await google.colab.kernel.invokeFunction(\n",
              "            'suggestCharts', [key], {});\n",
              "      }\n",
              "    </script>\n",
              "\n",
              "      <script>\n",
              "\n",
              "function displayQuickchartButton(domScope) {\n",
              "  let quickchartButtonEl =\n",
              "    domScope.querySelector('#df-e42c025c-af05-4fd4-8029-9e8a5bacbd78 button.colab-df-quickchart');\n",
              "  quickchartButtonEl.style.display =\n",
              "    google.colab.kernel.accessAllowed ? 'block' : 'none';\n",
              "}\n",
              "\n",
              "        displayQuickchartButton(document);\n",
              "      </script>\n",
              "      <style>\n",
              "    .colab-df-container {\n",
              "      display:flex;\n",
              "      flex-wrap:wrap;\n",
              "      gap: 12px;\n",
              "    }\n",
              "\n",
              "    .colab-df-convert {\n",
              "      background-color: #E8F0FE;\n",
              "      border: none;\n",
              "      border-radius: 50%;\n",
              "      cursor: pointer;\n",
              "      display: none;\n",
              "      fill: #1967D2;\n",
              "      height: 32px;\n",
              "      padding: 0 0 0 0;\n",
              "      width: 32px;\n",
              "    }\n",
              "\n",
              "    .colab-df-convert:hover {\n",
              "      background-color: #E2EBFA;\n",
              "      box-shadow: 0px 1px 2px rgba(60, 64, 67, 0.3), 0px 1px 3px 1px rgba(60, 64, 67, 0.15);\n",
              "      fill: #174EA6;\n",
              "    }\n",
              "\n",
              "    [theme=dark] .colab-df-convert {\n",
              "      background-color: #3B4455;\n",
              "      fill: #D2E3FC;\n",
              "    }\n",
              "\n",
              "    [theme=dark] .colab-df-convert:hover {\n",
              "      background-color: #434B5C;\n",
              "      box-shadow: 0px 1px 3px 1px rgba(0, 0, 0, 0.15);\n",
              "      filter: drop-shadow(0px 1px 2px rgba(0, 0, 0, 0.3));\n",
              "      fill: #FFFFFF;\n",
              "    }\n",
              "  </style>\n",
              "\n",
              "      <script>\n",
              "        const buttonEl =\n",
              "          document.querySelector('#df-3648f0af-814f-4f1d-ad1b-976e43b215d6 button.colab-df-convert');\n",
              "        buttonEl.style.display =\n",
              "          google.colab.kernel.accessAllowed ? 'block' : 'none';\n",
              "\n",
              "        async function convertToInteractive(key) {\n",
              "          const element = document.querySelector('#df-3648f0af-814f-4f1d-ad1b-976e43b215d6');\n",
              "          const dataTable =\n",
              "            await google.colab.kernel.invokeFunction('convertToInteractive',\n",
              "                                                     [key], {});\n",
              "          if (!dataTable) return;\n",
              "\n",
              "          const docLinkHtml = 'Like what you see? Visit the ' +\n",
              "            '<a target=\"_blank\" href=https://colab.research.google.com/notebooks/data_table.ipynb>data table notebook</a>'\n",
              "            + ' to learn more about interactive tables.';\n",
              "          element.innerHTML = '';\n",
              "          dataTable['output_type'] = 'display_data';\n",
              "          await google.colab.output.renderOutput(dataTable, element);\n",
              "          const docLink = document.createElement('div');\n",
              "          docLink.innerHTML = docLinkHtml;\n",
              "          element.appendChild(docLink);\n",
              "        }\n",
              "      </script>\n",
              "    </div>\n",
              "  </div>\n"
            ]
          },
          "metadata": {},
          "execution_count": 20
        }
      ]
    },
    {
      "cell_type": "code",
      "source": [
        "data1.shape # ดูขนาด กี่เเถวกี่หลัก"
      ],
      "metadata": {
        "id": "QQMkd0xvQhvJ",
        "colab": {
          "base_uri": "https://localhost:8080/"
        },
        "outputId": "a905e3d8-6ae7-4196-fa0b-b40838b7e845"
      },
      "execution_count": 10,
      "outputs": [
        {
          "output_type": "execute_result",
          "data": {
            "text/plain": [
              "(692, 9)"
            ]
          },
          "metadata": {},
          "execution_count": 10
        }
      ]
    },
    {
      "cell_type": "code",
      "source": [
        "data1.describe()"
      ],
      "metadata": {
        "colab": {
          "base_uri": "https://localhost:8080/",
          "height": 300
        },
        "id": "nTnEhgEnTMSX",
        "outputId": "e7729d86-1591-4b30-b9b2-ea05994341c8"
      },
      "execution_count": 11,
      "outputs": [
        {
          "output_type": "execute_result",
          "data": {
            "text/plain": [
              "         Issue_No  Fiscal_year  Department_code  Approved_buget\n",
              "count  692.000000   692.000000     6.920000e+02    6.920000e+02\n",
              "mean     0.333815    64.543353     4.534202e+07    1.482811e+06\n",
              "std      0.474972     1.476149     1.303279e+07    2.464625e+06\n",
              "min      0.000000    62.000000     1.100000e+07    0.000000e+00\n",
              "25%      0.000000    63.000000     5.013000e+07    4.100000e+05\n",
              "50%      0.000000    65.000000     5.023000e+07    5.980000e+05\n",
              "75%      1.000000    66.000000     5.036000e+07    1.628250e+06\n",
              "max      2.000000    66.000000     5.050000e+07    2.850000e+07"
            ],
            "text/html": [
              "\n",
              "\n",
              "  <div id=\"df-de9172d3-acca-4518-9486-4c7bebdaf986\">\n",
              "    <div class=\"colab-df-container\">\n",
              "      <div>\n",
              "<style scoped>\n",
              "    .dataframe tbody tr th:only-of-type {\n",
              "        vertical-align: middle;\n",
              "    }\n",
              "\n",
              "    .dataframe tbody tr th {\n",
              "        vertical-align: top;\n",
              "    }\n",
              "\n",
              "    .dataframe thead th {\n",
              "        text-align: right;\n",
              "    }\n",
              "</style>\n",
              "<table border=\"1\" class=\"dataframe\">\n",
              "  <thead>\n",
              "    <tr style=\"text-align: right;\">\n",
              "      <th></th>\n",
              "      <th>Issue_No</th>\n",
              "      <th>Fiscal_year</th>\n",
              "      <th>Department_code</th>\n",
              "      <th>Approved_buget</th>\n",
              "    </tr>\n",
              "  </thead>\n",
              "  <tbody>\n",
              "    <tr>\n",
              "      <th>count</th>\n",
              "      <td>692.000000</td>\n",
              "      <td>692.000000</td>\n",
              "      <td>6.920000e+02</td>\n",
              "      <td>6.920000e+02</td>\n",
              "    </tr>\n",
              "    <tr>\n",
              "      <th>mean</th>\n",
              "      <td>0.333815</td>\n",
              "      <td>64.543353</td>\n",
              "      <td>4.534202e+07</td>\n",
              "      <td>1.482811e+06</td>\n",
              "    </tr>\n",
              "    <tr>\n",
              "      <th>std</th>\n",
              "      <td>0.474972</td>\n",
              "      <td>1.476149</td>\n",
              "      <td>1.303279e+07</td>\n",
              "      <td>2.464625e+06</td>\n",
              "    </tr>\n",
              "    <tr>\n",
              "      <th>min</th>\n",
              "      <td>0.000000</td>\n",
              "      <td>62.000000</td>\n",
              "      <td>1.100000e+07</td>\n",
              "      <td>0.000000e+00</td>\n",
              "    </tr>\n",
              "    <tr>\n",
              "      <th>25%</th>\n",
              "      <td>0.000000</td>\n",
              "      <td>63.000000</td>\n",
              "      <td>5.013000e+07</td>\n",
              "      <td>4.100000e+05</td>\n",
              "    </tr>\n",
              "    <tr>\n",
              "      <th>50%</th>\n",
              "      <td>0.000000</td>\n",
              "      <td>65.000000</td>\n",
              "      <td>5.023000e+07</td>\n",
              "      <td>5.980000e+05</td>\n",
              "    </tr>\n",
              "    <tr>\n",
              "      <th>75%</th>\n",
              "      <td>1.000000</td>\n",
              "      <td>66.000000</td>\n",
              "      <td>5.036000e+07</td>\n",
              "      <td>1.628250e+06</td>\n",
              "    </tr>\n",
              "    <tr>\n",
              "      <th>max</th>\n",
              "      <td>2.000000</td>\n",
              "      <td>66.000000</td>\n",
              "      <td>5.050000e+07</td>\n",
              "      <td>2.850000e+07</td>\n",
              "    </tr>\n",
              "  </tbody>\n",
              "</table>\n",
              "</div>\n",
              "      <button class=\"colab-df-convert\" onclick=\"convertToInteractive('df-de9172d3-acca-4518-9486-4c7bebdaf986')\"\n",
              "              title=\"Convert this dataframe to an interactive table.\"\n",
              "              style=\"display:none;\">\n",
              "\n",
              "  <svg xmlns=\"http://www.w3.org/2000/svg\" height=\"24px\"viewBox=\"0 0 24 24\"\n",
              "       width=\"24px\">\n",
              "    <path d=\"M0 0h24v24H0V0z\" fill=\"none\"/>\n",
              "    <path d=\"M18.56 5.44l.94 2.06.94-2.06 2.06-.94-2.06-.94-.94-2.06-.94 2.06-2.06.94zm-11 1L8.5 8.5l.94-2.06 2.06-.94-2.06-.94L8.5 2.5l-.94 2.06-2.06.94zm10 10l.94 2.06.94-2.06 2.06-.94-2.06-.94-.94-2.06-.94 2.06-2.06.94z\"/><path d=\"M17.41 7.96l-1.37-1.37c-.4-.4-.92-.59-1.43-.59-.52 0-1.04.2-1.43.59L10.3 9.45l-7.72 7.72c-.78.78-.78 2.05 0 2.83L4 21.41c.39.39.9.59 1.41.59.51 0 1.02-.2 1.41-.59l7.78-7.78 2.81-2.81c.8-.78.8-2.07 0-2.86zM5.41 20L4 18.59l7.72-7.72 1.47 1.35L5.41 20z\"/>\n",
              "  </svg>\n",
              "      </button>\n",
              "\n",
              "\n",
              "\n",
              "    <div id=\"df-eddab095-c126-4b9c-a304-31f1cfc4f02f\">\n",
              "      <button class=\"colab-df-quickchart\" onclick=\"quickchart('df-eddab095-c126-4b9c-a304-31f1cfc4f02f')\"\n",
              "              title=\"Suggest charts.\"\n",
              "              style=\"display:none;\">\n",
              "\n",
              "<svg xmlns=\"http://www.w3.org/2000/svg\" height=\"24px\"viewBox=\"0 0 24 24\"\n",
              "     width=\"24px\">\n",
              "    <g>\n",
              "        <path d=\"M19 3H5c-1.1 0-2 .9-2 2v14c0 1.1.9 2 2 2h14c1.1 0 2-.9 2-2V5c0-1.1-.9-2-2-2zM9 17H7v-7h2v7zm4 0h-2V7h2v10zm4 0h-2v-4h2v4z\"/>\n",
              "    </g>\n",
              "</svg>\n",
              "      </button>\n",
              "    </div>\n",
              "\n",
              "<style>\n",
              "  .colab-df-quickchart {\n",
              "    background-color: #E8F0FE;\n",
              "    border: none;\n",
              "    border-radius: 50%;\n",
              "    cursor: pointer;\n",
              "    display: none;\n",
              "    fill: #1967D2;\n",
              "    height: 32px;\n",
              "    padding: 0 0 0 0;\n",
              "    width: 32px;\n",
              "  }\n",
              "\n",
              "  .colab-df-quickchart:hover {\n",
              "    background-color: #E2EBFA;\n",
              "    box-shadow: 0px 1px 2px rgba(60, 64, 67, 0.3), 0px 1px 3px 1px rgba(60, 64, 67, 0.15);\n",
              "    fill: #174EA6;\n",
              "  }\n",
              "\n",
              "  [theme=dark] .colab-df-quickchart {\n",
              "    background-color: #3B4455;\n",
              "    fill: #D2E3FC;\n",
              "  }\n",
              "\n",
              "  [theme=dark] .colab-df-quickchart:hover {\n",
              "    background-color: #434B5C;\n",
              "    box-shadow: 0px 1px 3px 1px rgba(0, 0, 0, 0.15);\n",
              "    filter: drop-shadow(0px 1px 2px rgba(0, 0, 0, 0.3));\n",
              "    fill: #FFFFFF;\n",
              "  }\n",
              "</style>\n",
              "\n",
              "    <script>\n",
              "      async function quickchart(key) {\n",
              "        const containerElement = document.querySelector('#' + key);\n",
              "        const charts = await google.colab.kernel.invokeFunction(\n",
              "            'suggestCharts', [key], {});\n",
              "      }\n",
              "    </script>\n",
              "\n",
              "      <script>\n",
              "\n",
              "function displayQuickchartButton(domScope) {\n",
              "  let quickchartButtonEl =\n",
              "    domScope.querySelector('#df-eddab095-c126-4b9c-a304-31f1cfc4f02f button.colab-df-quickchart');\n",
              "  quickchartButtonEl.style.display =\n",
              "    google.colab.kernel.accessAllowed ? 'block' : 'none';\n",
              "}\n",
              "\n",
              "        displayQuickchartButton(document);\n",
              "      </script>\n",
              "      <style>\n",
              "    .colab-df-container {\n",
              "      display:flex;\n",
              "      flex-wrap:wrap;\n",
              "      gap: 12px;\n",
              "    }\n",
              "\n",
              "    .colab-df-convert {\n",
              "      background-color: #E8F0FE;\n",
              "      border: none;\n",
              "      border-radius: 50%;\n",
              "      cursor: pointer;\n",
              "      display: none;\n",
              "      fill: #1967D2;\n",
              "      height: 32px;\n",
              "      padding: 0 0 0 0;\n",
              "      width: 32px;\n",
              "    }\n",
              "\n",
              "    .colab-df-convert:hover {\n",
              "      background-color: #E2EBFA;\n",
              "      box-shadow: 0px 1px 2px rgba(60, 64, 67, 0.3), 0px 1px 3px 1px rgba(60, 64, 67, 0.15);\n",
              "      fill: #174EA6;\n",
              "    }\n",
              "\n",
              "    [theme=dark] .colab-df-convert {\n",
              "      background-color: #3B4455;\n",
              "      fill: #D2E3FC;\n",
              "    }\n",
              "\n",
              "    [theme=dark] .colab-df-convert:hover {\n",
              "      background-color: #434B5C;\n",
              "      box-shadow: 0px 1px 3px 1px rgba(0, 0, 0, 0.15);\n",
              "      filter: drop-shadow(0px 1px 2px rgba(0, 0, 0, 0.3));\n",
              "      fill: #FFFFFF;\n",
              "    }\n",
              "  </style>\n",
              "\n",
              "      <script>\n",
              "        const buttonEl =\n",
              "          document.querySelector('#df-de9172d3-acca-4518-9486-4c7bebdaf986 button.colab-df-convert');\n",
              "        buttonEl.style.display =\n",
              "          google.colab.kernel.accessAllowed ? 'block' : 'none';\n",
              "\n",
              "        async function convertToInteractive(key) {\n",
              "          const element = document.querySelector('#df-de9172d3-acca-4518-9486-4c7bebdaf986');\n",
              "          const dataTable =\n",
              "            await google.colab.kernel.invokeFunction('convertToInteractive',\n",
              "                                                     [key], {});\n",
              "          if (!dataTable) return;\n",
              "\n",
              "          const docLinkHtml = 'Like what you see? Visit the ' +\n",
              "            '<a target=\"_blank\" href=https://colab.research.google.com/notebooks/data_table.ipynb>data table notebook</a>'\n",
              "            + ' to learn more about interactive tables.';\n",
              "          element.innerHTML = '';\n",
              "          dataTable['output_type'] = 'display_data';\n",
              "          await google.colab.output.renderOutput(dataTable, element);\n",
              "          const docLink = document.createElement('div');\n",
              "          docLink.innerHTML = docLinkHtml;\n",
              "          element.appendChild(docLink);\n",
              "        }\n",
              "      </script>\n",
              "    </div>\n",
              "  </div>\n"
            ]
          },
          "metadata": {},
          "execution_count": 11
        }
      ]
    },
    {
      "cell_type": "markdown",
      "source": [
        "NaN = Not a Number"
      ],
      "metadata": {
        "id": "4GLanX2ocuyZ"
      }
    },
    {
      "cell_type": "markdown",
      "source": [
        "# ชี้ค่าในตาราง (indexing)\n",
        "มุมมองตาราง df [columns],[rows]\n",
        "\n",
        "DF  คือ DataFrame เป็นชื่อ DaTa structure ที่ pandas ใช้"
      ],
      "metadata": {
        "id": "GYQmkd9IdAKj"
      }
    },
    {
      "cell_type": "code",
      "source": [
        "data1['Budget_resource']"
      ],
      "metadata": {
        "colab": {
          "base_uri": "https://localhost:8080/"
        },
        "id": "xDWwYMEJeSsz",
        "outputId": "c2f6054a-1c62-402c-d04a-728e11d3b991"
      },
      "execution_count": 12,
      "outputs": [
        {
          "output_type": "execute_result",
          "data": {
            "text/plain": [
              "0        งบประจำปี\n",
              "1        งบประจำปี\n",
              "2        งบประจำปี\n",
              "3        งบประจำปี\n",
              "4        งบประจำปี\n",
              "          ...     \n",
              "687    งบเพิ่มเติม\n",
              "688    งบเพิ่มเติม\n",
              "689    งบเพิ่มเติม\n",
              "690    งบเพิ่มเติม\n",
              "691    งบเพิ่มเติม\n",
              "Name: Budget_resource, Length: 692, dtype: object"
            ]
          },
          "metadata": {},
          "execution_count": 12
        }
      ]
    },
    {
      "cell_type": "code",
      "source": [
        "data1['Budget_resource'][689]"
      ],
      "metadata": {
        "colab": {
          "base_uri": "https://localhost:8080/",
          "height": 35
        },
        "id": "0AFYyNv-dJEg",
        "outputId": "0d74a964-914e-4201-b2ee-38b14e904f15"
      },
      "execution_count": 13,
      "outputs": [
        {
          "output_type": "execute_result",
          "data": {
            "text/plain": [
              "'งบเพิ่มเติม'"
            ],
            "application/vnd.google.colaboratory.intrinsic+json": {
              "type": "string"
            }
          },
          "metadata": {},
          "execution_count": 13
        }
      ]
    },
    {
      "cell_type": "code",
      "source": [
        "data1['Budget_resource'][-3:-1]  #ใช้ sliได้"
      ],
      "metadata": {
        "colab": {
          "base_uri": "https://localhost:8080/"
        },
        "id": "Jhat6QrI1dp9",
        "outputId": "b4ba2224-47ed-4023-9859-db459f6cd513"
      },
      "execution_count": 14,
      "outputs": [
        {
          "output_type": "execute_result",
          "data": {
            "text/plain": [
              "689    งบเพิ่มเติม\n",
              "690    งบเพิ่มเติม\n",
              "Name: Budget_resource, dtype: object"
            ]
          },
          "metadata": {},
          "execution_count": 14
        }
      ]
    },
    {
      "cell_type": "code",
      "source": [
        "data1.columns"
      ],
      "metadata": {
        "colab": {
          "base_uri": "https://localhost:8080/"
        },
        "id": "9nrm8zhv2Ejl",
        "outputId": "480d03a2-20f6-4846-a881-81fb35efffbb"
      },
      "execution_count": 15,
      "outputs": [
        {
          "output_type": "execute_result",
          "data": {
            "text/plain": [
              "Index(['Budget_resource', 'Issue_No', 'Fiscal_year', 'Department_code',\n",
              "       'Department', 'Core_budget_code', 'Expenditure_category', 'Item_name',\n",
              "       'Approved_buget'],\n",
              "      dtype='object')"
            ]
          },
          "metadata": {},
          "execution_count": 15
        }
      ]
    },
    {
      "cell_type": "code",
      "source": [
        "data1[['Approved_buget','Item_name','Department']]"
      ],
      "metadata": {
        "colab": {
          "base_uri": "https://localhost:8080/",
          "height": 423
        },
        "id": "AQGgRnd-2Qae",
        "outputId": "ce48da42-82e3-437d-f2be-8be8adb55e98"
      },
      "execution_count": 16,
      "outputs": [
        {
          "output_type": "execute_result",
          "data": {
            "text/plain": [
              "     Approved_buget                                          Item_name  \\\n",
              "0           1193000        ขุดลอกคลองบางกะปิจากคลองสามเสนถึงคลองแสนแสบ   \n",
              "1           1100000  ขุดลอกคลองทรงกระเทียมจากคลองลาดพร้าวถึงถนนโชคช...   \n",
              "2           3075000          ขุดลอกคลองเป้งจากคลองแสนแสบถึงซอยเจริญสุข   \n",
              "3           6240000  ขุดลอกคลองลำพังพวยจากถนนศรีบูรพาถึงสถานีสูบน้ำ...   \n",
              "4           2685000  ขุดลอกบึงรางเข้จากคลองพระยาราชมนตรีถึงถนนบางขุ...   \n",
              "..              ...                                                ...   \n",
              "687         3686000                                 ขุดลอกคลองผักกะเฉด   \n",
              "688         2575000                            ขุดลอกคลองบึงทรายกองดิน   \n",
              "689          689000                                  ขุดลอกลำรางซาฟารี   \n",
              "690          464000                                ขุดลอกลำรางตาจันทร์   \n",
              "691         7578000          ขุดลอกคลองบางบอนต่อจากของเดิมถึงคลองนายผล   \n",
              "\n",
              "               Department  \n",
              "0        สำนักการระบายน้ำ  \n",
              "1        สำนักการระบายน้ำ  \n",
              "2        สำนักการระบายน้ำ  \n",
              "3        สำนักการระบายน้ำ  \n",
              "4        สำนักการระบายน้ำ  \n",
              "..                    ...  \n",
              "687  สำนักงานเขตคลองสามวา  \n",
              "688  สำนักงานเขตคลองสามวา  \n",
              "689  สำนักงานเขตคลองสามวา  \n",
              "690  สำนักงานเขตคลองสามวา  \n",
              "691     สำนักงานเขตบางบอน  \n",
              "\n",
              "[692 rows x 3 columns]"
            ],
            "text/html": [
              "\n",
              "\n",
              "  <div id=\"df-993791e5-8cec-4e0e-bad5-d0184e8181a6\">\n",
              "    <div class=\"colab-df-container\">\n",
              "      <div>\n",
              "<style scoped>\n",
              "    .dataframe tbody tr th:only-of-type {\n",
              "        vertical-align: middle;\n",
              "    }\n",
              "\n",
              "    .dataframe tbody tr th {\n",
              "        vertical-align: top;\n",
              "    }\n",
              "\n",
              "    .dataframe thead th {\n",
              "        text-align: right;\n",
              "    }\n",
              "</style>\n",
              "<table border=\"1\" class=\"dataframe\">\n",
              "  <thead>\n",
              "    <tr style=\"text-align: right;\">\n",
              "      <th></th>\n",
              "      <th>Approved_buget</th>\n",
              "      <th>Item_name</th>\n",
              "      <th>Department</th>\n",
              "    </tr>\n",
              "  </thead>\n",
              "  <tbody>\n",
              "    <tr>\n",
              "      <th>0</th>\n",
              "      <td>1193000</td>\n",
              "      <td>ขุดลอกคลองบางกะปิจากคลองสามเสนถึงคลองแสนแสบ</td>\n",
              "      <td>สำนักการระบายน้ำ</td>\n",
              "    </tr>\n",
              "    <tr>\n",
              "      <th>1</th>\n",
              "      <td>1100000</td>\n",
              "      <td>ขุดลอกคลองทรงกระเทียมจากคลองลาดพร้าวถึงถนนโชคช...</td>\n",
              "      <td>สำนักการระบายน้ำ</td>\n",
              "    </tr>\n",
              "    <tr>\n",
              "      <th>2</th>\n",
              "      <td>3075000</td>\n",
              "      <td>ขุดลอกคลองเป้งจากคลองแสนแสบถึงซอยเจริญสุข</td>\n",
              "      <td>สำนักการระบายน้ำ</td>\n",
              "    </tr>\n",
              "    <tr>\n",
              "      <th>3</th>\n",
              "      <td>6240000</td>\n",
              "      <td>ขุดลอกคลองลำพังพวยจากถนนศรีบูรพาถึงสถานีสูบน้ำ...</td>\n",
              "      <td>สำนักการระบายน้ำ</td>\n",
              "    </tr>\n",
              "    <tr>\n",
              "      <th>4</th>\n",
              "      <td>2685000</td>\n",
              "      <td>ขุดลอกบึงรางเข้จากคลองพระยาราชมนตรีถึงถนนบางขุ...</td>\n",
              "      <td>สำนักการระบายน้ำ</td>\n",
              "    </tr>\n",
              "    <tr>\n",
              "      <th>...</th>\n",
              "      <td>...</td>\n",
              "      <td>...</td>\n",
              "      <td>...</td>\n",
              "    </tr>\n",
              "    <tr>\n",
              "      <th>687</th>\n",
              "      <td>3686000</td>\n",
              "      <td>ขุดลอกคลองผักกะเฉด</td>\n",
              "      <td>สำนักงานเขตคลองสามวา</td>\n",
              "    </tr>\n",
              "    <tr>\n",
              "      <th>688</th>\n",
              "      <td>2575000</td>\n",
              "      <td>ขุดลอกคลองบึงทรายกองดิน</td>\n",
              "      <td>สำนักงานเขตคลองสามวา</td>\n",
              "    </tr>\n",
              "    <tr>\n",
              "      <th>689</th>\n",
              "      <td>689000</td>\n",
              "      <td>ขุดลอกลำรางซาฟารี</td>\n",
              "      <td>สำนักงานเขตคลองสามวา</td>\n",
              "    </tr>\n",
              "    <tr>\n",
              "      <th>690</th>\n",
              "      <td>464000</td>\n",
              "      <td>ขุดลอกลำรางตาจันทร์</td>\n",
              "      <td>สำนักงานเขตคลองสามวา</td>\n",
              "    </tr>\n",
              "    <tr>\n",
              "      <th>691</th>\n",
              "      <td>7578000</td>\n",
              "      <td>ขุดลอกคลองบางบอนต่อจากของเดิมถึงคลองนายผล</td>\n",
              "      <td>สำนักงานเขตบางบอน</td>\n",
              "    </tr>\n",
              "  </tbody>\n",
              "</table>\n",
              "<p>692 rows × 3 columns</p>\n",
              "</div>\n",
              "      <button class=\"colab-df-convert\" onclick=\"convertToInteractive('df-993791e5-8cec-4e0e-bad5-d0184e8181a6')\"\n",
              "              title=\"Convert this dataframe to an interactive table.\"\n",
              "              style=\"display:none;\">\n",
              "\n",
              "  <svg xmlns=\"http://www.w3.org/2000/svg\" height=\"24px\"viewBox=\"0 0 24 24\"\n",
              "       width=\"24px\">\n",
              "    <path d=\"M0 0h24v24H0V0z\" fill=\"none\"/>\n",
              "    <path d=\"M18.56 5.44l.94 2.06.94-2.06 2.06-.94-2.06-.94-.94-2.06-.94 2.06-2.06.94zm-11 1L8.5 8.5l.94-2.06 2.06-.94-2.06-.94L8.5 2.5l-.94 2.06-2.06.94zm10 10l.94 2.06.94-2.06 2.06-.94-2.06-.94-.94-2.06-.94 2.06-2.06.94z\"/><path d=\"M17.41 7.96l-1.37-1.37c-.4-.4-.92-.59-1.43-.59-.52 0-1.04.2-1.43.59L10.3 9.45l-7.72 7.72c-.78.78-.78 2.05 0 2.83L4 21.41c.39.39.9.59 1.41.59.51 0 1.02-.2 1.41-.59l7.78-7.78 2.81-2.81c.8-.78.8-2.07 0-2.86zM5.41 20L4 18.59l7.72-7.72 1.47 1.35L5.41 20z\"/>\n",
              "  </svg>\n",
              "      </button>\n",
              "\n",
              "\n",
              "\n",
              "    <div id=\"df-2647a900-67a9-41ab-b744-e6b362033697\">\n",
              "      <button class=\"colab-df-quickchart\" onclick=\"quickchart('df-2647a900-67a9-41ab-b744-e6b362033697')\"\n",
              "              title=\"Suggest charts.\"\n",
              "              style=\"display:none;\">\n",
              "\n",
              "<svg xmlns=\"http://www.w3.org/2000/svg\" height=\"24px\"viewBox=\"0 0 24 24\"\n",
              "     width=\"24px\">\n",
              "    <g>\n",
              "        <path d=\"M19 3H5c-1.1 0-2 .9-2 2v14c0 1.1.9 2 2 2h14c1.1 0 2-.9 2-2V5c0-1.1-.9-2-2-2zM9 17H7v-7h2v7zm4 0h-2V7h2v10zm4 0h-2v-4h2v4z\"/>\n",
              "    </g>\n",
              "</svg>\n",
              "      </button>\n",
              "    </div>\n",
              "\n",
              "<style>\n",
              "  .colab-df-quickchart {\n",
              "    background-color: #E8F0FE;\n",
              "    border: none;\n",
              "    border-radius: 50%;\n",
              "    cursor: pointer;\n",
              "    display: none;\n",
              "    fill: #1967D2;\n",
              "    height: 32px;\n",
              "    padding: 0 0 0 0;\n",
              "    width: 32px;\n",
              "  }\n",
              "\n",
              "  .colab-df-quickchart:hover {\n",
              "    background-color: #E2EBFA;\n",
              "    box-shadow: 0px 1px 2px rgba(60, 64, 67, 0.3), 0px 1px 3px 1px rgba(60, 64, 67, 0.15);\n",
              "    fill: #174EA6;\n",
              "  }\n",
              "\n",
              "  [theme=dark] .colab-df-quickchart {\n",
              "    background-color: #3B4455;\n",
              "    fill: #D2E3FC;\n",
              "  }\n",
              "\n",
              "  [theme=dark] .colab-df-quickchart:hover {\n",
              "    background-color: #434B5C;\n",
              "    box-shadow: 0px 1px 3px 1px rgba(0, 0, 0, 0.15);\n",
              "    filter: drop-shadow(0px 1px 2px rgba(0, 0, 0, 0.3));\n",
              "    fill: #FFFFFF;\n",
              "  }\n",
              "</style>\n",
              "\n",
              "    <script>\n",
              "      async function quickchart(key) {\n",
              "        const containerElement = document.querySelector('#' + key);\n",
              "        const charts = await google.colab.kernel.invokeFunction(\n",
              "            'suggestCharts', [key], {});\n",
              "      }\n",
              "    </script>\n",
              "\n",
              "      <script>\n",
              "\n",
              "function displayQuickchartButton(domScope) {\n",
              "  let quickchartButtonEl =\n",
              "    domScope.querySelector('#df-2647a900-67a9-41ab-b744-e6b362033697 button.colab-df-quickchart');\n",
              "  quickchartButtonEl.style.display =\n",
              "    google.colab.kernel.accessAllowed ? 'block' : 'none';\n",
              "}\n",
              "\n",
              "        displayQuickchartButton(document);\n",
              "      </script>\n",
              "      <style>\n",
              "    .colab-df-container {\n",
              "      display:flex;\n",
              "      flex-wrap:wrap;\n",
              "      gap: 12px;\n",
              "    }\n",
              "\n",
              "    .colab-df-convert {\n",
              "      background-color: #E8F0FE;\n",
              "      border: none;\n",
              "      border-radius: 50%;\n",
              "      cursor: pointer;\n",
              "      display: none;\n",
              "      fill: #1967D2;\n",
              "      height: 32px;\n",
              "      padding: 0 0 0 0;\n",
              "      width: 32px;\n",
              "    }\n",
              "\n",
              "    .colab-df-convert:hover {\n",
              "      background-color: #E2EBFA;\n",
              "      box-shadow: 0px 1px 2px rgba(60, 64, 67, 0.3), 0px 1px 3px 1px rgba(60, 64, 67, 0.15);\n",
              "      fill: #174EA6;\n",
              "    }\n",
              "\n",
              "    [theme=dark] .colab-df-convert {\n",
              "      background-color: #3B4455;\n",
              "      fill: #D2E3FC;\n",
              "    }\n",
              "\n",
              "    [theme=dark] .colab-df-convert:hover {\n",
              "      background-color: #434B5C;\n",
              "      box-shadow: 0px 1px 3px 1px rgba(0, 0, 0, 0.15);\n",
              "      filter: drop-shadow(0px 1px 2px rgba(0, 0, 0, 0.3));\n",
              "      fill: #FFFFFF;\n",
              "    }\n",
              "  </style>\n",
              "\n",
              "      <script>\n",
              "        const buttonEl =\n",
              "          document.querySelector('#df-993791e5-8cec-4e0e-bad5-d0184e8181a6 button.colab-df-convert');\n",
              "        buttonEl.style.display =\n",
              "          google.colab.kernel.accessAllowed ? 'block' : 'none';\n",
              "\n",
              "        async function convertToInteractive(key) {\n",
              "          const element = document.querySelector('#df-993791e5-8cec-4e0e-bad5-d0184e8181a6');\n",
              "          const dataTable =\n",
              "            await google.colab.kernel.invokeFunction('convertToInteractive',\n",
              "                                                     [key], {});\n",
              "          if (!dataTable) return;\n",
              "\n",
              "          const docLinkHtml = 'Like what you see? Visit the ' +\n",
              "            '<a target=\"_blank\" href=https://colab.research.google.com/notebooks/data_table.ipynb>data table notebook</a>'\n",
              "            + ' to learn more about interactive tables.';\n",
              "          element.innerHTML = '';\n",
              "          dataTable['output_type'] = 'display_data';\n",
              "          await google.colab.output.renderOutput(dataTable, element);\n",
              "          const docLink = document.createElement('div');\n",
              "          docLink.innerHTML = docLinkHtml;\n",
              "          element.appendChild(docLink);\n",
              "        }\n",
              "      </script>\n",
              "    </div>\n",
              "  </div>\n"
            ]
          },
          "metadata": {},
          "execution_count": 16
        }
      ]
    },
    {
      "cell_type": "code",
      "source": [
        "data1[['Approved_buget','Item_name','Department']][6:11]"
      ],
      "metadata": {
        "colab": {
          "base_uri": "https://localhost:8080/",
          "height": 206
        },
        "id": "_jyHWa6R26Xu",
        "outputId": "e3c7a032-2174-4843-951f-06ef580bf87d"
      },
      "execution_count": 17,
      "outputs": [
        {
          "output_type": "execute_result",
          "data": {
            "text/plain": [
              "    Approved_buget                                          Item_name  \\\n",
              "6           225400  ขุดลอกลำรางโต๊ะรอด ตั้งแต่คลองสองต้นนุ่นถึงระย...   \n",
              "7           452500  ขุดลอกลำรางเลียบคลองบึงขวาง ตั้งแต่คลองบึงขวาง...   \n",
              "8           447000  ขุดลอกคลองลำแขก จากคลองลำปลาทิว \\nถึงคลองลำตาเ...   \n",
              "9           497000  ขุดลอกคลองอู่ตะเภา จากคลองลำนกแขวก\\nถึงคลองลำม...   \n",
              "10          189500                ขุดลอกลำกระโดงตรงข้ามซอยเพชรเกษม 50   \n",
              "\n",
              "              Department  \n",
              "6     สำนักงานเขตมีนบุรี  \n",
              "7     สำนักงานเขตมีนบุรี  \n",
              "8     สำนักงานเขตหนองจอก  \n",
              "9     สำนักงานเขตหนองจอก  \n",
              "10  สำนักงานเขตภาษีเจริญ  "
            ],
            "text/html": [
              "\n",
              "\n",
              "  <div id=\"df-8245a758-18de-450d-b563-a9f82c38c8f1\">\n",
              "    <div class=\"colab-df-container\">\n",
              "      <div>\n",
              "<style scoped>\n",
              "    .dataframe tbody tr th:only-of-type {\n",
              "        vertical-align: middle;\n",
              "    }\n",
              "\n",
              "    .dataframe tbody tr th {\n",
              "        vertical-align: top;\n",
              "    }\n",
              "\n",
              "    .dataframe thead th {\n",
              "        text-align: right;\n",
              "    }\n",
              "</style>\n",
              "<table border=\"1\" class=\"dataframe\">\n",
              "  <thead>\n",
              "    <tr style=\"text-align: right;\">\n",
              "      <th></th>\n",
              "      <th>Approved_buget</th>\n",
              "      <th>Item_name</th>\n",
              "      <th>Department</th>\n",
              "    </tr>\n",
              "  </thead>\n",
              "  <tbody>\n",
              "    <tr>\n",
              "      <th>6</th>\n",
              "      <td>225400</td>\n",
              "      <td>ขุดลอกลำรางโต๊ะรอด ตั้งแต่คลองสองต้นนุ่นถึงระย...</td>\n",
              "      <td>สำนักงานเขตมีนบุรี</td>\n",
              "    </tr>\n",
              "    <tr>\n",
              "      <th>7</th>\n",
              "      <td>452500</td>\n",
              "      <td>ขุดลอกลำรางเลียบคลองบึงขวาง ตั้งแต่คลองบึงขวาง...</td>\n",
              "      <td>สำนักงานเขตมีนบุรี</td>\n",
              "    </tr>\n",
              "    <tr>\n",
              "      <th>8</th>\n",
              "      <td>447000</td>\n",
              "      <td>ขุดลอกคลองลำแขก จากคลองลำปลาทิว \\nถึงคลองลำตาเ...</td>\n",
              "      <td>สำนักงานเขตหนองจอก</td>\n",
              "    </tr>\n",
              "    <tr>\n",
              "      <th>9</th>\n",
              "      <td>497000</td>\n",
              "      <td>ขุดลอกคลองอู่ตะเภา จากคลองลำนกแขวก\\nถึงคลองลำม...</td>\n",
              "      <td>สำนักงานเขตหนองจอก</td>\n",
              "    </tr>\n",
              "    <tr>\n",
              "      <th>10</th>\n",
              "      <td>189500</td>\n",
              "      <td>ขุดลอกลำกระโดงตรงข้ามซอยเพชรเกษม 50</td>\n",
              "      <td>สำนักงานเขตภาษีเจริญ</td>\n",
              "    </tr>\n",
              "  </tbody>\n",
              "</table>\n",
              "</div>\n",
              "      <button class=\"colab-df-convert\" onclick=\"convertToInteractive('df-8245a758-18de-450d-b563-a9f82c38c8f1')\"\n",
              "              title=\"Convert this dataframe to an interactive table.\"\n",
              "              style=\"display:none;\">\n",
              "\n",
              "  <svg xmlns=\"http://www.w3.org/2000/svg\" height=\"24px\"viewBox=\"0 0 24 24\"\n",
              "       width=\"24px\">\n",
              "    <path d=\"M0 0h24v24H0V0z\" fill=\"none\"/>\n",
              "    <path d=\"M18.56 5.44l.94 2.06.94-2.06 2.06-.94-2.06-.94-.94-2.06-.94 2.06-2.06.94zm-11 1L8.5 8.5l.94-2.06 2.06-.94-2.06-.94L8.5 2.5l-.94 2.06-2.06.94zm10 10l.94 2.06.94-2.06 2.06-.94-2.06-.94-.94-2.06-.94 2.06-2.06.94z\"/><path d=\"M17.41 7.96l-1.37-1.37c-.4-.4-.92-.59-1.43-.59-.52 0-1.04.2-1.43.59L10.3 9.45l-7.72 7.72c-.78.78-.78 2.05 0 2.83L4 21.41c.39.39.9.59 1.41.59.51 0 1.02-.2 1.41-.59l7.78-7.78 2.81-2.81c.8-.78.8-2.07 0-2.86zM5.41 20L4 18.59l7.72-7.72 1.47 1.35L5.41 20z\"/>\n",
              "  </svg>\n",
              "      </button>\n",
              "\n",
              "\n",
              "\n",
              "    <div id=\"df-9788b328-467a-41d5-94db-c1400422baf4\">\n",
              "      <button class=\"colab-df-quickchart\" onclick=\"quickchart('df-9788b328-467a-41d5-94db-c1400422baf4')\"\n",
              "              title=\"Suggest charts.\"\n",
              "              style=\"display:none;\">\n",
              "\n",
              "<svg xmlns=\"http://www.w3.org/2000/svg\" height=\"24px\"viewBox=\"0 0 24 24\"\n",
              "     width=\"24px\">\n",
              "    <g>\n",
              "        <path d=\"M19 3H5c-1.1 0-2 .9-2 2v14c0 1.1.9 2 2 2h14c1.1 0 2-.9 2-2V5c0-1.1-.9-2-2-2zM9 17H7v-7h2v7zm4 0h-2V7h2v10zm4 0h-2v-4h2v4z\"/>\n",
              "    </g>\n",
              "</svg>\n",
              "      </button>\n",
              "    </div>\n",
              "\n",
              "<style>\n",
              "  .colab-df-quickchart {\n",
              "    background-color: #E8F0FE;\n",
              "    border: none;\n",
              "    border-radius: 50%;\n",
              "    cursor: pointer;\n",
              "    display: none;\n",
              "    fill: #1967D2;\n",
              "    height: 32px;\n",
              "    padding: 0 0 0 0;\n",
              "    width: 32px;\n",
              "  }\n",
              "\n",
              "  .colab-df-quickchart:hover {\n",
              "    background-color: #E2EBFA;\n",
              "    box-shadow: 0px 1px 2px rgba(60, 64, 67, 0.3), 0px 1px 3px 1px rgba(60, 64, 67, 0.15);\n",
              "    fill: #174EA6;\n",
              "  }\n",
              "\n",
              "  [theme=dark] .colab-df-quickchart {\n",
              "    background-color: #3B4455;\n",
              "    fill: #D2E3FC;\n",
              "  }\n",
              "\n",
              "  [theme=dark] .colab-df-quickchart:hover {\n",
              "    background-color: #434B5C;\n",
              "    box-shadow: 0px 1px 3px 1px rgba(0, 0, 0, 0.15);\n",
              "    filter: drop-shadow(0px 1px 2px rgba(0, 0, 0, 0.3));\n",
              "    fill: #FFFFFF;\n",
              "  }\n",
              "</style>\n",
              "\n",
              "    <script>\n",
              "      async function quickchart(key) {\n",
              "        const containerElement = document.querySelector('#' + key);\n",
              "        const charts = await google.colab.kernel.invokeFunction(\n",
              "            'suggestCharts', [key], {});\n",
              "      }\n",
              "    </script>\n",
              "\n",
              "      <script>\n",
              "\n",
              "function displayQuickchartButton(domScope) {\n",
              "  let quickchartButtonEl =\n",
              "    domScope.querySelector('#df-9788b328-467a-41d5-94db-c1400422baf4 button.colab-df-quickchart');\n",
              "  quickchartButtonEl.style.display =\n",
              "    google.colab.kernel.accessAllowed ? 'block' : 'none';\n",
              "}\n",
              "\n",
              "        displayQuickchartButton(document);\n",
              "      </script>\n",
              "      <style>\n",
              "    .colab-df-container {\n",
              "      display:flex;\n",
              "      flex-wrap:wrap;\n",
              "      gap: 12px;\n",
              "    }\n",
              "\n",
              "    .colab-df-convert {\n",
              "      background-color: #E8F0FE;\n",
              "      border: none;\n",
              "      border-radius: 50%;\n",
              "      cursor: pointer;\n",
              "      display: none;\n",
              "      fill: #1967D2;\n",
              "      height: 32px;\n",
              "      padding: 0 0 0 0;\n",
              "      width: 32px;\n",
              "    }\n",
              "\n",
              "    .colab-df-convert:hover {\n",
              "      background-color: #E2EBFA;\n",
              "      box-shadow: 0px 1px 2px rgba(60, 64, 67, 0.3), 0px 1px 3px 1px rgba(60, 64, 67, 0.15);\n",
              "      fill: #174EA6;\n",
              "    }\n",
              "\n",
              "    [theme=dark] .colab-df-convert {\n",
              "      background-color: #3B4455;\n",
              "      fill: #D2E3FC;\n",
              "    }\n",
              "\n",
              "    [theme=dark] .colab-df-convert:hover {\n",
              "      background-color: #434B5C;\n",
              "      box-shadow: 0px 1px 3px 1px rgba(0, 0, 0, 0.15);\n",
              "      filter: drop-shadow(0px 1px 2px rgba(0, 0, 0, 0.3));\n",
              "      fill: #FFFFFF;\n",
              "    }\n",
              "  </style>\n",
              "\n",
              "      <script>\n",
              "        const buttonEl =\n",
              "          document.querySelector('#df-8245a758-18de-450d-b563-a9f82c38c8f1 button.colab-df-convert');\n",
              "        buttonEl.style.display =\n",
              "          google.colab.kernel.accessAllowed ? 'block' : 'none';\n",
              "\n",
              "        async function convertToInteractive(key) {\n",
              "          const element = document.querySelector('#df-8245a758-18de-450d-b563-a9f82c38c8f1');\n",
              "          const dataTable =\n",
              "            await google.colab.kernel.invokeFunction('convertToInteractive',\n",
              "                                                     [key], {});\n",
              "          if (!dataTable) return;\n",
              "\n",
              "          const docLinkHtml = 'Like what you see? Visit the ' +\n",
              "            '<a target=\"_blank\" href=https://colab.research.google.com/notebooks/data_table.ipynb>data table notebook</a>'\n",
              "            + ' to learn more about interactive tables.';\n",
              "          element.innerHTML = '';\n",
              "          dataTable['output_type'] = 'display_data';\n",
              "          await google.colab.output.renderOutput(dataTable, element);\n",
              "          const docLink = document.createElement('div');\n",
              "          docLink.innerHTML = docLinkHtml;\n",
              "          element.appendChild(docLink);\n",
              "        }\n",
              "      </script>\n",
              "    </div>\n",
              "  </div>\n"
            ]
          },
          "metadata": {},
          "execution_count": 17
        }
      ]
    },
    {
      "cell_type": "code",
      "source": [
        " data1.iloc[42619,5] # .iloc เปลี่ยนมุมมองเป็น np.arry  ชี้เป็นเเถว คอลัม ติดลบ สไลด์ได้"
      ],
      "metadata": {
        "colab": {
          "base_uri": "https://localhost:8080/",
          "height": 312
        },
        "id": "g1CFntgVeC8v",
        "outputId": "53d144cf-0918-4b6e-b6d7-ff324f6fe72c"
      },
      "execution_count": 35,
      "outputs": [
        {
          "output_type": "error",
          "ename": "IndexError",
          "evalue": "ignored",
          "traceback": [
            "\u001b[0;31m---------------------------------------------------------------------------\u001b[0m",
            "\u001b[0;31mIndexError\u001b[0m                                Traceback (most recent call last)",
            "\u001b[0;32m<ipython-input-35-7d751161a01b>\u001b[0m in \u001b[0;36m<cell line: 1>\u001b[0;34m()\u001b[0m\n\u001b[0;32m----> 1\u001b[0;31m \u001b[0mdata1\u001b[0m\u001b[0;34m.\u001b[0m\u001b[0miloc\u001b[0m\u001b[0;34m[\u001b[0m\u001b[0;36m42619\u001b[0m\u001b[0;34m,\u001b[0m\u001b[0;36m5\u001b[0m\u001b[0;34m]\u001b[0m \u001b[0;31m# .iloc เปลี่ยนมุมมองเป็น np.arry  ชี้เป็นเเถว คอลัม ติดลบ สไลด์ได้\u001b[0m\u001b[0;34m\u001b[0m\u001b[0;34m\u001b[0m\u001b[0m\n\u001b[0m",
            "\u001b[0;32m/usr/local/lib/python3.10/dist-packages/pandas/core/indexing.py\u001b[0m in \u001b[0;36m__getitem__\u001b[0;34m(self, key)\u001b[0m\n\u001b[1;32m   1064\u001b[0m             \u001b[0mkey\u001b[0m \u001b[0;34m=\u001b[0m \u001b[0mtuple\u001b[0m\u001b[0;34m(\u001b[0m\u001b[0mcom\u001b[0m\u001b[0;34m.\u001b[0m\u001b[0mapply_if_callable\u001b[0m\u001b[0;34m(\u001b[0m\u001b[0mx\u001b[0m\u001b[0;34m,\u001b[0m \u001b[0mself\u001b[0m\u001b[0;34m.\u001b[0m\u001b[0mobj\u001b[0m\u001b[0;34m)\u001b[0m \u001b[0;32mfor\u001b[0m \u001b[0mx\u001b[0m \u001b[0;32min\u001b[0m \u001b[0mkey\u001b[0m\u001b[0;34m)\u001b[0m\u001b[0;34m\u001b[0m\u001b[0;34m\u001b[0m\u001b[0m\n\u001b[1;32m   1065\u001b[0m             \u001b[0;32mif\u001b[0m \u001b[0mself\u001b[0m\u001b[0;34m.\u001b[0m\u001b[0m_is_scalar_access\u001b[0m\u001b[0;34m(\u001b[0m\u001b[0mkey\u001b[0m\u001b[0;34m)\u001b[0m\u001b[0;34m:\u001b[0m\u001b[0;34m\u001b[0m\u001b[0;34m\u001b[0m\u001b[0m\n\u001b[0;32m-> 1066\u001b[0;31m                 \u001b[0;32mreturn\u001b[0m \u001b[0mself\u001b[0m\u001b[0;34m.\u001b[0m\u001b[0mobj\u001b[0m\u001b[0;34m.\u001b[0m\u001b[0m_get_value\u001b[0m\u001b[0;34m(\u001b[0m\u001b[0;34m*\u001b[0m\u001b[0mkey\u001b[0m\u001b[0;34m,\u001b[0m \u001b[0mtakeable\u001b[0m\u001b[0;34m=\u001b[0m\u001b[0mself\u001b[0m\u001b[0;34m.\u001b[0m\u001b[0m_takeable\u001b[0m\u001b[0;34m)\u001b[0m\u001b[0;34m\u001b[0m\u001b[0;34m\u001b[0m\u001b[0m\n\u001b[0m\u001b[1;32m   1067\u001b[0m             \u001b[0;32mreturn\u001b[0m \u001b[0mself\u001b[0m\u001b[0;34m.\u001b[0m\u001b[0m_getitem_tuple\u001b[0m\u001b[0;34m(\u001b[0m\u001b[0mkey\u001b[0m\u001b[0;34m)\u001b[0m\u001b[0;34m\u001b[0m\u001b[0;34m\u001b[0m\u001b[0m\n\u001b[1;32m   1068\u001b[0m         \u001b[0;32melse\u001b[0m\u001b[0;34m:\u001b[0m\u001b[0;34m\u001b[0m\u001b[0;34m\u001b[0m\u001b[0m\n",
            "\u001b[0;32m/usr/local/lib/python3.10/dist-packages/pandas/core/frame.py\u001b[0m in \u001b[0;36m_get_value\u001b[0;34m(self, index, col, takeable)\u001b[0m\n\u001b[1;32m   3913\u001b[0m         \u001b[0;32mif\u001b[0m \u001b[0mtakeable\u001b[0m\u001b[0;34m:\u001b[0m\u001b[0;34m\u001b[0m\u001b[0;34m\u001b[0m\u001b[0m\n\u001b[1;32m   3914\u001b[0m             \u001b[0mseries\u001b[0m \u001b[0;34m=\u001b[0m \u001b[0mself\u001b[0m\u001b[0;34m.\u001b[0m\u001b[0m_ixs\u001b[0m\u001b[0;34m(\u001b[0m\u001b[0mcol\u001b[0m\u001b[0;34m,\u001b[0m \u001b[0maxis\u001b[0m\u001b[0;34m=\u001b[0m\u001b[0;36m1\u001b[0m\u001b[0;34m)\u001b[0m\u001b[0;34m\u001b[0m\u001b[0;34m\u001b[0m\u001b[0m\n\u001b[0;32m-> 3915\u001b[0;31m             \u001b[0;32mreturn\u001b[0m \u001b[0mseries\u001b[0m\u001b[0;34m.\u001b[0m\u001b[0m_values\u001b[0m\u001b[0;34m[\u001b[0m\u001b[0mindex\u001b[0m\u001b[0;34m]\u001b[0m\u001b[0;34m\u001b[0m\u001b[0;34m\u001b[0m\u001b[0m\n\u001b[0m\u001b[1;32m   3916\u001b[0m \u001b[0;34m\u001b[0m\u001b[0m\n\u001b[1;32m   3917\u001b[0m         \u001b[0mseries\u001b[0m \u001b[0;34m=\u001b[0m \u001b[0mself\u001b[0m\u001b[0;34m.\u001b[0m\u001b[0m_get_item_cache\u001b[0m\u001b[0;34m(\u001b[0m\u001b[0mcol\u001b[0m\u001b[0;34m)\u001b[0m\u001b[0;34m\u001b[0m\u001b[0;34m\u001b[0m\u001b[0m\n",
            "\u001b[0;31mIndexError\u001b[0m: index 42619 is out of bounds for axis 0 with size 692"
          ]
        }
      ]
    },
    {
      "cell_type": "markdown",
      "source": [
        "# มุมมอง แบบ Array\n"
      ],
      "metadata": {
        "id": "GxrIojID4A29"
      }
    },
    {
      "cell_type": "code",
      "source": [
        " data1.iloc[0,0]  #.ioc เปลี่ยนมุมมองเป็น np.array ชี้เป็นแถว คอลัม ติดลบ"
      ],
      "metadata": {
        "id": "Rob2z77HeqMx"
      },
      "execution_count": null,
      "outputs": []
    },
    {
      "cell_type": "code",
      "source": [],
      "metadata": {
        "id": "ATrLrj0U33sv"
      },
      "execution_count": null,
      "outputs": []
    },
    {
      "cell_type": "markdown",
      "source": [
        "# Table Slicing\n",
        "ไม่ค่อยมีประสิทธิภาพ\n",
        "ต้องทราบพิกัด"
      ],
      "metadata": {
        "id": "C503gqEWeuuj"
      }
    },
    {
      "cell_type": "code",
      "source": [
        "data1.iloc[-20 :,7:10]"
      ],
      "metadata": {
        "id": "jblMyFWufTfW"
      },
      "execution_count": null,
      "outputs": []
    },
    {
      "cell_type": "markdown",
      "source": [],
      "metadata": {
        "id": "3001Ij6h6XEl"
      }
    },
    {
      "cell_type": "markdown",
      "source": [
        "\n",
        "## table Query\n",
        "\n",
        "ค้นข้อมูลในตารางได้"
      ],
      "metadata": {
        "id": "h9oTu2hKgMBK"
      }
    },
    {
      "cell_type": "markdown",
      "source": [
        "#### อยากได้รายการที่ได้รับอนุมัติงบที่ใช้โน๊ตเกิน 1 ล้านบาท\n",
        "\n",
        "\n",
        "``` df[logic] ``` โดยที่ logics จะต้องมีจำนวนสมาชิกเท่ากับจำนวนแถวของ df\n",
        "\n"
      ],
      "metadata": {
        "id": "xn0bw3Kv50oW"
      }
    },
    {
      "cell_type": "code",
      "source": [
        "small_df= data1.iloc[-5:,:]\n",
        "small_df"
      ],
      "metadata": {
        "colab": {
          "base_uri": "https://localhost:8080/",
          "height": 426
        },
        "id": "qWyFwYA66sOG",
        "outputId": "443be0a4-80df-4b23-8598-7495b91d685d"
      },
      "execution_count": 38,
      "outputs": [
        {
          "output_type": "execute_result",
          "data": {
            "text/plain": [
              "    Budget_resource  Issue_No  Fiscal_year  Department_code  \\\n",
              "687     งบเพิ่มเติม         1           66         50460000   \n",
              "688     งบเพิ่มเติม         1           66         50460000   \n",
              "689     งบเพิ่มเติม         1           66         50460000   \n",
              "690     งบเพิ่มเติม         1           66         50460000   \n",
              "691     งบเพิ่มเติม         1           66         50500000   \n",
              "\n",
              "               Department Core_budget_code Expenditure_category  \\\n",
              "687  สำนักงานเขตคลองสามวา              NaN              งบลงทุน   \n",
              "688  สำนักงานเขตคลองสามวา              NaN              งบลงทุน   \n",
              "689  สำนักงานเขตคลองสามวา              NaN              งบลงทุน   \n",
              "690  สำนักงานเขตคลองสามวา              NaN              งบลงทุน   \n",
              "691     สำนักงานเขตบางบอน              NaN              งบลงทุน   \n",
              "\n",
              "                                     Item_name  Approved_buget  \n",
              "687                         ขุดลอกคลองผักกะเฉด         3686000  \n",
              "688                    ขุดลอกคลองบึงทรายกองดิน         2575000  \n",
              "689                          ขุดลอกลำรางซาฟารี          689000  \n",
              "690                        ขุดลอกลำรางตาจันทร์          464000  \n",
              "691  ขุดลอกคลองบางบอนต่อจากของเดิมถึงคลองนายผล         7578000  "
            ],
            "text/html": [
              "\n",
              "\n",
              "  <div id=\"df-94d09a2b-62cb-49a2-a91d-64434b890e60\">\n",
              "    <div class=\"colab-df-container\">\n",
              "      <div>\n",
              "<style scoped>\n",
              "    .dataframe tbody tr th:only-of-type {\n",
              "        vertical-align: middle;\n",
              "    }\n",
              "\n",
              "    .dataframe tbody tr th {\n",
              "        vertical-align: top;\n",
              "    }\n",
              "\n",
              "    .dataframe thead th {\n",
              "        text-align: right;\n",
              "    }\n",
              "</style>\n",
              "<table border=\"1\" class=\"dataframe\">\n",
              "  <thead>\n",
              "    <tr style=\"text-align: right;\">\n",
              "      <th></th>\n",
              "      <th>Budget_resource</th>\n",
              "      <th>Issue_No</th>\n",
              "      <th>Fiscal_year</th>\n",
              "      <th>Department_code</th>\n",
              "      <th>Department</th>\n",
              "      <th>Core_budget_code</th>\n",
              "      <th>Expenditure_category</th>\n",
              "      <th>Item_name</th>\n",
              "      <th>Approved_buget</th>\n",
              "    </tr>\n",
              "  </thead>\n",
              "  <tbody>\n",
              "    <tr>\n",
              "      <th>687</th>\n",
              "      <td>งบเพิ่มเติม</td>\n",
              "      <td>1</td>\n",
              "      <td>66</td>\n",
              "      <td>50460000</td>\n",
              "      <td>สำนักงานเขตคลองสามวา</td>\n",
              "      <td>NaN</td>\n",
              "      <td>งบลงทุน</td>\n",
              "      <td>ขุดลอกคลองผักกะเฉด</td>\n",
              "      <td>3686000</td>\n",
              "    </tr>\n",
              "    <tr>\n",
              "      <th>688</th>\n",
              "      <td>งบเพิ่มเติม</td>\n",
              "      <td>1</td>\n",
              "      <td>66</td>\n",
              "      <td>50460000</td>\n",
              "      <td>สำนักงานเขตคลองสามวา</td>\n",
              "      <td>NaN</td>\n",
              "      <td>งบลงทุน</td>\n",
              "      <td>ขุดลอกคลองบึงทรายกองดิน</td>\n",
              "      <td>2575000</td>\n",
              "    </tr>\n",
              "    <tr>\n",
              "      <th>689</th>\n",
              "      <td>งบเพิ่มเติม</td>\n",
              "      <td>1</td>\n",
              "      <td>66</td>\n",
              "      <td>50460000</td>\n",
              "      <td>สำนักงานเขตคลองสามวา</td>\n",
              "      <td>NaN</td>\n",
              "      <td>งบลงทุน</td>\n",
              "      <td>ขุดลอกลำรางซาฟารี</td>\n",
              "      <td>689000</td>\n",
              "    </tr>\n",
              "    <tr>\n",
              "      <th>690</th>\n",
              "      <td>งบเพิ่มเติม</td>\n",
              "      <td>1</td>\n",
              "      <td>66</td>\n",
              "      <td>50460000</td>\n",
              "      <td>สำนักงานเขตคลองสามวา</td>\n",
              "      <td>NaN</td>\n",
              "      <td>งบลงทุน</td>\n",
              "      <td>ขุดลอกลำรางตาจันทร์</td>\n",
              "      <td>464000</td>\n",
              "    </tr>\n",
              "    <tr>\n",
              "      <th>691</th>\n",
              "      <td>งบเพิ่มเติม</td>\n",
              "      <td>1</td>\n",
              "      <td>66</td>\n",
              "      <td>50500000</td>\n",
              "      <td>สำนักงานเขตบางบอน</td>\n",
              "      <td>NaN</td>\n",
              "      <td>งบลงทุน</td>\n",
              "      <td>ขุดลอกคลองบางบอนต่อจากของเดิมถึงคลองนายผล</td>\n",
              "      <td>7578000</td>\n",
              "    </tr>\n",
              "  </tbody>\n",
              "</table>\n",
              "</div>\n",
              "      <button class=\"colab-df-convert\" onclick=\"convertToInteractive('df-94d09a2b-62cb-49a2-a91d-64434b890e60')\"\n",
              "              title=\"Convert this dataframe to an interactive table.\"\n",
              "              style=\"display:none;\">\n",
              "\n",
              "  <svg xmlns=\"http://www.w3.org/2000/svg\" height=\"24px\"viewBox=\"0 0 24 24\"\n",
              "       width=\"24px\">\n",
              "    <path d=\"M0 0h24v24H0V0z\" fill=\"none\"/>\n",
              "    <path d=\"M18.56 5.44l.94 2.06.94-2.06 2.06-.94-2.06-.94-.94-2.06-.94 2.06-2.06.94zm-11 1L8.5 8.5l.94-2.06 2.06-.94-2.06-.94L8.5 2.5l-.94 2.06-2.06.94zm10 10l.94 2.06.94-2.06 2.06-.94-2.06-.94-.94-2.06-.94 2.06-2.06.94z\"/><path d=\"M17.41 7.96l-1.37-1.37c-.4-.4-.92-.59-1.43-.59-.52 0-1.04.2-1.43.59L10.3 9.45l-7.72 7.72c-.78.78-.78 2.05 0 2.83L4 21.41c.39.39.9.59 1.41.59.51 0 1.02-.2 1.41-.59l7.78-7.78 2.81-2.81c.8-.78.8-2.07 0-2.86zM5.41 20L4 18.59l7.72-7.72 1.47 1.35L5.41 20z\"/>\n",
              "  </svg>\n",
              "      </button>\n",
              "\n",
              "\n",
              "\n",
              "    <div id=\"df-1070d02c-3f7b-4a7a-ba5e-4dae3c590011\">\n",
              "      <button class=\"colab-df-quickchart\" onclick=\"quickchart('df-1070d02c-3f7b-4a7a-ba5e-4dae3c590011')\"\n",
              "              title=\"Suggest charts.\"\n",
              "              style=\"display:none;\">\n",
              "\n",
              "<svg xmlns=\"http://www.w3.org/2000/svg\" height=\"24px\"viewBox=\"0 0 24 24\"\n",
              "     width=\"24px\">\n",
              "    <g>\n",
              "        <path d=\"M19 3H5c-1.1 0-2 .9-2 2v14c0 1.1.9 2 2 2h14c1.1 0 2-.9 2-2V5c0-1.1-.9-2-2-2zM9 17H7v-7h2v7zm4 0h-2V7h2v10zm4 0h-2v-4h2v4z\"/>\n",
              "    </g>\n",
              "</svg>\n",
              "      </button>\n",
              "    </div>\n",
              "\n",
              "<style>\n",
              "  .colab-df-quickchart {\n",
              "    background-color: #E8F0FE;\n",
              "    border: none;\n",
              "    border-radius: 50%;\n",
              "    cursor: pointer;\n",
              "    display: none;\n",
              "    fill: #1967D2;\n",
              "    height: 32px;\n",
              "    padding: 0 0 0 0;\n",
              "    width: 32px;\n",
              "  }\n",
              "\n",
              "  .colab-df-quickchart:hover {\n",
              "    background-color: #E2EBFA;\n",
              "    box-shadow: 0px 1px 2px rgba(60, 64, 67, 0.3), 0px 1px 3px 1px rgba(60, 64, 67, 0.15);\n",
              "    fill: #174EA6;\n",
              "  }\n",
              "\n",
              "  [theme=dark] .colab-df-quickchart {\n",
              "    background-color: #3B4455;\n",
              "    fill: #D2E3FC;\n",
              "  }\n",
              "\n",
              "  [theme=dark] .colab-df-quickchart:hover {\n",
              "    background-color: #434B5C;\n",
              "    box-shadow: 0px 1px 3px 1px rgba(0, 0, 0, 0.15);\n",
              "    filter: drop-shadow(0px 1px 2px rgba(0, 0, 0, 0.3));\n",
              "    fill: #FFFFFF;\n",
              "  }\n",
              "</style>\n",
              "\n",
              "    <script>\n",
              "      async function quickchart(key) {\n",
              "        const containerElement = document.querySelector('#' + key);\n",
              "        const charts = await google.colab.kernel.invokeFunction(\n",
              "            'suggestCharts', [key], {});\n",
              "      }\n",
              "    </script>\n",
              "\n",
              "      <script>\n",
              "\n",
              "function displayQuickchartButton(domScope) {\n",
              "  let quickchartButtonEl =\n",
              "    domScope.querySelector('#df-1070d02c-3f7b-4a7a-ba5e-4dae3c590011 button.colab-df-quickchart');\n",
              "  quickchartButtonEl.style.display =\n",
              "    google.colab.kernel.accessAllowed ? 'block' : 'none';\n",
              "}\n",
              "\n",
              "        displayQuickchartButton(document);\n",
              "      </script>\n",
              "      <style>\n",
              "    .colab-df-container {\n",
              "      display:flex;\n",
              "      flex-wrap:wrap;\n",
              "      gap: 12px;\n",
              "    }\n",
              "\n",
              "    .colab-df-convert {\n",
              "      background-color: #E8F0FE;\n",
              "      border: none;\n",
              "      border-radius: 50%;\n",
              "      cursor: pointer;\n",
              "      display: none;\n",
              "      fill: #1967D2;\n",
              "      height: 32px;\n",
              "      padding: 0 0 0 0;\n",
              "      width: 32px;\n",
              "    }\n",
              "\n",
              "    .colab-df-convert:hover {\n",
              "      background-color: #E2EBFA;\n",
              "      box-shadow: 0px 1px 2px rgba(60, 64, 67, 0.3), 0px 1px 3px 1px rgba(60, 64, 67, 0.15);\n",
              "      fill: #174EA6;\n",
              "    }\n",
              "\n",
              "    [theme=dark] .colab-df-convert {\n",
              "      background-color: #3B4455;\n",
              "      fill: #D2E3FC;\n",
              "    }\n",
              "\n",
              "    [theme=dark] .colab-df-convert:hover {\n",
              "      background-color: #434B5C;\n",
              "      box-shadow: 0px 1px 3px 1px rgba(0, 0, 0, 0.15);\n",
              "      filter: drop-shadow(0px 1px 2px rgba(0, 0, 0, 0.3));\n",
              "      fill: #FFFFFF;\n",
              "    }\n",
              "  </style>\n",
              "\n",
              "      <script>\n",
              "        const buttonEl =\n",
              "          document.querySelector('#df-94d09a2b-62cb-49a2-a91d-64434b890e60 button.colab-df-convert');\n",
              "        buttonEl.style.display =\n",
              "          google.colab.kernel.accessAllowed ? 'block' : 'none';\n",
              "\n",
              "        async function convertToInteractive(key) {\n",
              "          const element = document.querySelector('#df-94d09a2b-62cb-49a2-a91d-64434b890e60');\n",
              "          const dataTable =\n",
              "            await google.colab.kernel.invokeFunction('convertToInteractive',\n",
              "                                                     [key], {});\n",
              "          if (!dataTable) return;\n",
              "\n",
              "          const docLinkHtml = 'Like what you see? Visit the ' +\n",
              "            '<a target=\"_blank\" href=https://colab.research.google.com/notebooks/data_table.ipynb>data table notebook</a>'\n",
              "            + ' to learn more about interactive tables.';\n",
              "          element.innerHTML = '';\n",
              "          dataTable['output_type'] = 'display_data';\n",
              "          await google.colab.output.renderOutput(dataTable, element);\n",
              "          const docLink = document.createElement('div');\n",
              "          docLink.innerHTML = docLinkHtml;\n",
              "          element.appendChild(docLink);\n",
              "        }\n",
              "      </script>\n",
              "    </div>\n",
              "  </div>\n"
            ]
          },
          "metadata": {},
          "execution_count": 38
        }
      ]
    },
    {
      "cell_type": "code",
      "source": [
        "small_df[[False,True,True,False,False]]  #######สนใจตัวไหน เริ่มนับตัวที่ 0 จากข้อด้านบน\n"
      ],
      "metadata": {
        "colab": {
          "base_uri": "https://localhost:8080/",
          "height": 228
        },
        "id": "_scNlKVu6sLH",
        "outputId": "acd892f3-e681-4e98-d146-bf03ac5e161b"
      },
      "execution_count": 40,
      "outputs": [
        {
          "output_type": "execute_result",
          "data": {
            "text/plain": [
              "    Budget_resource  Issue_No  Fiscal_year  Department_code  \\\n",
              "688     งบเพิ่มเติม         1           66         50460000   \n",
              "689     งบเพิ่มเติม         1           66         50460000   \n",
              "\n",
              "               Department Core_budget_code Expenditure_category  \\\n",
              "688  สำนักงานเขตคลองสามวา              NaN              งบลงทุน   \n",
              "689  สำนักงานเขตคลองสามวา              NaN              งบลงทุน   \n",
              "\n",
              "                   Item_name  Approved_buget  \n",
              "688  ขุดลอกคลองบึงทรายกองดิน         2575000  \n",
              "689        ขุดลอกลำรางซาฟารี          689000  "
            ],
            "text/html": [
              "\n",
              "\n",
              "  <div id=\"df-87619c30-f92f-4114-8c63-5176f37c92fc\">\n",
              "    <div class=\"colab-df-container\">\n",
              "      <div>\n",
              "<style scoped>\n",
              "    .dataframe tbody tr th:only-of-type {\n",
              "        vertical-align: middle;\n",
              "    }\n",
              "\n",
              "    .dataframe tbody tr th {\n",
              "        vertical-align: top;\n",
              "    }\n",
              "\n",
              "    .dataframe thead th {\n",
              "        text-align: right;\n",
              "    }\n",
              "</style>\n",
              "<table border=\"1\" class=\"dataframe\">\n",
              "  <thead>\n",
              "    <tr style=\"text-align: right;\">\n",
              "      <th></th>\n",
              "      <th>Budget_resource</th>\n",
              "      <th>Issue_No</th>\n",
              "      <th>Fiscal_year</th>\n",
              "      <th>Department_code</th>\n",
              "      <th>Department</th>\n",
              "      <th>Core_budget_code</th>\n",
              "      <th>Expenditure_category</th>\n",
              "      <th>Item_name</th>\n",
              "      <th>Approved_buget</th>\n",
              "    </tr>\n",
              "  </thead>\n",
              "  <tbody>\n",
              "    <tr>\n",
              "      <th>688</th>\n",
              "      <td>งบเพิ่มเติม</td>\n",
              "      <td>1</td>\n",
              "      <td>66</td>\n",
              "      <td>50460000</td>\n",
              "      <td>สำนักงานเขตคลองสามวา</td>\n",
              "      <td>NaN</td>\n",
              "      <td>งบลงทุน</td>\n",
              "      <td>ขุดลอกคลองบึงทรายกองดิน</td>\n",
              "      <td>2575000</td>\n",
              "    </tr>\n",
              "    <tr>\n",
              "      <th>689</th>\n",
              "      <td>งบเพิ่มเติม</td>\n",
              "      <td>1</td>\n",
              "      <td>66</td>\n",
              "      <td>50460000</td>\n",
              "      <td>สำนักงานเขตคลองสามวา</td>\n",
              "      <td>NaN</td>\n",
              "      <td>งบลงทุน</td>\n",
              "      <td>ขุดลอกลำรางซาฟารี</td>\n",
              "      <td>689000</td>\n",
              "    </tr>\n",
              "  </tbody>\n",
              "</table>\n",
              "</div>\n",
              "      <button class=\"colab-df-convert\" onclick=\"convertToInteractive('df-87619c30-f92f-4114-8c63-5176f37c92fc')\"\n",
              "              title=\"Convert this dataframe to an interactive table.\"\n",
              "              style=\"display:none;\">\n",
              "\n",
              "  <svg xmlns=\"http://www.w3.org/2000/svg\" height=\"24px\"viewBox=\"0 0 24 24\"\n",
              "       width=\"24px\">\n",
              "    <path d=\"M0 0h24v24H0V0z\" fill=\"none\"/>\n",
              "    <path d=\"M18.56 5.44l.94 2.06.94-2.06 2.06-.94-2.06-.94-.94-2.06-.94 2.06-2.06.94zm-11 1L8.5 8.5l.94-2.06 2.06-.94-2.06-.94L8.5 2.5l-.94 2.06-2.06.94zm10 10l.94 2.06.94-2.06 2.06-.94-2.06-.94-.94-2.06-.94 2.06-2.06.94z\"/><path d=\"M17.41 7.96l-1.37-1.37c-.4-.4-.92-.59-1.43-.59-.52 0-1.04.2-1.43.59L10.3 9.45l-7.72 7.72c-.78.78-.78 2.05 0 2.83L4 21.41c.39.39.9.59 1.41.59.51 0 1.02-.2 1.41-.59l7.78-7.78 2.81-2.81c.8-.78.8-2.07 0-2.86zM5.41 20L4 18.59l7.72-7.72 1.47 1.35L5.41 20z\"/>\n",
              "  </svg>\n",
              "      </button>\n",
              "\n",
              "\n",
              "\n",
              "    <div id=\"df-f7bebb28-f245-441f-ac7e-8816f1d00185\">\n",
              "      <button class=\"colab-df-quickchart\" onclick=\"quickchart('df-f7bebb28-f245-441f-ac7e-8816f1d00185')\"\n",
              "              title=\"Suggest charts.\"\n",
              "              style=\"display:none;\">\n",
              "\n",
              "<svg xmlns=\"http://www.w3.org/2000/svg\" height=\"24px\"viewBox=\"0 0 24 24\"\n",
              "     width=\"24px\">\n",
              "    <g>\n",
              "        <path d=\"M19 3H5c-1.1 0-2 .9-2 2v14c0 1.1.9 2 2 2h14c1.1 0 2-.9 2-2V5c0-1.1-.9-2-2-2zM9 17H7v-7h2v7zm4 0h-2V7h2v10zm4 0h-2v-4h2v4z\"/>\n",
              "    </g>\n",
              "</svg>\n",
              "      </button>\n",
              "    </div>\n",
              "\n",
              "<style>\n",
              "  .colab-df-quickchart {\n",
              "    background-color: #E8F0FE;\n",
              "    border: none;\n",
              "    border-radius: 50%;\n",
              "    cursor: pointer;\n",
              "    display: none;\n",
              "    fill: #1967D2;\n",
              "    height: 32px;\n",
              "    padding: 0 0 0 0;\n",
              "    width: 32px;\n",
              "  }\n",
              "\n",
              "  .colab-df-quickchart:hover {\n",
              "    background-color: #E2EBFA;\n",
              "    box-shadow: 0px 1px 2px rgba(60, 64, 67, 0.3), 0px 1px 3px 1px rgba(60, 64, 67, 0.15);\n",
              "    fill: #174EA6;\n",
              "  }\n",
              "\n",
              "  [theme=dark] .colab-df-quickchart {\n",
              "    background-color: #3B4455;\n",
              "    fill: #D2E3FC;\n",
              "  }\n",
              "\n",
              "  [theme=dark] .colab-df-quickchart:hover {\n",
              "    background-color: #434B5C;\n",
              "    box-shadow: 0px 1px 3px 1px rgba(0, 0, 0, 0.15);\n",
              "    filter: drop-shadow(0px 1px 2px rgba(0, 0, 0, 0.3));\n",
              "    fill: #FFFFFF;\n",
              "  }\n",
              "</style>\n",
              "\n",
              "    <script>\n",
              "      async function quickchart(key) {\n",
              "        const containerElement = document.querySelector('#' + key);\n",
              "        const charts = await google.colab.kernel.invokeFunction(\n",
              "            'suggestCharts', [key], {});\n",
              "      }\n",
              "    </script>\n",
              "\n",
              "      <script>\n",
              "\n",
              "function displayQuickchartButton(domScope) {\n",
              "  let quickchartButtonEl =\n",
              "    domScope.querySelector('#df-f7bebb28-f245-441f-ac7e-8816f1d00185 button.colab-df-quickchart');\n",
              "  quickchartButtonEl.style.display =\n",
              "    google.colab.kernel.accessAllowed ? 'block' : 'none';\n",
              "}\n",
              "\n",
              "        displayQuickchartButton(document);\n",
              "      </script>\n",
              "      <style>\n",
              "    .colab-df-container {\n",
              "      display:flex;\n",
              "      flex-wrap:wrap;\n",
              "      gap: 12px;\n",
              "    }\n",
              "\n",
              "    .colab-df-convert {\n",
              "      background-color: #E8F0FE;\n",
              "      border: none;\n",
              "      border-radius: 50%;\n",
              "      cursor: pointer;\n",
              "      display: none;\n",
              "      fill: #1967D2;\n",
              "      height: 32px;\n",
              "      padding: 0 0 0 0;\n",
              "      width: 32px;\n",
              "    }\n",
              "\n",
              "    .colab-df-convert:hover {\n",
              "      background-color: #E2EBFA;\n",
              "      box-shadow: 0px 1px 2px rgba(60, 64, 67, 0.3), 0px 1px 3px 1px rgba(60, 64, 67, 0.15);\n",
              "      fill: #174EA6;\n",
              "    }\n",
              "\n",
              "    [theme=dark] .colab-df-convert {\n",
              "      background-color: #3B4455;\n",
              "      fill: #D2E3FC;\n",
              "    }\n",
              "\n",
              "    [theme=dark] .colab-df-convert:hover {\n",
              "      background-color: #434B5C;\n",
              "      box-shadow: 0px 1px 3px 1px rgba(0, 0, 0, 0.15);\n",
              "      filter: drop-shadow(0px 1px 2px rgba(0, 0, 0, 0.3));\n",
              "      fill: #FFFFFF;\n",
              "    }\n",
              "  </style>\n",
              "\n",
              "      <script>\n",
              "        const buttonEl =\n",
              "          document.querySelector('#df-87619c30-f92f-4114-8c63-5176f37c92fc button.colab-df-convert');\n",
              "        buttonEl.style.display =\n",
              "          google.colab.kernel.accessAllowed ? 'block' : 'none';\n",
              "\n",
              "        async function convertToInteractive(key) {\n",
              "          const element = document.querySelector('#df-87619c30-f92f-4114-8c63-5176f37c92fc');\n",
              "          const dataTable =\n",
              "            await google.colab.kernel.invokeFunction('convertToInteractive',\n",
              "                                                     [key], {});\n",
              "          if (!dataTable) return;\n",
              "\n",
              "          const docLinkHtml = 'Like what you see? Visit the ' +\n",
              "            '<a target=\"_blank\" href=https://colab.research.google.com/notebooks/data_table.ipynb>data table notebook</a>'\n",
              "            + ' to learn more about interactive tables.';\n",
              "          element.innerHTML = '';\n",
              "          dataTable['output_type'] = 'display_data';\n",
              "          await google.colab.output.renderOutput(dataTable, element);\n",
              "          const docLink = document.createElement('div');\n",
              "          docLink.innerHTML = docLinkHtml;\n",
              "          element.appendChild(docLink);\n",
              "        }\n",
              "      </script>\n",
              "    </div>\n",
              "  </div>\n"
            ]
          },
          "metadata": {},
          "execution_count": 40
        }
      ]
    },
    {
      "cell_type": "markdown",
      "source": [
        "## ปั้น list of logics จากตาราง pandas"
      ],
      "metadata": {
        "id": "RJW8QRpf8FVX"
      }
    },
    {
      "cell_type": "code",
      "source": [
        "small_df['Approved_buget']< 1000000"
      ],
      "metadata": {
        "colab": {
          "base_uri": "https://localhost:8080/"
        },
        "id": "e0jOzGrE6sHj",
        "outputId": "89082203-a591-4797-f61d-406a4119b2e5"
      },
      "execution_count": 41,
      "outputs": [
        {
          "output_type": "execute_result",
          "data": {
            "text/plain": [
              "687    False\n",
              "688    False\n",
              "689     True\n",
              "690     True\n",
              "691    False\n",
              "Name: Approved_buget, dtype: bool"
            ]
          },
          "metadata": {},
          "execution_count": 41
        }
      ]
    },
    {
      "cell_type": "code",
      "source": [
        "small_df [small_df['Approved_buget']< 1000000]"
      ],
      "metadata": {
        "colab": {
          "base_uri": "https://localhost:8080/",
          "height": 211
        },
        "id": "EYUPCdqF6sCv",
        "outputId": "660705c0-878a-4090-9de4-47d445fb3390"
      },
      "execution_count": 42,
      "outputs": [
        {
          "output_type": "execute_result",
          "data": {
            "text/plain": [
              "    Budget_resource  Issue_No  Fiscal_year  Department_code  \\\n",
              "689     งบเพิ่มเติม         1           66         50460000   \n",
              "690     งบเพิ่มเติม         1           66         50460000   \n",
              "\n",
              "               Department Core_budget_code Expenditure_category  \\\n",
              "689  สำนักงานเขตคลองสามวา              NaN              งบลงทุน   \n",
              "690  สำนักงานเขตคลองสามวา              NaN              งบลงทุน   \n",
              "\n",
              "               Item_name  Approved_buget  \n",
              "689    ขุดลอกลำรางซาฟารี          689000  \n",
              "690  ขุดลอกลำรางตาจันทร์          464000  "
            ],
            "text/html": [
              "\n",
              "\n",
              "  <div id=\"df-05c980e4-2135-4670-8497-0fd0f3cf4217\">\n",
              "    <div class=\"colab-df-container\">\n",
              "      <div>\n",
              "<style scoped>\n",
              "    .dataframe tbody tr th:only-of-type {\n",
              "        vertical-align: middle;\n",
              "    }\n",
              "\n",
              "    .dataframe tbody tr th {\n",
              "        vertical-align: top;\n",
              "    }\n",
              "\n",
              "    .dataframe thead th {\n",
              "        text-align: right;\n",
              "    }\n",
              "</style>\n",
              "<table border=\"1\" class=\"dataframe\">\n",
              "  <thead>\n",
              "    <tr style=\"text-align: right;\">\n",
              "      <th></th>\n",
              "      <th>Budget_resource</th>\n",
              "      <th>Issue_No</th>\n",
              "      <th>Fiscal_year</th>\n",
              "      <th>Department_code</th>\n",
              "      <th>Department</th>\n",
              "      <th>Core_budget_code</th>\n",
              "      <th>Expenditure_category</th>\n",
              "      <th>Item_name</th>\n",
              "      <th>Approved_buget</th>\n",
              "    </tr>\n",
              "  </thead>\n",
              "  <tbody>\n",
              "    <tr>\n",
              "      <th>689</th>\n",
              "      <td>งบเพิ่มเติม</td>\n",
              "      <td>1</td>\n",
              "      <td>66</td>\n",
              "      <td>50460000</td>\n",
              "      <td>สำนักงานเขตคลองสามวา</td>\n",
              "      <td>NaN</td>\n",
              "      <td>งบลงทุน</td>\n",
              "      <td>ขุดลอกลำรางซาฟารี</td>\n",
              "      <td>689000</td>\n",
              "    </tr>\n",
              "    <tr>\n",
              "      <th>690</th>\n",
              "      <td>งบเพิ่มเติม</td>\n",
              "      <td>1</td>\n",
              "      <td>66</td>\n",
              "      <td>50460000</td>\n",
              "      <td>สำนักงานเขตคลองสามวา</td>\n",
              "      <td>NaN</td>\n",
              "      <td>งบลงทุน</td>\n",
              "      <td>ขุดลอกลำรางตาจันทร์</td>\n",
              "      <td>464000</td>\n",
              "    </tr>\n",
              "  </tbody>\n",
              "</table>\n",
              "</div>\n",
              "      <button class=\"colab-df-convert\" onclick=\"convertToInteractive('df-05c980e4-2135-4670-8497-0fd0f3cf4217')\"\n",
              "              title=\"Convert this dataframe to an interactive table.\"\n",
              "              style=\"display:none;\">\n",
              "\n",
              "  <svg xmlns=\"http://www.w3.org/2000/svg\" height=\"24px\"viewBox=\"0 0 24 24\"\n",
              "       width=\"24px\">\n",
              "    <path d=\"M0 0h24v24H0V0z\" fill=\"none\"/>\n",
              "    <path d=\"M18.56 5.44l.94 2.06.94-2.06 2.06-.94-2.06-.94-.94-2.06-.94 2.06-2.06.94zm-11 1L8.5 8.5l.94-2.06 2.06-.94-2.06-.94L8.5 2.5l-.94 2.06-2.06.94zm10 10l.94 2.06.94-2.06 2.06-.94-2.06-.94-.94-2.06-.94 2.06-2.06.94z\"/><path d=\"M17.41 7.96l-1.37-1.37c-.4-.4-.92-.59-1.43-.59-.52 0-1.04.2-1.43.59L10.3 9.45l-7.72 7.72c-.78.78-.78 2.05 0 2.83L4 21.41c.39.39.9.59 1.41.59.51 0 1.02-.2 1.41-.59l7.78-7.78 2.81-2.81c.8-.78.8-2.07 0-2.86zM5.41 20L4 18.59l7.72-7.72 1.47 1.35L5.41 20z\"/>\n",
              "  </svg>\n",
              "      </button>\n",
              "\n",
              "\n",
              "\n",
              "    <div id=\"df-f038caa9-7210-432b-8584-2acbcea43729\">\n",
              "      <button class=\"colab-df-quickchart\" onclick=\"quickchart('df-f038caa9-7210-432b-8584-2acbcea43729')\"\n",
              "              title=\"Suggest charts.\"\n",
              "              style=\"display:none;\">\n",
              "\n",
              "<svg xmlns=\"http://www.w3.org/2000/svg\" height=\"24px\"viewBox=\"0 0 24 24\"\n",
              "     width=\"24px\">\n",
              "    <g>\n",
              "        <path d=\"M19 3H5c-1.1 0-2 .9-2 2v14c0 1.1.9 2 2 2h14c1.1 0 2-.9 2-2V5c0-1.1-.9-2-2-2zM9 17H7v-7h2v7zm4 0h-2V7h2v10zm4 0h-2v-4h2v4z\"/>\n",
              "    </g>\n",
              "</svg>\n",
              "      </button>\n",
              "    </div>\n",
              "\n",
              "<style>\n",
              "  .colab-df-quickchart {\n",
              "    background-color: #E8F0FE;\n",
              "    border: none;\n",
              "    border-radius: 50%;\n",
              "    cursor: pointer;\n",
              "    display: none;\n",
              "    fill: #1967D2;\n",
              "    height: 32px;\n",
              "    padding: 0 0 0 0;\n",
              "    width: 32px;\n",
              "  }\n",
              "\n",
              "  .colab-df-quickchart:hover {\n",
              "    background-color: #E2EBFA;\n",
              "    box-shadow: 0px 1px 2px rgba(60, 64, 67, 0.3), 0px 1px 3px 1px rgba(60, 64, 67, 0.15);\n",
              "    fill: #174EA6;\n",
              "  }\n",
              "\n",
              "  [theme=dark] .colab-df-quickchart {\n",
              "    background-color: #3B4455;\n",
              "    fill: #D2E3FC;\n",
              "  }\n",
              "\n",
              "  [theme=dark] .colab-df-quickchart:hover {\n",
              "    background-color: #434B5C;\n",
              "    box-shadow: 0px 1px 3px 1px rgba(0, 0, 0, 0.15);\n",
              "    filter: drop-shadow(0px 1px 2px rgba(0, 0, 0, 0.3));\n",
              "    fill: #FFFFFF;\n",
              "  }\n",
              "</style>\n",
              "\n",
              "    <script>\n",
              "      async function quickchart(key) {\n",
              "        const containerElement = document.querySelector('#' + key);\n",
              "        const charts = await google.colab.kernel.invokeFunction(\n",
              "            'suggestCharts', [key], {});\n",
              "      }\n",
              "    </script>\n",
              "\n",
              "      <script>\n",
              "\n",
              "function displayQuickchartButton(domScope) {\n",
              "  let quickchartButtonEl =\n",
              "    domScope.querySelector('#df-f038caa9-7210-432b-8584-2acbcea43729 button.colab-df-quickchart');\n",
              "  quickchartButtonEl.style.display =\n",
              "    google.colab.kernel.accessAllowed ? 'block' : 'none';\n",
              "}\n",
              "\n",
              "        displayQuickchartButton(document);\n",
              "      </script>\n",
              "      <style>\n",
              "    .colab-df-container {\n",
              "      display:flex;\n",
              "      flex-wrap:wrap;\n",
              "      gap: 12px;\n",
              "    }\n",
              "\n",
              "    .colab-df-convert {\n",
              "      background-color: #E8F0FE;\n",
              "      border: none;\n",
              "      border-radius: 50%;\n",
              "      cursor: pointer;\n",
              "      display: none;\n",
              "      fill: #1967D2;\n",
              "      height: 32px;\n",
              "      padding: 0 0 0 0;\n",
              "      width: 32px;\n",
              "    }\n",
              "\n",
              "    .colab-df-convert:hover {\n",
              "      background-color: #E2EBFA;\n",
              "      box-shadow: 0px 1px 2px rgba(60, 64, 67, 0.3), 0px 1px 3px 1px rgba(60, 64, 67, 0.15);\n",
              "      fill: #174EA6;\n",
              "    }\n",
              "\n",
              "    [theme=dark] .colab-df-convert {\n",
              "      background-color: #3B4455;\n",
              "      fill: #D2E3FC;\n",
              "    }\n",
              "\n",
              "    [theme=dark] .colab-df-convert:hover {\n",
              "      background-color: #434B5C;\n",
              "      box-shadow: 0px 1px 3px 1px rgba(0, 0, 0, 0.15);\n",
              "      filter: drop-shadow(0px 1px 2px rgba(0, 0, 0, 0.3));\n",
              "      fill: #FFFFFF;\n",
              "    }\n",
              "  </style>\n",
              "\n",
              "      <script>\n",
              "        const buttonEl =\n",
              "          document.querySelector('#df-05c980e4-2135-4670-8497-0fd0f3cf4217 button.colab-df-convert');\n",
              "        buttonEl.style.display =\n",
              "          google.colab.kernel.accessAllowed ? 'block' : 'none';\n",
              "\n",
              "        async function convertToInteractive(key) {\n",
              "          const element = document.querySelector('#df-05c980e4-2135-4670-8497-0fd0f3cf4217');\n",
              "          const dataTable =\n",
              "            await google.colab.kernel.invokeFunction('convertToInteractive',\n",
              "                                                     [key], {});\n",
              "          if (!dataTable) return;\n",
              "\n",
              "          const docLinkHtml = 'Like what you see? Visit the ' +\n",
              "            '<a target=\"_blank\" href=https://colab.research.google.com/notebooks/data_table.ipynb>data table notebook</a>'\n",
              "            + ' to learn more about interactive tables.';\n",
              "          element.innerHTML = '';\n",
              "          dataTable['output_type'] = 'display_data';\n",
              "          await google.colab.output.renderOutput(dataTable, element);\n",
              "          const docLink = document.createElement('div');\n",
              "          docLink.innerHTML = docLinkHtml;\n",
              "          element.appendChild(docLink);\n",
              "        }\n",
              "      </script>\n",
              "    </div>\n",
              "  </div>\n"
            ]
          },
          "metadata": {},
          "execution_count": 42
        }
      ]
    },
    {
      "cell_type": "markdown",
      "source": [
        "# Quiz3\n",
        "อยากได้รายการทั้งหมดที่ได้รับอนุมัติงบมากกว่า 1 ล้านบาท แต่ไม่เกิน 2 ล้าน"
      ],
      "metadata": {
        "id": "DGZ4LVYL9Qru"
      }
    },
    {
      "cell_type": "code",
      "source": [
        "data1[(data1['Approved_buget'] >=1000000) & (data1['Approved_buget']<=2000000)]\n"
      ],
      "metadata": {
        "colab": {
          "base_uri": "https://localhost:8080/",
          "height": 956
        },
        "id": "4S9WepuD9QQp",
        "outputId": "4b53eeaf-aa2f-49d1-a02b-50e7c34d8dbb"
      },
      "execution_count": 43,
      "outputs": [
        {
          "output_type": "execute_result",
          "data": {
            "text/plain": [
              "    Budget_resource  Issue_No  Fiscal_year  Department_code  \\\n",
              "0         งบประจำปี         0           62         11000000   \n",
              "1         งบประจำปี         0           62         11000000   \n",
              "5         งบประจำปี         0           62         11000000   \n",
              "22        งบประจำปี         0           63         11000000   \n",
              "25        งบประจำปี         0           63         11000000   \n",
              "..              ...       ...          ...              ...   \n",
              "660     งบเพิ่มเติม         1           66         50350000   \n",
              "662     งบเพิ่มเติม         1           66         50350000   \n",
              "665     งบเพิ่มเติม         1           66         50350000   \n",
              "666     งบเพิ่มเติม         1           66         50360000   \n",
              "670     งบเพิ่มเติม         1           66         50360000   \n",
              "\n",
              "             Department                                   Core_budget_code  \\\n",
              "0      สำนักการระบายน้ำ  12-เงินสำรองจ่ายทั่วไป กรณีค่าใช้จ่ายต่างๆ เกี...   \n",
              "1      สำนักการระบายน้ำ  12-เงินสำรองจ่ายทั่วไป กรณีค่าใช้จ่ายต่างๆ เกี...   \n",
              "5      สำนักการระบายน้ำ  12-เงินสำรองจ่ายทั่วไป กรณีค่าใช้จ่ายต่างๆ เกี...   \n",
              "22     สำนักการระบายน้ำ  12-เงินสำรองจ่ายทั่วไป กรณีค่าใช้จ่ายต่างๆ เกี...   \n",
              "25     สำนักการระบายน้ำ  12-เงินสำรองจ่ายทั่วไป กรณีค่าใช้จ่ายต่างๆ เกี...   \n",
              "..                  ...                                                ...   \n",
              "660  สำนักงานเขตบางพลัด                                                NaN   \n",
              "662  สำนักงานเขตบางพลัด                                                NaN   \n",
              "665  สำนักงานเขตบางพลัด                                                NaN   \n",
              "666   สำนักงานเขตจอมทอง                                                NaN   \n",
              "670   สำนักงานเขตจอมทอง                                                NaN   \n",
              "\n",
              "    Expenditure_category                                          Item_name  \\\n",
              "0                งบลงทุน        ขุดลอกคลองบางกะปิจากคลองสามเสนถึงคลองแสนแสบ   \n",
              "1                งบลงทุน  ขุดลอกคลองทรงกระเทียมจากคลองลาดพร้าวถึงถนนโชคช...   \n",
              "5                งบลงทุน  ขุดลอกคลองราษฎร์สามัคคีจากคลองทวีวัฒนาถึงคลองม...   \n",
              "22               งบลงทุน      ขุดลอกคลองนางหงษ์จากคลองแสนแสบถึงถนนบรรทัดทอง   \n",
              "25               งบลงทุน  ขุดลอกคลองราษฎร์บูรณะจากแม่น้ำเจ้าพระยาถึงสวนธ...   \n",
              "..                   ...                                                ...   \n",
              "660              งบลงทุน                                 ขุดลอกคลองสะพานยาว   \n",
              "662              งบลงทุน         ขุดลอกคลองบางรักและคูน้ำซอยจรัญสนิทวงศ์ 89   \n",
              "665              งบลงทุน                           ขุดลอกคลองวัดน้อยนางหงษ์   \n",
              "666              งบลงทุน  ขุดลอกคลองลัดบางสะแก (1),(2) จากคลองบางค้อและค...   \n",
              "670              งบลงทุน  ขุดลอกลำกระโดงสาธารณประโยชน์แยกคลองต้นไทร (3),...   \n",
              "\n",
              "     Approved_buget  \n",
              "0           1193000  \n",
              "1           1100000  \n",
              "5           1207000  \n",
              "22          1508000  \n",
              "25          1975000  \n",
              "..              ...  \n",
              "660         1756000  \n",
              "662         1859000  \n",
              "665         1187000  \n",
              "666         1581000  \n",
              "670         1388000  \n",
              "\n",
              "[132 rows x 9 columns]"
            ],
            "text/html": [
              "\n",
              "\n",
              "  <div id=\"df-167feb08-ad1e-4444-a7da-ec29fab48edc\">\n",
              "    <div class=\"colab-df-container\">\n",
              "      <div>\n",
              "<style scoped>\n",
              "    .dataframe tbody tr th:only-of-type {\n",
              "        vertical-align: middle;\n",
              "    }\n",
              "\n",
              "    .dataframe tbody tr th {\n",
              "        vertical-align: top;\n",
              "    }\n",
              "\n",
              "    .dataframe thead th {\n",
              "        text-align: right;\n",
              "    }\n",
              "</style>\n",
              "<table border=\"1\" class=\"dataframe\">\n",
              "  <thead>\n",
              "    <tr style=\"text-align: right;\">\n",
              "      <th></th>\n",
              "      <th>Budget_resource</th>\n",
              "      <th>Issue_No</th>\n",
              "      <th>Fiscal_year</th>\n",
              "      <th>Department_code</th>\n",
              "      <th>Department</th>\n",
              "      <th>Core_budget_code</th>\n",
              "      <th>Expenditure_category</th>\n",
              "      <th>Item_name</th>\n",
              "      <th>Approved_buget</th>\n",
              "    </tr>\n",
              "  </thead>\n",
              "  <tbody>\n",
              "    <tr>\n",
              "      <th>0</th>\n",
              "      <td>งบประจำปี</td>\n",
              "      <td>0</td>\n",
              "      <td>62</td>\n",
              "      <td>11000000</td>\n",
              "      <td>สำนักการระบายน้ำ</td>\n",
              "      <td>12-เงินสำรองจ่ายทั่วไป กรณีค่าใช้จ่ายต่างๆ เกี...</td>\n",
              "      <td>งบลงทุน</td>\n",
              "      <td>ขุดลอกคลองบางกะปิจากคลองสามเสนถึงคลองแสนแสบ</td>\n",
              "      <td>1193000</td>\n",
              "    </tr>\n",
              "    <tr>\n",
              "      <th>1</th>\n",
              "      <td>งบประจำปี</td>\n",
              "      <td>0</td>\n",
              "      <td>62</td>\n",
              "      <td>11000000</td>\n",
              "      <td>สำนักการระบายน้ำ</td>\n",
              "      <td>12-เงินสำรองจ่ายทั่วไป กรณีค่าใช้จ่ายต่างๆ เกี...</td>\n",
              "      <td>งบลงทุน</td>\n",
              "      <td>ขุดลอกคลองทรงกระเทียมจากคลองลาดพร้าวถึงถนนโชคช...</td>\n",
              "      <td>1100000</td>\n",
              "    </tr>\n",
              "    <tr>\n",
              "      <th>5</th>\n",
              "      <td>งบประจำปี</td>\n",
              "      <td>0</td>\n",
              "      <td>62</td>\n",
              "      <td>11000000</td>\n",
              "      <td>สำนักการระบายน้ำ</td>\n",
              "      <td>12-เงินสำรองจ่ายทั่วไป กรณีค่าใช้จ่ายต่างๆ เกี...</td>\n",
              "      <td>งบลงทุน</td>\n",
              "      <td>ขุดลอกคลองราษฎร์สามัคคีจากคลองทวีวัฒนาถึงคลองม...</td>\n",
              "      <td>1207000</td>\n",
              "    </tr>\n",
              "    <tr>\n",
              "      <th>22</th>\n",
              "      <td>งบประจำปี</td>\n",
              "      <td>0</td>\n",
              "      <td>63</td>\n",
              "      <td>11000000</td>\n",
              "      <td>สำนักการระบายน้ำ</td>\n",
              "      <td>12-เงินสำรองจ่ายทั่วไป กรณีค่าใช้จ่ายต่างๆ เกี...</td>\n",
              "      <td>งบลงทุน</td>\n",
              "      <td>ขุดลอกคลองนางหงษ์จากคลองแสนแสบถึงถนนบรรทัดทอง</td>\n",
              "      <td>1508000</td>\n",
              "    </tr>\n",
              "    <tr>\n",
              "      <th>25</th>\n",
              "      <td>งบประจำปี</td>\n",
              "      <td>0</td>\n",
              "      <td>63</td>\n",
              "      <td>11000000</td>\n",
              "      <td>สำนักการระบายน้ำ</td>\n",
              "      <td>12-เงินสำรองจ่ายทั่วไป กรณีค่าใช้จ่ายต่างๆ เกี...</td>\n",
              "      <td>งบลงทุน</td>\n",
              "      <td>ขุดลอกคลองราษฎร์บูรณะจากแม่น้ำเจ้าพระยาถึงสวนธ...</td>\n",
              "      <td>1975000</td>\n",
              "    </tr>\n",
              "    <tr>\n",
              "      <th>...</th>\n",
              "      <td>...</td>\n",
              "      <td>...</td>\n",
              "      <td>...</td>\n",
              "      <td>...</td>\n",
              "      <td>...</td>\n",
              "      <td>...</td>\n",
              "      <td>...</td>\n",
              "      <td>...</td>\n",
              "      <td>...</td>\n",
              "    </tr>\n",
              "    <tr>\n",
              "      <th>660</th>\n",
              "      <td>งบเพิ่มเติม</td>\n",
              "      <td>1</td>\n",
              "      <td>66</td>\n",
              "      <td>50350000</td>\n",
              "      <td>สำนักงานเขตบางพลัด</td>\n",
              "      <td>NaN</td>\n",
              "      <td>งบลงทุน</td>\n",
              "      <td>ขุดลอกคลองสะพานยาว</td>\n",
              "      <td>1756000</td>\n",
              "    </tr>\n",
              "    <tr>\n",
              "      <th>662</th>\n",
              "      <td>งบเพิ่มเติม</td>\n",
              "      <td>1</td>\n",
              "      <td>66</td>\n",
              "      <td>50350000</td>\n",
              "      <td>สำนักงานเขตบางพลัด</td>\n",
              "      <td>NaN</td>\n",
              "      <td>งบลงทุน</td>\n",
              "      <td>ขุดลอกคลองบางรักและคูน้ำซอยจรัญสนิทวงศ์ 89</td>\n",
              "      <td>1859000</td>\n",
              "    </tr>\n",
              "    <tr>\n",
              "      <th>665</th>\n",
              "      <td>งบเพิ่มเติม</td>\n",
              "      <td>1</td>\n",
              "      <td>66</td>\n",
              "      <td>50350000</td>\n",
              "      <td>สำนักงานเขตบางพลัด</td>\n",
              "      <td>NaN</td>\n",
              "      <td>งบลงทุน</td>\n",
              "      <td>ขุดลอกคลองวัดน้อยนางหงษ์</td>\n",
              "      <td>1187000</td>\n",
              "    </tr>\n",
              "    <tr>\n",
              "      <th>666</th>\n",
              "      <td>งบเพิ่มเติม</td>\n",
              "      <td>1</td>\n",
              "      <td>66</td>\n",
              "      <td>50360000</td>\n",
              "      <td>สำนักงานเขตจอมทอง</td>\n",
              "      <td>NaN</td>\n",
              "      <td>งบลงทุน</td>\n",
              "      <td>ขุดลอกคลองลัดบางสะแก (1),(2) จากคลองบางค้อและค...</td>\n",
              "      <td>1581000</td>\n",
              "    </tr>\n",
              "    <tr>\n",
              "      <th>670</th>\n",
              "      <td>งบเพิ่มเติม</td>\n",
              "      <td>1</td>\n",
              "      <td>66</td>\n",
              "      <td>50360000</td>\n",
              "      <td>สำนักงานเขตจอมทอง</td>\n",
              "      <td>NaN</td>\n",
              "      <td>งบลงทุน</td>\n",
              "      <td>ขุดลอกลำกระโดงสาธารณประโยชน์แยกคลองต้นไทร (3),...</td>\n",
              "      <td>1388000</td>\n",
              "    </tr>\n",
              "  </tbody>\n",
              "</table>\n",
              "<p>132 rows × 9 columns</p>\n",
              "</div>\n",
              "      <button class=\"colab-df-convert\" onclick=\"convertToInteractive('df-167feb08-ad1e-4444-a7da-ec29fab48edc')\"\n",
              "              title=\"Convert this dataframe to an interactive table.\"\n",
              "              style=\"display:none;\">\n",
              "\n",
              "  <svg xmlns=\"http://www.w3.org/2000/svg\" height=\"24px\"viewBox=\"0 0 24 24\"\n",
              "       width=\"24px\">\n",
              "    <path d=\"M0 0h24v24H0V0z\" fill=\"none\"/>\n",
              "    <path d=\"M18.56 5.44l.94 2.06.94-2.06 2.06-.94-2.06-.94-.94-2.06-.94 2.06-2.06.94zm-11 1L8.5 8.5l.94-2.06 2.06-.94-2.06-.94L8.5 2.5l-.94 2.06-2.06.94zm10 10l.94 2.06.94-2.06 2.06-.94-2.06-.94-.94-2.06-.94 2.06-2.06.94z\"/><path d=\"M17.41 7.96l-1.37-1.37c-.4-.4-.92-.59-1.43-.59-.52 0-1.04.2-1.43.59L10.3 9.45l-7.72 7.72c-.78.78-.78 2.05 0 2.83L4 21.41c.39.39.9.59 1.41.59.51 0 1.02-.2 1.41-.59l7.78-7.78 2.81-2.81c.8-.78.8-2.07 0-2.86zM5.41 20L4 18.59l7.72-7.72 1.47 1.35L5.41 20z\"/>\n",
              "  </svg>\n",
              "      </button>\n",
              "\n",
              "\n",
              "\n",
              "    <div id=\"df-5a37cb6f-273a-4580-ad20-1e203b5a17ab\">\n",
              "      <button class=\"colab-df-quickchart\" onclick=\"quickchart('df-5a37cb6f-273a-4580-ad20-1e203b5a17ab')\"\n",
              "              title=\"Suggest charts.\"\n",
              "              style=\"display:none;\">\n",
              "\n",
              "<svg xmlns=\"http://www.w3.org/2000/svg\" height=\"24px\"viewBox=\"0 0 24 24\"\n",
              "     width=\"24px\">\n",
              "    <g>\n",
              "        <path d=\"M19 3H5c-1.1 0-2 .9-2 2v14c0 1.1.9 2 2 2h14c1.1 0 2-.9 2-2V5c0-1.1-.9-2-2-2zM9 17H7v-7h2v7zm4 0h-2V7h2v10zm4 0h-2v-4h2v4z\"/>\n",
              "    </g>\n",
              "</svg>\n",
              "      </button>\n",
              "    </div>\n",
              "\n",
              "<style>\n",
              "  .colab-df-quickchart {\n",
              "    background-color: #E8F0FE;\n",
              "    border: none;\n",
              "    border-radius: 50%;\n",
              "    cursor: pointer;\n",
              "    display: none;\n",
              "    fill: #1967D2;\n",
              "    height: 32px;\n",
              "    padding: 0 0 0 0;\n",
              "    width: 32px;\n",
              "  }\n",
              "\n",
              "  .colab-df-quickchart:hover {\n",
              "    background-color: #E2EBFA;\n",
              "    box-shadow: 0px 1px 2px rgba(60, 64, 67, 0.3), 0px 1px 3px 1px rgba(60, 64, 67, 0.15);\n",
              "    fill: #174EA6;\n",
              "  }\n",
              "\n",
              "  [theme=dark] .colab-df-quickchart {\n",
              "    background-color: #3B4455;\n",
              "    fill: #D2E3FC;\n",
              "  }\n",
              "\n",
              "  [theme=dark] .colab-df-quickchart:hover {\n",
              "    background-color: #434B5C;\n",
              "    box-shadow: 0px 1px 3px 1px rgba(0, 0, 0, 0.15);\n",
              "    filter: drop-shadow(0px 1px 2px rgba(0, 0, 0, 0.3));\n",
              "    fill: #FFFFFF;\n",
              "  }\n",
              "</style>\n",
              "\n",
              "    <script>\n",
              "      async function quickchart(key) {\n",
              "        const containerElement = document.querySelector('#' + key);\n",
              "        const charts = await google.colab.kernel.invokeFunction(\n",
              "            'suggestCharts', [key], {});\n",
              "      }\n",
              "    </script>\n",
              "\n",
              "      <script>\n",
              "\n",
              "function displayQuickchartButton(domScope) {\n",
              "  let quickchartButtonEl =\n",
              "    domScope.querySelector('#df-5a37cb6f-273a-4580-ad20-1e203b5a17ab button.colab-df-quickchart');\n",
              "  quickchartButtonEl.style.display =\n",
              "    google.colab.kernel.accessAllowed ? 'block' : 'none';\n",
              "}\n",
              "\n",
              "        displayQuickchartButton(document);\n",
              "      </script>\n",
              "      <style>\n",
              "    .colab-df-container {\n",
              "      display:flex;\n",
              "      flex-wrap:wrap;\n",
              "      gap: 12px;\n",
              "    }\n",
              "\n",
              "    .colab-df-convert {\n",
              "      background-color: #E8F0FE;\n",
              "      border: none;\n",
              "      border-radius: 50%;\n",
              "      cursor: pointer;\n",
              "      display: none;\n",
              "      fill: #1967D2;\n",
              "      height: 32px;\n",
              "      padding: 0 0 0 0;\n",
              "      width: 32px;\n",
              "    }\n",
              "\n",
              "    .colab-df-convert:hover {\n",
              "      background-color: #E2EBFA;\n",
              "      box-shadow: 0px 1px 2px rgba(60, 64, 67, 0.3), 0px 1px 3px 1px rgba(60, 64, 67, 0.15);\n",
              "      fill: #174EA6;\n",
              "    }\n",
              "\n",
              "    [theme=dark] .colab-df-convert {\n",
              "      background-color: #3B4455;\n",
              "      fill: #D2E3FC;\n",
              "    }\n",
              "\n",
              "    [theme=dark] .colab-df-convert:hover {\n",
              "      background-color: #434B5C;\n",
              "      box-shadow: 0px 1px 3px 1px rgba(0, 0, 0, 0.15);\n",
              "      filter: drop-shadow(0px 1px 2px rgba(0, 0, 0, 0.3));\n",
              "      fill: #FFFFFF;\n",
              "    }\n",
              "  </style>\n",
              "\n",
              "      <script>\n",
              "        const buttonEl =\n",
              "          document.querySelector('#df-167feb08-ad1e-4444-a7da-ec29fab48edc button.colab-df-convert');\n",
              "        buttonEl.style.display =\n",
              "          google.colab.kernel.accessAllowed ? 'block' : 'none';\n",
              "\n",
              "        async function convertToInteractive(key) {\n",
              "          const element = document.querySelector('#df-167feb08-ad1e-4444-a7da-ec29fab48edc');\n",
              "          const dataTable =\n",
              "            await google.colab.kernel.invokeFunction('convertToInteractive',\n",
              "                                                     [key], {});\n",
              "          if (!dataTable) return;\n",
              "\n",
              "          const docLinkHtml = 'Like what you see? Visit the ' +\n",
              "            '<a target=\"_blank\" href=https://colab.research.google.com/notebooks/data_table.ipynb>data table notebook</a>'\n",
              "            + ' to learn more about interactive tables.';\n",
              "          element.innerHTML = '';\n",
              "          dataTable['output_type'] = 'display_data';\n",
              "          await google.colab.output.renderOutput(dataTable, element);\n",
              "          const docLink = document.createElement('div');\n",
              "          docLink.innerHTML = docLinkHtml;\n",
              "          element.appendChild(docLink);\n",
              "        }\n",
              "      </script>\n",
              "    </div>\n",
              "  </div>\n"
            ]
          },
          "metadata": {},
          "execution_count": 43
        }
      ]
    },
    {
      "cell_type": "code",
      "source": [],
      "metadata": {
        "id": "gr1Y5fNd9QLu"
      },
      "execution_count": 43,
      "outputs": []
    },
    {
      "cell_type": "code",
      "source": [],
      "metadata": {
        "id": "DR26SH2A9QFo"
      },
      "execution_count": 43,
      "outputs": []
    },
    {
      "cell_type": "code",
      "source": [
        "data1['propertytype_name_en']== 'condo'"
      ],
      "metadata": {
        "colab": {
          "base_uri": "https://localhost:8080/",
          "height": 503
        },
        "id": "W7ovnaO2g66t",
        "outputId": "c3729ad7-e90a-4cef-ec21-310cb99d7c3d"
      },
      "execution_count": 44,
      "outputs": [
        {
          "output_type": "error",
          "ename": "KeyError",
          "evalue": "ignored",
          "traceback": [
            "\u001b[0;31m---------------------------------------------------------------------------\u001b[0m",
            "\u001b[0;31mKeyError\u001b[0m                                  Traceback (most recent call last)",
            "\u001b[0;32m/usr/local/lib/python3.10/dist-packages/pandas/core/indexes/base.py\u001b[0m in \u001b[0;36mget_loc\u001b[0;34m(self, key, method, tolerance)\u001b[0m\n\u001b[1;32m   3801\u001b[0m             \u001b[0;32mtry\u001b[0m\u001b[0;34m:\u001b[0m\u001b[0;34m\u001b[0m\u001b[0;34m\u001b[0m\u001b[0m\n\u001b[0;32m-> 3802\u001b[0;31m                 \u001b[0;32mreturn\u001b[0m \u001b[0mself\u001b[0m\u001b[0;34m.\u001b[0m\u001b[0m_engine\u001b[0m\u001b[0;34m.\u001b[0m\u001b[0mget_loc\u001b[0m\u001b[0;34m(\u001b[0m\u001b[0mcasted_key\u001b[0m\u001b[0;34m)\u001b[0m\u001b[0;34m\u001b[0m\u001b[0;34m\u001b[0m\u001b[0m\n\u001b[0m\u001b[1;32m   3803\u001b[0m             \u001b[0;32mexcept\u001b[0m \u001b[0mKeyError\u001b[0m \u001b[0;32mas\u001b[0m \u001b[0merr\u001b[0m\u001b[0;34m:\u001b[0m\u001b[0;34m\u001b[0m\u001b[0;34m\u001b[0m\u001b[0m\n",
            "\u001b[0;32m/usr/local/lib/python3.10/dist-packages/pandas/_libs/index.pyx\u001b[0m in \u001b[0;36mpandas._libs.index.IndexEngine.get_loc\u001b[0;34m()\u001b[0m\n",
            "\u001b[0;32m/usr/local/lib/python3.10/dist-packages/pandas/_libs/index.pyx\u001b[0m in \u001b[0;36mpandas._libs.index.IndexEngine.get_loc\u001b[0;34m()\u001b[0m\n",
            "\u001b[0;32mpandas/_libs/hashtable_class_helper.pxi\u001b[0m in \u001b[0;36mpandas._libs.hashtable.PyObjectHashTable.get_item\u001b[0;34m()\u001b[0m\n",
            "\u001b[0;32mpandas/_libs/hashtable_class_helper.pxi\u001b[0m in \u001b[0;36mpandas._libs.hashtable.PyObjectHashTable.get_item\u001b[0;34m()\u001b[0m\n",
            "\u001b[0;31mKeyError\u001b[0m: 'propertytype_name_en'",
            "\nThe above exception was the direct cause of the following exception:\n",
            "\u001b[0;31mKeyError\u001b[0m                                  Traceback (most recent call last)",
            "\u001b[0;32m<ipython-input-44-c1840078db50>\u001b[0m in \u001b[0;36m<cell line: 1>\u001b[0;34m()\u001b[0m\n\u001b[0;32m----> 1\u001b[0;31m \u001b[0mdata1\u001b[0m\u001b[0;34m[\u001b[0m\u001b[0;34m'propertytype_name_en'\u001b[0m\u001b[0;34m]\u001b[0m\u001b[0;34m==\u001b[0m \u001b[0;34m'condo'\u001b[0m\u001b[0;34m\u001b[0m\u001b[0;34m\u001b[0m\u001b[0m\n\u001b[0m",
            "\u001b[0;32m/usr/local/lib/python3.10/dist-packages/pandas/core/frame.py\u001b[0m in \u001b[0;36m__getitem__\u001b[0;34m(self, key)\u001b[0m\n\u001b[1;32m   3805\u001b[0m             \u001b[0;32mif\u001b[0m \u001b[0mself\u001b[0m\u001b[0;34m.\u001b[0m\u001b[0mcolumns\u001b[0m\u001b[0;34m.\u001b[0m\u001b[0mnlevels\u001b[0m \u001b[0;34m>\u001b[0m \u001b[0;36m1\u001b[0m\u001b[0;34m:\u001b[0m\u001b[0;34m\u001b[0m\u001b[0;34m\u001b[0m\u001b[0m\n\u001b[1;32m   3806\u001b[0m                 \u001b[0;32mreturn\u001b[0m \u001b[0mself\u001b[0m\u001b[0;34m.\u001b[0m\u001b[0m_getitem_multilevel\u001b[0m\u001b[0;34m(\u001b[0m\u001b[0mkey\u001b[0m\u001b[0;34m)\u001b[0m\u001b[0;34m\u001b[0m\u001b[0;34m\u001b[0m\u001b[0m\n\u001b[0;32m-> 3807\u001b[0;31m             \u001b[0mindexer\u001b[0m \u001b[0;34m=\u001b[0m \u001b[0mself\u001b[0m\u001b[0;34m.\u001b[0m\u001b[0mcolumns\u001b[0m\u001b[0;34m.\u001b[0m\u001b[0mget_loc\u001b[0m\u001b[0;34m(\u001b[0m\u001b[0mkey\u001b[0m\u001b[0;34m)\u001b[0m\u001b[0;34m\u001b[0m\u001b[0;34m\u001b[0m\u001b[0m\n\u001b[0m\u001b[1;32m   3808\u001b[0m             \u001b[0;32mif\u001b[0m \u001b[0mis_integer\u001b[0m\u001b[0;34m(\u001b[0m\u001b[0mindexer\u001b[0m\u001b[0;34m)\u001b[0m\u001b[0;34m:\u001b[0m\u001b[0;34m\u001b[0m\u001b[0;34m\u001b[0m\u001b[0m\n\u001b[1;32m   3809\u001b[0m                 \u001b[0mindexer\u001b[0m \u001b[0;34m=\u001b[0m \u001b[0;34m[\u001b[0m\u001b[0mindexer\u001b[0m\u001b[0;34m]\u001b[0m\u001b[0;34m\u001b[0m\u001b[0;34m\u001b[0m\u001b[0m\n",
            "\u001b[0;32m/usr/local/lib/python3.10/dist-packages/pandas/core/indexes/base.py\u001b[0m in \u001b[0;36mget_loc\u001b[0;34m(self, key, method, tolerance)\u001b[0m\n\u001b[1;32m   3802\u001b[0m                 \u001b[0;32mreturn\u001b[0m \u001b[0mself\u001b[0m\u001b[0;34m.\u001b[0m\u001b[0m_engine\u001b[0m\u001b[0;34m.\u001b[0m\u001b[0mget_loc\u001b[0m\u001b[0;34m(\u001b[0m\u001b[0mcasted_key\u001b[0m\u001b[0;34m)\u001b[0m\u001b[0;34m\u001b[0m\u001b[0;34m\u001b[0m\u001b[0m\n\u001b[1;32m   3803\u001b[0m             \u001b[0;32mexcept\u001b[0m \u001b[0mKeyError\u001b[0m \u001b[0;32mas\u001b[0m \u001b[0merr\u001b[0m\u001b[0;34m:\u001b[0m\u001b[0;34m\u001b[0m\u001b[0;34m\u001b[0m\u001b[0m\n\u001b[0;32m-> 3804\u001b[0;31m                 \u001b[0;32mraise\u001b[0m \u001b[0mKeyError\u001b[0m\u001b[0;34m(\u001b[0m\u001b[0mkey\u001b[0m\u001b[0;34m)\u001b[0m \u001b[0;32mfrom\u001b[0m \u001b[0merr\u001b[0m\u001b[0;34m\u001b[0m\u001b[0;34m\u001b[0m\u001b[0m\n\u001b[0m\u001b[1;32m   3805\u001b[0m             \u001b[0;32mexcept\u001b[0m \u001b[0mTypeError\u001b[0m\u001b[0;34m:\u001b[0m\u001b[0;34m\u001b[0m\u001b[0;34m\u001b[0m\u001b[0m\n\u001b[1;32m   3806\u001b[0m                 \u001b[0;31m# If we have a listlike key, _check_indexing_error will raise\u001b[0m\u001b[0;34m\u001b[0m\u001b[0;34m\u001b[0m\u001b[0m\n",
            "\u001b[0;31mKeyError\u001b[0m: 'propertytype_name_en'"
          ]
        }
      ]
    },
    {
      "cell_type": "code",
      "source": [
        "data1[data1['price_min'] > 10000000].describe()"
      ],
      "metadata": {
        "id": "ki9C2z_ghf_w"
      },
      "execution_count": null,
      "outputs": []
    },
    {
      "cell_type": "markdown",
      "source": [
        "# Quiz 4\n",
        "1. ราคาเฉลี่ยของบ้านที่มีราคาระหว่าง 3-5 ร้านบาท\n",
        "2. พื้นที่ และ จำนวนห้องนอนของบ้านที่แพงที่สุด\n",
        "3. จำนวนที่จอดรถและห้องน้ำของบ้านที่ถูกที่สุด\n",
        "4. ชนิดของบ้านที่แพงที่สุด\n",
        "5. บ้านชนิดไหนมีปริมาณมากที่สุด"
      ],
      "metadata": {
        "id": "Hub_AdJqiOAO"
      }
    },
    {
      "cell_type": "code",
      "source": [
        "# 1. ราคาเฉลี่ยของบ้านที่มีราคาระหว่าง 3-5 ร้านบาท\n",
        "data1[(data1['price_min'] >=3000000) & (data1['price_min']<=5000000)].describe()\n",
        "# Ans 3.928111e+06\t = 3.928111  ล้านบาท"
      ],
      "metadata": {
        "id": "njQLgbSyjHUS"
      },
      "execution_count": null,
      "outputs": []
    },
    {
      "cell_type": "code",
      "source": [
        "price_mean = data1[(data1['price_min'] >=3000000) & (data1['price_min']<=5000000)]['price_min'].mean()"
      ],
      "metadata": {
        "id": "Gs_qnLEBfhHp"
      },
      "execution_count": null,
      "outputs": []
    },
    {
      "cell_type": "code",
      "source": [
        "print(f'ราคาเฉลี่ยของบ้านที่มีราคาระหว่าง 3-5 ล้านบาท คือ {int(price_mean):,}')"
      ],
      "metadata": {
        "id": "YI0IJnQVfuQe"
      },
      "execution_count": null,
      "outputs": []
    },
    {
      "cell_type": "code",
      "source": [
        "#2.พื้นที่และจำนวนห้องนอนของบ้านที่แพงที่สุด\n",
        "data1['price_min'].max()"
      ],
      "metadata": {
        "id": "leHcW5KnkLGb"
      },
      "execution_count": null,
      "outputs": []
    },
    {
      "cell_type": "code",
      "source": [
        "data1[data1['price_min']==580000000][['area_usable_min','count_room_bed']]"
      ],
      "metadata": {
        "id": "hgtvSVt1bOQy"
      },
      "execution_count": null,
      "outputs": []
    },
    {
      "cell_type": "code",
      "source": [
        "data1[data1['price_min']==data1['price_min'].max()][['area_usable_min','count_room_bed','price_min']]"
      ],
      "metadata": {
        "id": "ZcCyJtAMgx0r"
      },
      "execution_count": null,
      "outputs": []
    },
    {
      "cell_type": "code",
      "source": [
        "data1[data1['price_min']==data1['price_min'].max()]"
      ],
      "metadata": {
        "id": "xe7bkCjVhCTF"
      },
      "execution_count": null,
      "outputs": []
    },
    {
      "cell_type": "code",
      "source": [
        "#3.จำนวนที่จอดรถและห้องน้ำที่ถูกที่สุด\n",
        "data1['price_min'].min()"
      ],
      "metadata": {
        "id": "9LBy2jtkl-CS"
      },
      "execution_count": null,
      "outputs": []
    },
    {
      "cell_type": "code",
      "source": [
        "data1[data1['price_min']==100000][['count_parking','count_room_bath']]"
      ],
      "metadata": {
        "id": "qPEw_eRmnyzx"
      },
      "execution_count": null,
      "outputs": []
    },
    {
      "cell_type": "code",
      "source": [
        "data1[data1['price_min']==data1['price_min'].min()][['propertytype_name_en','count_parking','count_room_bath','price_min']]"
      ],
      "metadata": {
        "id": "OIumzGQ_hh2i"
      },
      "execution_count": null,
      "outputs": []
    },
    {
      "cell_type": "code",
      "source": [
        "# 4. ชนิดของบ้านที่แพงที่สุด\n",
        "data1.describe()\n",
        "data1[data1['price_min'] == 580000000]\n",
        "# Ans Condo"
      ],
      "metadata": {
        "id": "Xc5DbZbjoDB5"
      },
      "execution_count": null,
      "outputs": []
    },
    {
      "cell_type": "code",
      "source": [
        "# 4. ชนิดของบ้านที่แพงที่สุด\n",
        "data1['propertytype_name_en'][data1['price_min'] == 580000000]"
      ],
      "metadata": {
        "id": "eiEo-9QLsTtQ"
      },
      "execution_count": null,
      "outputs": []
    },
    {
      "cell_type": "code",
      "source": [
        "data1[data1['price_min']==data1['price_min'].max()][['propertytype_name_en','price_min']]"
      ],
      "metadata": {
        "id": "JpVQ3BZUh9aq"
      },
      "execution_count": null,
      "outputs": []
    },
    {
      "cell_type": "code",
      "source": [
        "#5. บ้านชนิดไหนมีปริมาณมากที่สุด\n",
        "data1['propertytype_name_en'].describe()"
      ],
      "metadata": {
        "id": "rczL22K4r99n"
      },
      "execution_count": null,
      "outputs": []
    },
    {
      "cell_type": "code",
      "source": [],
      "metadata": {
        "id": "BuYu_3MCiSuU"
      },
      "execution_count": null,
      "outputs": []
    },
    {
      "cell_type": "code",
      "source": [],
      "metadata": {
        "id": "jc18tzVap6PX"
      },
      "execution_count": null,
      "outputs": []
    },
    {
      "cell_type": "code",
      "source": [
        "import os"
      ],
      "metadata": {
        "id": "P1yKlhjQOTxx"
      },
      "execution_count": null,
      "outputs": []
    },
    {
      "cell_type": "code",
      "metadata": {
        "id": "8aVuLimaokIK"
      },
      "source": [
        "path = '/content/drive/My Drive/dataviz_2021_data'"
      ],
      "execution_count": null,
      "outputs": []
    },
    {
      "cell_type": "code",
      "metadata": {
        "id": "bJMZpuMsrLG1"
      },
      "source": [
        "covid_file_path = os.path.join(path,'pm-20-jan-2021.csv')\n",
        "print(covid_file_path)"
      ],
      "execution_count": null,
      "outputs": []
    },
    {
      "cell_type": "code",
      "metadata": {
        "id": "k1NDGhW8rjb6"
      },
      "source": [
        "a = path + '/pm-18-jan-2021.csv'\n",
        "print(a)"
      ],
      "execution_count": null,
      "outputs": []
    },
    {
      "cell_type": "markdown",
      "metadata": {
        "id": "l3oehUans3Vr"
      },
      "source": [
        "## load data to memory"
      ]
    },
    {
      "cell_type": "code",
      "metadata": {
        "id": "lxKqSaR3sScc"
      },
      "source": [
        "data_covid = pd.read_csv(covid_file_path)\n",
        "data_covid"
      ],
      "execution_count": null,
      "outputs": []
    },
    {
      "cell_type": "code",
      "metadata": {
        "id": "sHTOPUJttJJ8"
      },
      "source": [
        "data_covid.head()"
      ],
      "execution_count": null,
      "outputs": []
    },
    {
      "cell_type": "markdown",
      "source": [
        "NaN = Not a Number"
      ],
      "metadata": {
        "id": "rlAYwIleTDBT"
      }
    },
    {
      "cell_type": "code",
      "source": [
        "data_covid.head(20)"
      ],
      "metadata": {
        "id": "Slh1ACWSSGLW"
      },
      "execution_count": null,
      "outputs": []
    },
    {
      "cell_type": "code",
      "source": [
        "data_covid.tail()"
      ],
      "metadata": {
        "id": "bmXcnfi-Stf6"
      },
      "execution_count": null,
      "outputs": []
    },
    {
      "cell_type": "code",
      "metadata": {
        "id": "zj5UmHPtySZ4"
      },
      "source": [
        "data_covid.shape"
      ],
      "execution_count": null,
      "outputs": []
    },
    {
      "cell_type": "markdown",
      "metadata": {
        "id": "CRYEuv0dzLtW"
      },
      "source": [
        "## ชี้ค่าในตาราง"
      ]
    },
    {
      "cell_type": "markdown",
      "metadata": {
        "id": "KFqGDG0c0AYI"
      },
      "source": [
        "#### basic"
      ]
    },
    {
      "cell_type": "code",
      "metadata": {
        "id": "vQ8Fvpgkyp4E"
      },
      "source": [
        "data_covid['province_of_onset']"
      ],
      "execution_count": null,
      "outputs": []
    },
    {
      "cell_type": "code",
      "metadata": {
        "id": "tHxuEWK6zjSH"
      },
      "source": [
        "data_covid['risk'][12649]"
      ],
      "execution_count": null,
      "outputs": []
    },
    {
      "cell_type": "markdown",
      "metadata": {
        "id": "dZ3UfzfV0DIy"
      },
      "source": [
        "#### .iloc"
      ]
    },
    {
      "cell_type": "code",
      "metadata": {
        "id": "oTb8mQj6z6DN"
      },
      "source": [
        "data_covid.iloc[4,7]"
      ],
      "execution_count": null,
      "outputs": []
    },
    {
      "cell_type": "markdown",
      "source": [
        "# เรียนถึงนี่ 12 Jan 2022"
      ],
      "metadata": {
        "id": "9Y9kGLs5TXZa"
      }
    },
    {
      "cell_type": "markdown",
      "metadata": {
        "id": "shzgCJfy0x2z"
      },
      "source": [
        "## Table slicing"
      ]
    },
    {
      "cell_type": "markdown",
      "metadata": {
        "id": "NWxhCozt0757"
      },
      "source": [
        "#### ตัดมาเฉพาะ column ที่ต้องการ"
      ]
    },
    {
      "cell_type": "code",
      "metadata": {
        "id": "x7I7LHQY0gLe"
      },
      "source": [
        "smaller_table = data_covid[['province_of_onset','announce_date','risk']]\n",
        "smaller_table"
      ],
      "execution_count": null,
      "outputs": []
    },
    {
      "cell_type": "markdown",
      "metadata": {
        "id": "nrVTN03F2GpV"
      },
      "source": [
        "#### ตัดเฉพาะ rows ที่ต้องการ"
      ]
    },
    {
      "cell_type": "markdown",
      "metadata": {
        "id": "58aOjVTl2SK0"
      },
      "source": [
        "##### แบบง่าย แต่ใช้การอะไรไม่ค่อยจะได้ (มองเป็น array แล้วตัดแบบ array)"
      ]
    },
    {
      "cell_type": "code",
      "metadata": {
        "id": "NYFm0KkM1vqR"
      },
      "source": [
        "data_covid.iloc[1:5,:]"
      ],
      "execution_count": null,
      "outputs": []
    },
    {
      "cell_type": "markdown",
      "metadata": {
        "id": "yR2j59YD2y65"
      },
      "source": [
        "แบบ advanced แต่ใช้ประโยชน์ได้เยอะกว่า (ตัดแบบใช้ logic query)"
      ]
    },
    {
      "cell_type": "markdown",
      "source": [
        "```pddf```[list_of_logical_values] คือการเลือก row ที่ logical values เป็น True"
      ],
      "metadata": {
        "id": "CHJVF0-bW8vD"
      }
    },
    {
      "cell_type": "code",
      "source": [
        "data_covid['province_of_onset']"
      ],
      "metadata": {
        "id": "6I1Mfj_VXjbt"
      },
      "execution_count": null,
      "outputs": []
    },
    {
      "cell_type": "code",
      "source": [
        "data_covid['province_of_onset']=='ขอนแก่น'"
      ],
      "metadata": {
        "id": "tfwtOaG1W55V"
      },
      "execution_count": null,
      "outputs": []
    },
    {
      "cell_type": "code",
      "metadata": {
        "id": "7l8BC42x2qSm"
      },
      "source": [
        "data_covid[data_covid['province_of_onset']=='ขอนแก่น']"
      ],
      "execution_count": null,
      "outputs": []
    },
    {
      "cell_type": "code",
      "source": [
        "data_covid[data_covid['age']>=70]"
      ],
      "metadata": {
        "id": "ZHpDomPuYT3n"
      },
      "execution_count": null,
      "outputs": []
    },
    {
      "cell_type": "markdown",
      "metadata": {
        "id": "z9IC5md533qS"
      },
      "source": [
        "การชี้ค่าในตารางด้วย data_covid[***x***] ค่า ***x*** สามารถมีค่าที่ใส่เข้าไปได้ 2 แบบ\n",
        "\n",
        "\n",
        "1.   ชื่อ column\n",
        "2.   ใส่ rows ที่ต้องการ (ใส่ list ที่มี***ขนาดเท่ากับจำนวนแถว*** แล้วบอกว่าเอา แถวไหนบ้างโดยใช้ logical expression (```True```/```False```))\n",
        "\n"
      ]
    },
    {
      "cell_type": "code",
      "metadata": {
        "id": "jQu4sr_53Ytk"
      },
      "source": [
        "eight_rows_covid = data_covid.iloc[:8,3:] # ตารางตัวอย่าง\n",
        "eight_rows_covid"
      ],
      "execution_count": null,
      "outputs": []
    },
    {
      "cell_type": "code",
      "metadata": {
        "id": "3NeywU6J48Vv"
      },
      "source": [
        "eight_rows_covid[[True,False,True,True,False,True,False,False]]   #2.   ใส่ list ที่ มีค่า logic ของ แต่ละ row โดยที่ ค่า True คือ เลือก ค่า False คือไม่เลืิอก"
      ],
      "execution_count": null,
      "outputs": []
    },
    {
      "cell_type": "code",
      "metadata": {
        "id": "VaD8Uq625Xsk"
      },
      "source": [
        "eight_rows_covid['province_of_onset'] == 'กรุงเทพมหานคร'  #สร้าง list ของ logical expression"
      ],
      "execution_count": null,
      "outputs": []
    },
    {
      "cell_type": "code",
      "metadata": {
        "id": "Ch14sJ-c6MFP"
      },
      "source": [
        "eight_rows_covid[eight_rows_covid['province_of_onset'] == 'กรุงเทพมหานคร']  #เราเอา 2 บรรทัดบนมาบวกกัน"
      ],
      "execution_count": null,
      "outputs": []
    },
    {
      "cell_type": "code",
      "source": [
        "eight_rows_covid['district_of_onset'] == 'เมือง'"
      ],
      "metadata": {
        "id": "omeJ7wj4a0rN"
      },
      "execution_count": null,
      "outputs": []
    },
    {
      "cell_type": "code",
      "source": [
        "import numpy as np"
      ],
      "metadata": {
        "id": "rtXDtcyScGO-"
      },
      "execution_count": null,
      "outputs": []
    },
    {
      "cell_type": "markdown",
      "source": [
        "$.isnull()$ ใช้ตรวจสอบว่าเป็น NaN หรือไม่"
      ],
      "metadata": {
        "id": "WLHyHltKcwRH"
      }
    },
    {
      "cell_type": "code",
      "source": [
        "eight_rows_covid['district_of_onset'].isnull()"
      ],
      "metadata": {
        "id": "DTEFmdAmbQYu"
      },
      "execution_count": null,
      "outputs": []
    },
    {
      "cell_type": "code",
      "source": [
        "sum(eight_rows_covid['district_of_onset'].isnull())"
      ],
      "metadata": {
        "id": "lNLVa-vFi2Sn"
      },
      "execution_count": null,
      "outputs": []
    },
    {
      "cell_type": "markdown",
      "metadata": {
        "id": "HTZIBf0a7wTM"
      },
      "source": [
        "Quiz (ให้ใช้เฉพาะที่อาจารย์สอนไปแล้วในวิชานี้)\n",
        "\n",
        "1.   คำนวณ อายุเฉลี่ย ของ**ผู้ชาย** ในข้อมูลทั้งหมด\n",
        "2.   คำนวณ อายุเฉลี่ย ของ**ผู้ชาย** ในจังหวัดขอนแก่น\n",
        "3.   หาจำนวนผู้ป่วยที่เป็นคน **ที่ไม่ใช่คนไทย**"
      ]
    },
    {
      "cell_type": "code",
      "metadata": {
        "id": "hxkhDHOK6hoc"
      },
      "source": [
        "this_data = data_covid[['sex','age','province_of_onset']]"
      ],
      "execution_count": null,
      "outputs": []
    },
    {
      "cell_type": "code",
      "metadata": {
        "id": "KZvCLjtIYfV9"
      },
      "source": [
        "this_data"
      ],
      "execution_count": null,
      "outputs": []
    },
    {
      "cell_type": "code",
      "metadata": {
        "id": "O-364VUjYgxw"
      },
      "source": [
        "female = this_data[this_data['sex']=='หญิง']\n",
        "female"
      ],
      "execution_count": null,
      "outputs": []
    },
    {
      "cell_type": "code",
      "source": [
        "female['age']"
      ],
      "metadata": {
        "id": "ydY1eWvAutHQ"
      },
      "execution_count": null,
      "outputs": []
    },
    {
      "cell_type": "code",
      "metadata": {
        "id": "jdDlyCZiY_U3"
      },
      "source": [
        "sum = 0\n",
        "N = 0\n",
        "for a in female['age']:\n",
        "\n",
        "    if a > 0:\n",
        "        sum += a # sum = sum + a\n",
        "        N += 1\n",
        "\n",
        "print(f'อายุเฉลี่ย ของ ผู้ป่วยหญิง {sum/N}')"
      ],
      "execution_count": null,
      "outputs": []
    },
    {
      "cell_type": "code",
      "metadata": {
        "id": "LpQi57Z8ZhIF"
      },
      "source": [
        "female_KK = female[female['province_of_onset']=='ขอนแก่น']\n",
        "\n",
        "sum = 0\n",
        "N = 0\n",
        "for a in female_KK['age']:\n",
        "\n",
        "    if a > 0:\n",
        "        sum += a # sum = sum + a\n",
        "        N += 1\n",
        "\n",
        "print(f'อายุเฉลี่ย ของ ผู้ป่วยหญิง ในจังหวัดขอนแก่น {sum/N}')"
      ],
      "execution_count": null,
      "outputs": []
    },
    {
      "cell_type": "code",
      "source": [
        "female[(female['province_of_onset']=='ขอนแก่น') | (female['province_of_onset']=='หนองคาย')]"
      ],
      "metadata": {
        "id": "6uofVICgwPw8"
      },
      "execution_count": null,
      "outputs": []
    },
    {
      "cell_type": "markdown",
      "source": [
        "#### หาจำนวนคนป่วยที่ไม่ใช่คนไทย"
      ],
      "metadata": {
        "id": "3Enfi22gXjJQ"
      }
    },
    {
      "cell_type": "code",
      "source": [
        "import numpy as np"
      ],
      "metadata": {
        "id": "WSiCLw5vYGQv"
      },
      "execution_count": null,
      "outputs": []
    },
    {
      "cell_type": "code",
      "source": [
        "np.sum(data_covid['nationality'].dropna() != 'Thailand')"
      ],
      "metadata": {
        "id": "9kXcQaq7Xij5"
      },
      "execution_count": null,
      "outputs": []
    },
    {
      "cell_type": "markdown",
      "metadata": {
        "id": "Jol0oyUYb2-9"
      },
      "source": [
        "การจัดการ Missing Value\n",
        "\n",
        "- ลบ record ที่เป็น missing\n",
        "- แทนที่ ค่า missing ด้วยค่าที่เหมาะสม mean, default, category-unknown\n",
        "- ใช้ ค่าจาก columns อื่นๆ ช่วยประมาณค่า ค่าใน column ที่หายไป (regression, deep learning, etc.)"
      ]
    },
    {
      "cell_type": "markdown",
      "metadata": {
        "id": "wedBfQPMePi6"
      },
      "source": [
        "### ลบ record (dropna)\n",
        "\n",
        "missing = ```None``` ```NA```(not autorized) ```NaN``` (not a number)"
      ]
    },
    {
      "cell_type": "code",
      "source": [
        "this_data"
      ],
      "metadata": {
        "id": "DagWgMmSC47b"
      },
      "execution_count": null,
      "outputs": []
    },
    {
      "cell_type": "code",
      "metadata": {
        "id": "x_f9i5-UePB-"
      },
      "source": [
        "this_data.shape #(12423, 3)"
      ],
      "execution_count": null,
      "outputs": []
    },
    {
      "cell_type": "code",
      "source": [
        "this_data.dropna()"
      ],
      "metadata": {
        "id": "1jUEAe7nDDxa"
      },
      "execution_count": null,
      "outputs": []
    },
    {
      "cell_type": "code",
      "metadata": {
        "id": "XHrGf2AUfSko"
      },
      "source": [
        "print(data_covid.shape)\n",
        "print(data_covid.dropna().shape)"
      ],
      "execution_count": null,
      "outputs": []
    },
    {
      "cell_type": "code",
      "source": [
        "this_data.dropna(subset=['age','sex'])"
      ],
      "metadata": {
        "id": "y2kDzWaPDkcH"
      },
      "execution_count": null,
      "outputs": []
    },
    {
      "cell_type": "code",
      "source": [
        "print(this_data.dropna().shape)\n",
        "print(this_data.dropna(subset=['sex','age']).shape)"
      ],
      "metadata": {
        "id": "TzVFFCWBDkQ4"
      },
      "execution_count": null,
      "outputs": []
    },
    {
      "cell_type": "markdown",
      "source": [
        "# ตรวจสอบ Missing (```isnull()```)"
      ],
      "metadata": {
        "id": "HT8aUn3kEzRI"
      }
    },
    {
      "cell_type": "code",
      "source": [
        "data1.isnull()"
      ],
      "metadata": {
        "id": "jm0kpFrRDkOM"
      },
      "execution_count": null,
      "outputs": []
    },
    {
      "cell_type": "code",
      "source": [
        "data1.isnull().any() # .any() เอาค่าความจริงใน column มา OR กัน (ใช้หาค่าว่าง)"
      ],
      "metadata": {
        "id": "Xedt7QXqDkJ6"
      },
      "execution_count": null,
      "outputs": []
    },
    {
      "cell_type": "code",
      "source": [
        "data1.isnull().all() # .all() เอาค่าความจริงใน column มา AND กัน"
      ],
      "metadata": {
        "id": "D2OrckdlE5Ot"
      },
      "execution_count": null,
      "outputs": []
    },
    {
      "cell_type": "code",
      "source": [
        "data1.isnull().any().any()"
      ],
      "metadata": {
        "id": "jTfgKcyiE5Dg"
      },
      "execution_count": null,
      "outputs": []
    },
    {
      "cell_type": "markdown",
      "source": [
        "การจัดการ Missing (dropna)\n",
        "\n",
        "\n",
        "- ลบ record ที่เป็น missing\n",
        "- แทนที่ ค่า missing ด้วยค่าที่เหมาะสม mean, default, category-unknown\n",
        "- ใช้ ค่าจาก columns อื่นๆ ช่วยประมาณค่า ค่าใน column ที่หายไป (regression, deep learning, etc.)"
      ],
      "metadata": {
        "id": "1ReNcs2GEOCH"
      }
    },
    {
      "cell_type": "markdown",
      "source": [
        "#NaN\n",
        "#Null\n",
        "#NA"
      ],
      "metadata": {
        "id": "83uCITd3FMQo"
      }
    },
    {
      "cell_type": "code",
      "source": [
        "data1.shape"
      ],
      "metadata": {
        "id": "jiKUujuWFtp8"
      },
      "execution_count": null,
      "outputs": []
    },
    {
      "cell_type": "code",
      "source": [
        "data1.dropna().shape"
      ],
      "metadata": {
        "id": "rwNyc6iVFLtA"
      },
      "execution_count": null,
      "outputs": []
    },
    {
      "cell_type": "code",
      "source": [
        "data1.dropna(subset=['Fiscal_year']).shape"
      ],
      "metadata": {
        "id": "OYHDvpKlENvF"
      },
      "execution_count": null,
      "outputs": []
    },
    {
      "cell_type": "markdown",
      "source": [
        "#FillNA\n",
        "คือเติมค่าลงในค่าว่าง\n"
      ],
      "metadata": {
        "id": "Dw9noehLJsli"
      }
    },
    {
      "cell_type": "code",
      "source": [
        "set (data1['Core_budget_code'] )  # เลือกค่าไม่ซ้ำกันมา"
      ],
      "metadata": {
        "id": "2Pc0e3SRJsJJ"
      },
      "execution_count": null,
      "outputs": []
    },
    {
      "cell_type": "code",
      "source": [
        "data1.fillna('-',inplace=True)"
      ],
      "metadata": {
        "id": "cN2mmTQfENrI"
      },
      "execution_count": null,
      "outputs": []
    },
    {
      "cell_type": "code",
      "source": [
        "set (data1['Core_budget_code'])"
      ],
      "metadata": {
        "id": "FBumA-Y7ENnQ"
      },
      "execution_count": null,
      "outputs": []
    },
    {
      "cell_type": "markdown",
      "source": [
        "### 1. เพื่อให้ได้ผลลัพธ์การจัดการ ```dropna()``` ต้องเอาตัวแปรมารับ"
      ],
      "metadata": {
        "id": "Zk1jlJifH4dr"
      }
    },
    {
      "cell_type": "code",
      "source": [
        "this_data_nonull = this_data.dropna(subset=['sex','age'])"
      ],
      "metadata": {
        "id": "Eel9ffG3IGVR"
      },
      "execution_count": null,
      "outputs": []
    },
    {
      "cell_type": "code",
      "source": [
        "this_data_nonull.isnull().any()"
      ],
      "metadata": {
        "id": "vuKKQdJGE4pr"
      },
      "execution_count": null,
      "outputs": []
    },
    {
      "cell_type": "markdown",
      "source": [
        "### 2. update ตารางด้วยตัวแปร ```inplace```"
      ],
      "metadata": {
        "id": "0t2Z-fDwITjk"
      }
    },
    {
      "cell_type": "code",
      "source": [
        "this_data.dropna(subset=['sex','age'],inplace=True)"
      ],
      "metadata": {
        "id": "J9xXSTGPIerx"
      },
      "execution_count": null,
      "outputs": []
    },
    {
      "cell_type": "code",
      "source": [
        "this_data.isnull().any()"
      ],
      "metadata": {
        "id": "xmXVdVexIebF"
      },
      "execution_count": null,
      "outputs": []
    },
    {
      "cell_type": "code",
      "source": [
        "aa = this_data.dropna(subset=['sex','age'],inplace=True)"
      ],
      "metadata": {
        "id": "JnDdRvgkJKIt"
      },
      "execution_count": null,
      "outputs": []
    },
    {
      "cell_type": "code",
      "source": [
        "aa"
      ],
      "metadata": {
        "id": "BKZ2ZQD9JQJd"
      },
      "execution_count": null,
      "outputs": []
    },
    {
      "cell_type": "markdown",
      "metadata": {
        "id": "m5hChDmpjkyN"
      },
      "source": [
        "### แทน missing ด้วยค่าที่เหมาะสม (```fillna()```)"
      ]
    },
    {
      "cell_type": "code",
      "metadata": {
        "id": "KvRsTv4umSnR"
      },
      "source": [
        "this_data = data_covid[['sex','age','province_of_onset']]"
      ],
      "execution_count": null,
      "outputs": []
    },
    {
      "cell_type": "code",
      "metadata": {
        "id": "8n1Qyl0ibKrL"
      },
      "source": [
        "this_data"
      ],
      "execution_count": null,
      "outputs": []
    },
    {
      "cell_type": "code",
      "metadata": {
        "id": "wnlhDEjpkgUr"
      },
      "source": [
        "print(f'จำนวน record ก่อน drop missing ใน province {this_data.shape[0]}')\n",
        "print(f'จำนวน record หลัง drop missing ใน province {this_data.dropna(subset=[\"province_of_onset\"]).shape[0]}')"
      ],
      "execution_count": null,
      "outputs": []
    },
    {
      "cell_type": "markdown",
      "source": [
        "### 1. แทนด้วย class ใหม่"
      ],
      "metadata": {
        "id": "VafsBJyuLzul"
      }
    },
    {
      "cell_type": "code",
      "metadata": {
        "id": "rFrzt9d7mZx4"
      },
      "source": [
        "this_data_updated = this_data.fillna(value={'sex':'ไม่รู้', 'age':-99, 'province_of_onset':'ไม่รู้'})\n",
        "this_data_updated.head()"
      ],
      "execution_count": null,
      "outputs": []
    },
    {
      "cell_type": "code",
      "source": [
        "this_data_updated.tail(15)"
      ],
      "metadata": {
        "id": "K-i3Ni62MCD_"
      },
      "execution_count": null,
      "outputs": []
    },
    {
      "cell_type": "code",
      "source": [
        "this_data_updated.isnull().any()"
      ],
      "metadata": {
        "id": "keFV6MJCLqAJ"
      },
      "execution_count": null,
      "outputs": []
    },
    {
      "cell_type": "markdown",
      "source": [
        "### 2. แทนด้วยค่าที่เหมาะสม\n",
        "\n",
        "\n",
        "*   ตามใจคนทำ\n",
        "*   ค่ากลาง\n",
        "\n"
      ],
      "metadata": {
        "id": "VqyI1LblMUx-"
      }
    },
    {
      "cell_type": "markdown",
      "source": [
        "#### ตามใจคนทำ"
      ],
      "metadata": {
        "id": "wHh1S-4KN_RZ"
      }
    },
    {
      "cell_type": "code",
      "source": [
        "data_covid.head()"
      ],
      "metadata": {
        "id": "F7UXHr-IMpyR"
      },
      "execution_count": null,
      "outputs": []
    },
    {
      "cell_type": "code",
      "source": [
        "data_covid_fillasiwant = data_covid.fillna(value={'sex':'หญิง'})  #เรามีข้อมูลว่า เพศหญิงมีเยอะกว่าเพศชาย"
      ],
      "metadata": {
        "id": "ExtImcdMMgTY"
      },
      "execution_count": null,
      "outputs": []
    },
    {
      "cell_type": "code",
      "source": [
        "data_covid_fillasiwant.isnull().any()"
      ],
      "metadata": {
        "id": "6GqvCJQSNUBd"
      },
      "execution_count": null,
      "outputs": []
    },
    {
      "cell_type": "code",
      "source": [
        "data_covid_fillwithmean = data_covid.fillna(value={'age':data_covid['age'].mean()})"
      ],
      "metadata": {
        "id": "dm3aeX6zMf-o"
      },
      "execution_count": null,
      "outputs": []
    },
    {
      "cell_type": "code",
      "source": [
        "data_covid_fillwithmean.isnull().any()"
      ],
      "metadata": {
        "id": "Ixiwxl1tOmac"
      },
      "execution_count": null,
      "outputs": []
    },
    {
      "cell_type": "markdown",
      "source": [
        "#### แทนด้วยค่ากลาง"
      ],
      "metadata": {
        "id": "01ChEOM6OCUs"
      }
    },
    {
      "cell_type": "code",
      "source": [
        "data_covid['age']"
      ],
      "metadata": {
        "id": "GODZ_S29OMi_"
      },
      "execution_count": null,
      "outputs": []
    },
    {
      "cell_type": "code",
      "source": [
        "data_covid['age'].mean()"
      ],
      "metadata": {
        "id": "CNX3z3EqOSLj"
      },
      "execution_count": null,
      "outputs": []
    },
    {
      "cell_type": "markdown",
      "source": [
        "# HW3\n",
        "\n",
        "\n",
        "\n",
        "1.   รายการที่แพงและถูกที่สุดคือรายการไหน\n",
        "2.   รายการขุดลอกคูคลองของ 'สำนักงานเขตคลองสาน' และ 'สำนักงานเขตคลองสามวา'\n",
        "3.   จากข้อ 2 เขตไหนใช้งบประมาณเยอะกว่ากัน\n",
        "4.   Core Budget ไหน ('12-เงินสำรองจ่ายทั่วไป กรณีค่าใช้จ่ายต่างๆ เกี่ยวกับน้ำท่วม', '17-เงินสำรองจ่ายทั่วไป กรณีค่าใช้จ่ายเพื่อการพัฒนากรุงเทพมหานคร','28-เงินสำรองค่าใช้จ่าย ในการพัฒนาเขต') มีค่าเฉลี่ยงบประมาณที่ถูกอนุมัติสูงที่สุด\n",
        "\n",
        "\n",
        "\n"
      ],
      "metadata": {
        "id": "3ynq9hGILxei"
      }
    },
    {
      "cell_type": "markdown",
      "source": [
        "ข้อ1"
      ],
      "metadata": {
        "id": "mO9aUbTSqvfq"
      }
    },
    {
      "cell_type": "code",
      "source": [
        "data1['Approved_buget'].max()  # รายการที่แพงที่สุด\n"
      ],
      "metadata": {
        "id": "fHBVcnRgcQam"
      },
      "execution_count": null,
      "outputs": []
    },
    {
      "cell_type": "code",
      "source": [
        "data1['Approved_buget'].min() # รายการที่ถูกที่สุด"
      ],
      "metadata": {
        "id": "Y8ReQQ9KdLWm"
      },
      "execution_count": null,
      "outputs": []
    },
    {
      "cell_type": "code",
      "source": [
        "aa =data1['Approved_buget'].max()\n",
        "bb = data1['Approved_buget'].min()"
      ],
      "metadata": {
        "id": "WoTGnBteqhox"
      },
      "execution_count": null,
      "outputs": []
    },
    {
      "cell_type": "code",
      "source": [
        "data1[(data1['Approved_buget'] == aa)|(data1['Approved_buget'] == bb)]"
      ],
      "metadata": {
        "id": "Kw-S-K5Jnk50"
      },
      "execution_count": null,
      "outputs": []
    },
    {
      "cell_type": "markdown",
      "source": [
        "ข้อ 2"
      ],
      "metadata": {
        "id": "Zdmtv9zuq0-K"
      }
    },
    {
      "cell_type": "code",
      "source": [
        "data1[(data1['Department'] == 'สำนักงานเขตคลองสาน') | (data1['Department'] == 'สำนักงานเขตคลองสามวา')]"
      ],
      "metadata": {
        "id": "43FA11Fmq0pI"
      },
      "execution_count": null,
      "outputs": []
    },
    {
      "cell_type": "markdown",
      "source": [
        "ข้อ3"
      ],
      "metadata": {
        "id": "SP53A2vUtfA3"
      }
    },
    {
      "cell_type": "code",
      "source": [
        "ks=data1[data1['Department'] == 'สำนักงานเขตคลองสาน']\n",
        "ksw=data1[data1['Department'] =='สำนักงานเขตคลองสามวา']\n"
      ],
      "metadata": {
        "id": "OT2n2UGuqsHr"
      },
      "execution_count": null,
      "outputs": []
    },
    {
      "cell_type": "code",
      "source": [
        "ks['Approved_buget'].sum()"
      ],
      "metadata": {
        "id": "ifbenOyax_zB"
      },
      "execution_count": null,
      "outputs": []
    },
    {
      "cell_type": "code",
      "source": [
        "ksw['Approved_buget'].sum()"
      ],
      "metadata": {
        "id": "fPUVox6Fyfub"
      },
      "execution_count": null,
      "outputs": []
    },
    {
      "cell_type": "code",
      "source": [
        "print('สำนักงานเขตคลองสามวาใช้ไป',ksw['Approved_buget'].sum(),'บาท ซึ่งใช้เยอะกว่าเขตสำนักงานเขตคลองสานที่ใช้ไป',ks['Approved_buget'].sum(),'บาท')"
      ],
      "metadata": {
        "id": "ZWSV51fsy3lj"
      },
      "execution_count": null,
      "outputs": []
    },
    {
      "cell_type": "markdown",
      "source": [
        "ข้อ 4 Core Budget ไหน ('12-เงินสำรองจ่ายทั่วไป กรณีค่าใช้จ่ายต่างๆ เกี่ยวกับน้ำท่วม', '17-เงินสำรองจ่ายทั่วไป กรณีค่าใช้จ่ายเพื่อการพัฒนากรุงเทพมหานคร','28-เงินสำรองค่าใช้จ่าย ในการพัฒนาเขต') มีค่าเฉลี่ยงบประมาณที่ถูกอนุมัติสูงที่สุด"
      ],
      "metadata": {
        "id": "WfLnVunpzTi0"
      }
    },
    {
      "cell_type": "code",
      "source": [
        "money_1=data1[data1['Core_budget_code']=='12-เงินสำรองจ่ายทั่วไป กรณีค่าใช้จ่ายต่างๆ เกี่ยวกับน้ำท่วม']"
      ],
      "metadata": {
        "id": "ZxtxunifzaD4"
      },
      "execution_count": null,
      "outputs": []
    },
    {
      "cell_type": "code",
      "source": [
        "sum = 0\n",
        "N = 0\n",
        "for a in money_1['Approved_buget']:\n",
        "\n",
        "    if a > 0:\n",
        "        sum += a # sum = sum + a\n",
        "        N += 1\n",
        "\n",
        "print(f'งบเฉลี่ย ของ 12-เงินสำรองจ่ายทั่วไป กรณีค่าใช้จ่ายต่างๆ เกี่ยวกับน้ำท่วมคือ {sum/N} บาท')"
      ],
      "metadata": {
        "id": "aAjn9LN71xCC"
      },
      "execution_count": null,
      "outputs": []
    },
    {
      "cell_type": "code",
      "source": [
        "money_2=data1[data1['Core_budget_code']== '17-เงินสำรองจ่ายทั่วไป กรณีค่าใช้จ่ายเพื่อการพัฒนากรุงเทพมหานคร']"
      ],
      "metadata": {
        "id": "uMFi-HG30eKk"
      },
      "execution_count": null,
      "outputs": []
    },
    {
      "cell_type": "code",
      "source": [
        "sum = 0\n",
        "N = 0\n",
        "for a in money_2['Approved_buget']:\n",
        "\n",
        "    if a > 0:\n",
        "        sum += a # sum = sum + a\n",
        "        N += 1\n",
        "\n",
        "print(f'งบเฉลี่ย ของ 17-เงินสำรองจ่ายทั่วไป กรณีค่าใช้จ่ายเพื่อการพัฒนากรุงเทพมหานครคือ {sum/N} บาท')"
      ],
      "metadata": {
        "id": "ZdEUXR2i16vt"
      },
      "execution_count": null,
      "outputs": []
    },
    {
      "cell_type": "code",
      "source": [
        "money_3=data1[data1['Core_budget_code']=='28-เงินสำรองค่าใช้จ่าย ในการพัฒนาเขต']"
      ],
      "metadata": {
        "id": "injoPMq30dzq"
      },
      "execution_count": null,
      "outputs": []
    },
    {
      "cell_type": "code",
      "source": [
        "sum = 0\n",
        "N = 0\n",
        "for a in money_3['Approved_buget']:\n",
        "\n",
        "    if a > 0:\n",
        "        sum += a # sum = sum + a\n",
        "        N += 1\n",
        "\n",
        "print(f'งบเฉลี่ย ของ 28-เงินสำรองค่าใช้จ่าย ในการพัฒนาเขตคือ {sum/N} บาท')"
      ],
      "metadata": {
        "id": "Q_Rr_ir52Iuq"
      },
      "execution_count": null,
      "outputs": []
    },
    {
      "cell_type": "code",
      "source": [
        "sum = 0\n",
        "N = 0\n",
        "for a in money_2['Approved_buget']:\n",
        "\n",
        "    if a > 0:\n",
        "        sum += a # sum = sum + a\n",
        "        N += 1\n",
        "\n",
        "print(f'เฉลย งบเฉลี่ยที่มากที่สุดคือ  17-เงินสำรองจ่ายทั่วไป กรณีค่าใช้จ่ายเพื่อการพัฒนากรุงเทพมหานคร เท่ากับ {sum/N} บาท')"
      ],
      "metadata": {
        "id": "DzQU2ih13Swa"
      },
      "execution_count": null,
      "outputs": []
    },
    {
      "cell_type": "markdown",
      "metadata": {
        "id": "ZbzScMVdb6U7"
      },
      "source": [
        "### การวนลูป record ในตาราง  (```.iterrows```)"
      ]
    },
    {
      "cell_type": "code",
      "source": [
        "for row_i in range(len(data1)):\n",
        "     print(data1.iloc[row_i,-2:])\n",
        "     print('----------------------')"
      ],
      "metadata": {
        "id": "19mCB3NzKTDx"
      },
      "execution_count": null,
      "outputs": []
    },
    {
      "cell_type": "code",
      "source": [
        "for row in data1.iterrows():\n",
        "  #print(row)\n",
        "  print(row[1]['Fiscal_year'])\n",
        "  print('_____________')"
      ],
      "metadata": {
        "id": "k5whYraEMfUH"
      },
      "execution_count": null,
      "outputs": []
    },
    {
      "cell_type": "markdown",
      "source": [
        "##การสร้าง columns เพิ่ม\n",
        "\n",
        "```df ['ชื่อ column ใหม่']= list of data มีจำนวนสมาชิกเท่ากับจำนวน row ของตาราง```\n",
        "\n",
        "```\n",
        "\n"
      ],
      "metadata": {
        "id": "BwSxyY1vNDFY"
      }
    },
    {
      "cell_type": "code",
      "source": [
        "small_df"
      ],
      "metadata": {
        "id": "DvlSkN3bOTf-",
        "outputId": "60a5cc4b-6c1e-4ff7-d41a-7a0fc8a19171",
        "colab": {
          "base_uri": "https://localhost:8080/",
          "height": 461
        }
      },
      "execution_count": 50,
      "outputs": [
        {
          "output_type": "execute_result",
          "data": {
            "text/plain": [
              "    Budget_resource  Issue_No  Fiscal_year  Department_code  \\\n",
              "687     งบเพิ่มเติม         1           66         50460000   \n",
              "688     งบเพิ่มเติม         1           66         50460000   \n",
              "689     งบเพิ่มเติม         1           66         50460000   \n",
              "690     งบเพิ่มเติม         1           66         50460000   \n",
              "691     งบเพิ่มเติม         1           66         50500000   \n",
              "\n",
              "               Department Core_budget_code Expenditure_category  \\\n",
              "687  สำนักงานเขตคลองสามวา              NaN              งบลงทุน   \n",
              "688  สำนักงานเขตคลองสามวา              NaN              งบลงทุน   \n",
              "689  สำนักงานเขตคลองสามวา              NaN              งบลงทุน   \n",
              "690  สำนักงานเขตคลองสามวา              NaN              งบลงทุน   \n",
              "691     สำนักงานเขตบางบอน              NaN              งบลงทุน   \n",
              "\n",
              "                                     Item_name  Approved_buget ผู้รับผิดชอบ  \n",
              "687                         ขุดลอกคลองผักกะเฉด         3686000          ลุง  \n",
              "688                    ขุดลอกคลองบึงทรายกองดิน         2575000         พิธา  \n",
              "689                          ขุดลอกลำรางซาฟารี          689000      ชัชชาติ  \n",
              "690                        ขุดลอกลำรางตาจันทร์          464000         ป้อม  \n",
              "691  ขุดลอกคลองบางบอนต่อจากของเดิมถึงคลองนายผล         7578000          ปชต  "
            ],
            "text/html": [
              "\n",
              "\n",
              "  <div id=\"df-6b226475-c849-489e-9abd-f4fb99108413\">\n",
              "    <div class=\"colab-df-container\">\n",
              "      <div>\n",
              "<style scoped>\n",
              "    .dataframe tbody tr th:only-of-type {\n",
              "        vertical-align: middle;\n",
              "    }\n",
              "\n",
              "    .dataframe tbody tr th {\n",
              "        vertical-align: top;\n",
              "    }\n",
              "\n",
              "    .dataframe thead th {\n",
              "        text-align: right;\n",
              "    }\n",
              "</style>\n",
              "<table border=\"1\" class=\"dataframe\">\n",
              "  <thead>\n",
              "    <tr style=\"text-align: right;\">\n",
              "      <th></th>\n",
              "      <th>Budget_resource</th>\n",
              "      <th>Issue_No</th>\n",
              "      <th>Fiscal_year</th>\n",
              "      <th>Department_code</th>\n",
              "      <th>Department</th>\n",
              "      <th>Core_budget_code</th>\n",
              "      <th>Expenditure_category</th>\n",
              "      <th>Item_name</th>\n",
              "      <th>Approved_buget</th>\n",
              "      <th>ผู้รับผิดชอบ</th>\n",
              "    </tr>\n",
              "  </thead>\n",
              "  <tbody>\n",
              "    <tr>\n",
              "      <th>687</th>\n",
              "      <td>งบเพิ่มเติม</td>\n",
              "      <td>1</td>\n",
              "      <td>66</td>\n",
              "      <td>50460000</td>\n",
              "      <td>สำนักงานเขตคลองสามวา</td>\n",
              "      <td>NaN</td>\n",
              "      <td>งบลงทุน</td>\n",
              "      <td>ขุดลอกคลองผักกะเฉด</td>\n",
              "      <td>3686000</td>\n",
              "      <td>ลุง</td>\n",
              "    </tr>\n",
              "    <tr>\n",
              "      <th>688</th>\n",
              "      <td>งบเพิ่มเติม</td>\n",
              "      <td>1</td>\n",
              "      <td>66</td>\n",
              "      <td>50460000</td>\n",
              "      <td>สำนักงานเขตคลองสามวา</td>\n",
              "      <td>NaN</td>\n",
              "      <td>งบลงทุน</td>\n",
              "      <td>ขุดลอกคลองบึงทรายกองดิน</td>\n",
              "      <td>2575000</td>\n",
              "      <td>พิธา</td>\n",
              "    </tr>\n",
              "    <tr>\n",
              "      <th>689</th>\n",
              "      <td>งบเพิ่มเติม</td>\n",
              "      <td>1</td>\n",
              "      <td>66</td>\n",
              "      <td>50460000</td>\n",
              "      <td>สำนักงานเขตคลองสามวา</td>\n",
              "      <td>NaN</td>\n",
              "      <td>งบลงทุน</td>\n",
              "      <td>ขุดลอกลำรางซาฟารี</td>\n",
              "      <td>689000</td>\n",
              "      <td>ชัชชาติ</td>\n",
              "    </tr>\n",
              "    <tr>\n",
              "      <th>690</th>\n",
              "      <td>งบเพิ่มเติม</td>\n",
              "      <td>1</td>\n",
              "      <td>66</td>\n",
              "      <td>50460000</td>\n",
              "      <td>สำนักงานเขตคลองสามวา</td>\n",
              "      <td>NaN</td>\n",
              "      <td>งบลงทุน</td>\n",
              "      <td>ขุดลอกลำรางตาจันทร์</td>\n",
              "      <td>464000</td>\n",
              "      <td>ป้อม</td>\n",
              "    </tr>\n",
              "    <tr>\n",
              "      <th>691</th>\n",
              "      <td>งบเพิ่มเติม</td>\n",
              "      <td>1</td>\n",
              "      <td>66</td>\n",
              "      <td>50500000</td>\n",
              "      <td>สำนักงานเขตบางบอน</td>\n",
              "      <td>NaN</td>\n",
              "      <td>งบลงทุน</td>\n",
              "      <td>ขุดลอกคลองบางบอนต่อจากของเดิมถึงคลองนายผล</td>\n",
              "      <td>7578000</td>\n",
              "      <td>ปชต</td>\n",
              "    </tr>\n",
              "  </tbody>\n",
              "</table>\n",
              "</div>\n",
              "      <button class=\"colab-df-convert\" onclick=\"convertToInteractive('df-6b226475-c849-489e-9abd-f4fb99108413')\"\n",
              "              title=\"Convert this dataframe to an interactive table.\"\n",
              "              style=\"display:none;\">\n",
              "\n",
              "  <svg xmlns=\"http://www.w3.org/2000/svg\" height=\"24px\"viewBox=\"0 0 24 24\"\n",
              "       width=\"24px\">\n",
              "    <path d=\"M0 0h24v24H0V0z\" fill=\"none\"/>\n",
              "    <path d=\"M18.56 5.44l.94 2.06.94-2.06 2.06-.94-2.06-.94-.94-2.06-.94 2.06-2.06.94zm-11 1L8.5 8.5l.94-2.06 2.06-.94-2.06-.94L8.5 2.5l-.94 2.06-2.06.94zm10 10l.94 2.06.94-2.06 2.06-.94-2.06-.94-.94-2.06-.94 2.06-2.06.94z\"/><path d=\"M17.41 7.96l-1.37-1.37c-.4-.4-.92-.59-1.43-.59-.52 0-1.04.2-1.43.59L10.3 9.45l-7.72 7.72c-.78.78-.78 2.05 0 2.83L4 21.41c.39.39.9.59 1.41.59.51 0 1.02-.2 1.41-.59l7.78-7.78 2.81-2.81c.8-.78.8-2.07 0-2.86zM5.41 20L4 18.59l7.72-7.72 1.47 1.35L5.41 20z\"/>\n",
              "  </svg>\n",
              "      </button>\n",
              "\n",
              "\n",
              "\n",
              "    <div id=\"df-dd8320ef-ca34-4b15-a8ee-a9047f58482b\">\n",
              "      <button class=\"colab-df-quickchart\" onclick=\"quickchart('df-dd8320ef-ca34-4b15-a8ee-a9047f58482b')\"\n",
              "              title=\"Suggest charts.\"\n",
              "              style=\"display:none;\">\n",
              "\n",
              "<svg xmlns=\"http://www.w3.org/2000/svg\" height=\"24px\"viewBox=\"0 0 24 24\"\n",
              "     width=\"24px\">\n",
              "    <g>\n",
              "        <path d=\"M19 3H5c-1.1 0-2 .9-2 2v14c0 1.1.9 2 2 2h14c1.1 0 2-.9 2-2V5c0-1.1-.9-2-2-2zM9 17H7v-7h2v7zm4 0h-2V7h2v10zm4 0h-2v-4h2v4z\"/>\n",
              "    </g>\n",
              "</svg>\n",
              "      </button>\n",
              "    </div>\n",
              "\n",
              "<style>\n",
              "  .colab-df-quickchart {\n",
              "    background-color: #E8F0FE;\n",
              "    border: none;\n",
              "    border-radius: 50%;\n",
              "    cursor: pointer;\n",
              "    display: none;\n",
              "    fill: #1967D2;\n",
              "    height: 32px;\n",
              "    padding: 0 0 0 0;\n",
              "    width: 32px;\n",
              "  }\n",
              "\n",
              "  .colab-df-quickchart:hover {\n",
              "    background-color: #E2EBFA;\n",
              "    box-shadow: 0px 1px 2px rgba(60, 64, 67, 0.3), 0px 1px 3px 1px rgba(60, 64, 67, 0.15);\n",
              "    fill: #174EA6;\n",
              "  }\n",
              "\n",
              "  [theme=dark] .colab-df-quickchart {\n",
              "    background-color: #3B4455;\n",
              "    fill: #D2E3FC;\n",
              "  }\n",
              "\n",
              "  [theme=dark] .colab-df-quickchart:hover {\n",
              "    background-color: #434B5C;\n",
              "    box-shadow: 0px 1px 3px 1px rgba(0, 0, 0, 0.15);\n",
              "    filter: drop-shadow(0px 1px 2px rgba(0, 0, 0, 0.3));\n",
              "    fill: #FFFFFF;\n",
              "  }\n",
              "</style>\n",
              "\n",
              "    <script>\n",
              "      async function quickchart(key) {\n",
              "        const containerElement = document.querySelector('#' + key);\n",
              "        const charts = await google.colab.kernel.invokeFunction(\n",
              "            'suggestCharts', [key], {});\n",
              "      }\n",
              "    </script>\n",
              "\n",
              "      <script>\n",
              "\n",
              "function displayQuickchartButton(domScope) {\n",
              "  let quickchartButtonEl =\n",
              "    domScope.querySelector('#df-dd8320ef-ca34-4b15-a8ee-a9047f58482b button.colab-df-quickchart');\n",
              "  quickchartButtonEl.style.display =\n",
              "    google.colab.kernel.accessAllowed ? 'block' : 'none';\n",
              "}\n",
              "\n",
              "        displayQuickchartButton(document);\n",
              "      </script>\n",
              "      <style>\n",
              "    .colab-df-container {\n",
              "      display:flex;\n",
              "      flex-wrap:wrap;\n",
              "      gap: 12px;\n",
              "    }\n",
              "\n",
              "    .colab-df-convert {\n",
              "      background-color: #E8F0FE;\n",
              "      border: none;\n",
              "      border-radius: 50%;\n",
              "      cursor: pointer;\n",
              "      display: none;\n",
              "      fill: #1967D2;\n",
              "      height: 32px;\n",
              "      padding: 0 0 0 0;\n",
              "      width: 32px;\n",
              "    }\n",
              "\n",
              "    .colab-df-convert:hover {\n",
              "      background-color: #E2EBFA;\n",
              "      box-shadow: 0px 1px 2px rgba(60, 64, 67, 0.3), 0px 1px 3px 1px rgba(60, 64, 67, 0.15);\n",
              "      fill: #174EA6;\n",
              "    }\n",
              "\n",
              "    [theme=dark] .colab-df-convert {\n",
              "      background-color: #3B4455;\n",
              "      fill: #D2E3FC;\n",
              "    }\n",
              "\n",
              "    [theme=dark] .colab-df-convert:hover {\n",
              "      background-color: #434B5C;\n",
              "      box-shadow: 0px 1px 3px 1px rgba(0, 0, 0, 0.15);\n",
              "      filter: drop-shadow(0px 1px 2px rgba(0, 0, 0, 0.3));\n",
              "      fill: #FFFFFF;\n",
              "    }\n",
              "  </style>\n",
              "\n",
              "      <script>\n",
              "        const buttonEl =\n",
              "          document.querySelector('#df-6b226475-c849-489e-9abd-f4fb99108413 button.colab-df-convert');\n",
              "        buttonEl.style.display =\n",
              "          google.colab.kernel.accessAllowed ? 'block' : 'none';\n",
              "\n",
              "        async function convertToInteractive(key) {\n",
              "          const element = document.querySelector('#df-6b226475-c849-489e-9abd-f4fb99108413');\n",
              "          const dataTable =\n",
              "            await google.colab.kernel.invokeFunction('convertToInteractive',\n",
              "                                                     [key], {});\n",
              "          if (!dataTable) return;\n",
              "\n",
              "          const docLinkHtml = 'Like what you see? Visit the ' +\n",
              "            '<a target=\"_blank\" href=https://colab.research.google.com/notebooks/data_table.ipynb>data table notebook</a>'\n",
              "            + ' to learn more about interactive tables.';\n",
              "          element.innerHTML = '';\n",
              "          dataTable['output_type'] = 'display_data';\n",
              "          await google.colab.output.renderOutput(dataTable, element);\n",
              "          const docLink = document.createElement('div');\n",
              "          docLink.innerHTML = docLinkHtml;\n",
              "          element.appendChild(docLink);\n",
              "        }\n",
              "      </script>\n",
              "    </div>\n",
              "  </div>\n"
            ]
          },
          "metadata": {},
          "execution_count": 50
        }
      ]
    },
    {
      "cell_type": "code",
      "source": [
        "  small_df['ผู้รับผิดชอบ'] = ['ลุง','พิธา','ชัชชาติ','ป้อม','ปชต']"
      ],
      "metadata": {
        "id": "9oymuKq_Nk5C",
        "outputId": "1c8760b7-73e3-4556-a8d5-6734fae5e59e",
        "colab": {
          "base_uri": "https://localhost:8080/"
        }
      },
      "execution_count": 51,
      "outputs": [
        {
          "output_type": "stream",
          "name": "stderr",
          "text": [
            "<ipython-input-51-15530de9214a>:1: SettingWithCopyWarning: \n",
            "A value is trying to be set on a copy of a slice from a DataFrame.\n",
            "Try using .loc[row_indexer,col_indexer] = value instead\n",
            "\n",
            "See the caveats in the documentation: https://pandas.pydata.org/pandas-docs/stable/user_guide/indexing.html#returning-a-view-versus-a-copy\n",
            "  small_df['ผู้รับผิดชอบ'] = ['ลุง','พิธา','ชัชชาติ','ป้อม','ปชต']\n"
          ]
        }
      ]
    },
    {
      "cell_type": "markdown",
      "source": [
        "การลบบ\n"
      ],
      "metadata": {
        "id": "_aoGe16RPV_I"
      }
    },
    {
      "cell_type": "code",
      "source": [
        "small_df.drop(axis=1,columns=['Core_budget_code'])"
      ],
      "metadata": {
        "id": "ZJ2ZaNKLPU16",
        "outputId": "585a6e22-0450-45fa-d597-fb46afc0162d",
        "colab": {
          "base_uri": "https://localhost:8080/",
          "height": 389
        }
      },
      "execution_count": 49,
      "outputs": [
        {
          "output_type": "execute_result",
          "data": {
            "text/plain": [
              "    Budget_resource  Issue_No  Fiscal_year  Department_code  \\\n",
              "687     งบเพิ่มเติม         1           66         50460000   \n",
              "688     งบเพิ่มเติม         1           66         50460000   \n",
              "689     งบเพิ่มเติม         1           66         50460000   \n",
              "690     งบเพิ่มเติม         1           66         50460000   \n",
              "691     งบเพิ่มเติม         1           66         50500000   \n",
              "\n",
              "               Department Expenditure_category  \\\n",
              "687  สำนักงานเขตคลองสามวา              งบลงทุน   \n",
              "688  สำนักงานเขตคลองสามวา              งบลงทุน   \n",
              "689  สำนักงานเขตคลองสามวา              งบลงทุน   \n",
              "690  สำนักงานเขตคลองสามวา              งบลงทุน   \n",
              "691     สำนักงานเขตบางบอน              งบลงทุน   \n",
              "\n",
              "                                     Item_name  Approved_buget ผู้รับผิดชอบ  \n",
              "687                         ขุดลอกคลองผักกะเฉด         3686000          ลุง  \n",
              "688                    ขุดลอกคลองบึงทรายกองดิน         2575000         พิธา  \n",
              "689                          ขุดลอกลำรางซาฟารี          689000      ชัชชาติ  \n",
              "690                        ขุดลอกลำรางตาจันทร์          464000         ป้อม  \n",
              "691  ขุดลอกคลองบางบอนต่อจากของเดิมถึงคลองนายผล         7578000          ปชต  "
            ],
            "text/html": [
              "\n",
              "\n",
              "  <div id=\"df-b7c23be8-1204-4e1c-b517-68b6f889fc5d\">\n",
              "    <div class=\"colab-df-container\">\n",
              "      <div>\n",
              "<style scoped>\n",
              "    .dataframe tbody tr th:only-of-type {\n",
              "        vertical-align: middle;\n",
              "    }\n",
              "\n",
              "    .dataframe tbody tr th {\n",
              "        vertical-align: top;\n",
              "    }\n",
              "\n",
              "    .dataframe thead th {\n",
              "        text-align: right;\n",
              "    }\n",
              "</style>\n",
              "<table border=\"1\" class=\"dataframe\">\n",
              "  <thead>\n",
              "    <tr style=\"text-align: right;\">\n",
              "      <th></th>\n",
              "      <th>Budget_resource</th>\n",
              "      <th>Issue_No</th>\n",
              "      <th>Fiscal_year</th>\n",
              "      <th>Department_code</th>\n",
              "      <th>Department</th>\n",
              "      <th>Expenditure_category</th>\n",
              "      <th>Item_name</th>\n",
              "      <th>Approved_buget</th>\n",
              "      <th>ผู้รับผิดชอบ</th>\n",
              "    </tr>\n",
              "  </thead>\n",
              "  <tbody>\n",
              "    <tr>\n",
              "      <th>687</th>\n",
              "      <td>งบเพิ่มเติม</td>\n",
              "      <td>1</td>\n",
              "      <td>66</td>\n",
              "      <td>50460000</td>\n",
              "      <td>สำนักงานเขตคลองสามวา</td>\n",
              "      <td>งบลงทุน</td>\n",
              "      <td>ขุดลอกคลองผักกะเฉด</td>\n",
              "      <td>3686000</td>\n",
              "      <td>ลุง</td>\n",
              "    </tr>\n",
              "    <tr>\n",
              "      <th>688</th>\n",
              "      <td>งบเพิ่มเติม</td>\n",
              "      <td>1</td>\n",
              "      <td>66</td>\n",
              "      <td>50460000</td>\n",
              "      <td>สำนักงานเขตคลองสามวา</td>\n",
              "      <td>งบลงทุน</td>\n",
              "      <td>ขุดลอกคลองบึงทรายกองดิน</td>\n",
              "      <td>2575000</td>\n",
              "      <td>พิธา</td>\n",
              "    </tr>\n",
              "    <tr>\n",
              "      <th>689</th>\n",
              "      <td>งบเพิ่มเติม</td>\n",
              "      <td>1</td>\n",
              "      <td>66</td>\n",
              "      <td>50460000</td>\n",
              "      <td>สำนักงานเขตคลองสามวา</td>\n",
              "      <td>งบลงทุน</td>\n",
              "      <td>ขุดลอกลำรางซาฟารี</td>\n",
              "      <td>689000</td>\n",
              "      <td>ชัชชาติ</td>\n",
              "    </tr>\n",
              "    <tr>\n",
              "      <th>690</th>\n",
              "      <td>งบเพิ่มเติม</td>\n",
              "      <td>1</td>\n",
              "      <td>66</td>\n",
              "      <td>50460000</td>\n",
              "      <td>สำนักงานเขตคลองสามวา</td>\n",
              "      <td>งบลงทุน</td>\n",
              "      <td>ขุดลอกลำรางตาจันทร์</td>\n",
              "      <td>464000</td>\n",
              "      <td>ป้อม</td>\n",
              "    </tr>\n",
              "    <tr>\n",
              "      <th>691</th>\n",
              "      <td>งบเพิ่มเติม</td>\n",
              "      <td>1</td>\n",
              "      <td>66</td>\n",
              "      <td>50500000</td>\n",
              "      <td>สำนักงานเขตบางบอน</td>\n",
              "      <td>งบลงทุน</td>\n",
              "      <td>ขุดลอกคลองบางบอนต่อจากของเดิมถึงคลองนายผล</td>\n",
              "      <td>7578000</td>\n",
              "      <td>ปชต</td>\n",
              "    </tr>\n",
              "  </tbody>\n",
              "</table>\n",
              "</div>\n",
              "      <button class=\"colab-df-convert\" onclick=\"convertToInteractive('df-b7c23be8-1204-4e1c-b517-68b6f889fc5d')\"\n",
              "              title=\"Convert this dataframe to an interactive table.\"\n",
              "              style=\"display:none;\">\n",
              "\n",
              "  <svg xmlns=\"http://www.w3.org/2000/svg\" height=\"24px\"viewBox=\"0 0 24 24\"\n",
              "       width=\"24px\">\n",
              "    <path d=\"M0 0h24v24H0V0z\" fill=\"none\"/>\n",
              "    <path d=\"M18.56 5.44l.94 2.06.94-2.06 2.06-.94-2.06-.94-.94-2.06-.94 2.06-2.06.94zm-11 1L8.5 8.5l.94-2.06 2.06-.94-2.06-.94L8.5 2.5l-.94 2.06-2.06.94zm10 10l.94 2.06.94-2.06 2.06-.94-2.06-.94-.94-2.06-.94 2.06-2.06.94z\"/><path d=\"M17.41 7.96l-1.37-1.37c-.4-.4-.92-.59-1.43-.59-.52 0-1.04.2-1.43.59L10.3 9.45l-7.72 7.72c-.78.78-.78 2.05 0 2.83L4 21.41c.39.39.9.59 1.41.59.51 0 1.02-.2 1.41-.59l7.78-7.78 2.81-2.81c.8-.78.8-2.07 0-2.86zM5.41 20L4 18.59l7.72-7.72 1.47 1.35L5.41 20z\"/>\n",
              "  </svg>\n",
              "      </button>\n",
              "\n",
              "\n",
              "\n",
              "    <div id=\"df-d7e4094b-c0db-401b-970e-1bb998fa5973\">\n",
              "      <button class=\"colab-df-quickchart\" onclick=\"quickchart('df-d7e4094b-c0db-401b-970e-1bb998fa5973')\"\n",
              "              title=\"Suggest charts.\"\n",
              "              style=\"display:none;\">\n",
              "\n",
              "<svg xmlns=\"http://www.w3.org/2000/svg\" height=\"24px\"viewBox=\"0 0 24 24\"\n",
              "     width=\"24px\">\n",
              "    <g>\n",
              "        <path d=\"M19 3H5c-1.1 0-2 .9-2 2v14c0 1.1.9 2 2 2h14c1.1 0 2-.9 2-2V5c0-1.1-.9-2-2-2zM9 17H7v-7h2v7zm4 0h-2V7h2v10zm4 0h-2v-4h2v4z\"/>\n",
              "    </g>\n",
              "</svg>\n",
              "      </button>\n",
              "    </div>\n",
              "\n",
              "<style>\n",
              "  .colab-df-quickchart {\n",
              "    background-color: #E8F0FE;\n",
              "    border: none;\n",
              "    border-radius: 50%;\n",
              "    cursor: pointer;\n",
              "    display: none;\n",
              "    fill: #1967D2;\n",
              "    height: 32px;\n",
              "    padding: 0 0 0 0;\n",
              "    width: 32px;\n",
              "  }\n",
              "\n",
              "  .colab-df-quickchart:hover {\n",
              "    background-color: #E2EBFA;\n",
              "    box-shadow: 0px 1px 2px rgba(60, 64, 67, 0.3), 0px 1px 3px 1px rgba(60, 64, 67, 0.15);\n",
              "    fill: #174EA6;\n",
              "  }\n",
              "\n",
              "  [theme=dark] .colab-df-quickchart {\n",
              "    background-color: #3B4455;\n",
              "    fill: #D2E3FC;\n",
              "  }\n",
              "\n",
              "  [theme=dark] .colab-df-quickchart:hover {\n",
              "    background-color: #434B5C;\n",
              "    box-shadow: 0px 1px 3px 1px rgba(0, 0, 0, 0.15);\n",
              "    filter: drop-shadow(0px 1px 2px rgba(0, 0, 0, 0.3));\n",
              "    fill: #FFFFFF;\n",
              "  }\n",
              "</style>\n",
              "\n",
              "    <script>\n",
              "      async function quickchart(key) {\n",
              "        const containerElement = document.querySelector('#' + key);\n",
              "        const charts = await google.colab.kernel.invokeFunction(\n",
              "            'suggestCharts', [key], {});\n",
              "      }\n",
              "    </script>\n",
              "\n",
              "      <script>\n",
              "\n",
              "function displayQuickchartButton(domScope) {\n",
              "  let quickchartButtonEl =\n",
              "    domScope.querySelector('#df-d7e4094b-c0db-401b-970e-1bb998fa5973 button.colab-df-quickchart');\n",
              "  quickchartButtonEl.style.display =\n",
              "    google.colab.kernel.accessAllowed ? 'block' : 'none';\n",
              "}\n",
              "\n",
              "        displayQuickchartButton(document);\n",
              "      </script>\n",
              "      <style>\n",
              "    .colab-df-container {\n",
              "      display:flex;\n",
              "      flex-wrap:wrap;\n",
              "      gap: 12px;\n",
              "    }\n",
              "\n",
              "    .colab-df-convert {\n",
              "      background-color: #E8F0FE;\n",
              "      border: none;\n",
              "      border-radius: 50%;\n",
              "      cursor: pointer;\n",
              "      display: none;\n",
              "      fill: #1967D2;\n",
              "      height: 32px;\n",
              "      padding: 0 0 0 0;\n",
              "      width: 32px;\n",
              "    }\n",
              "\n",
              "    .colab-df-convert:hover {\n",
              "      background-color: #E2EBFA;\n",
              "      box-shadow: 0px 1px 2px rgba(60, 64, 67, 0.3), 0px 1px 3px 1px rgba(60, 64, 67, 0.15);\n",
              "      fill: #174EA6;\n",
              "    }\n",
              "\n",
              "    [theme=dark] .colab-df-convert {\n",
              "      background-color: #3B4455;\n",
              "      fill: #D2E3FC;\n",
              "    }\n",
              "\n",
              "    [theme=dark] .colab-df-convert:hover {\n",
              "      background-color: #434B5C;\n",
              "      box-shadow: 0px 1px 3px 1px rgba(0, 0, 0, 0.15);\n",
              "      filter: drop-shadow(0px 1px 2px rgba(0, 0, 0, 0.3));\n",
              "      fill: #FFFFFF;\n",
              "    }\n",
              "  </style>\n",
              "\n",
              "      <script>\n",
              "        const buttonEl =\n",
              "          document.querySelector('#df-b7c23be8-1204-4e1c-b517-68b6f889fc5d button.colab-df-convert');\n",
              "        buttonEl.style.display =\n",
              "          google.colab.kernel.accessAllowed ? 'block' : 'none';\n",
              "\n",
              "        async function convertToInteractive(key) {\n",
              "          const element = document.querySelector('#df-b7c23be8-1204-4e1c-b517-68b6f889fc5d');\n",
              "          const dataTable =\n",
              "            await google.colab.kernel.invokeFunction('convertToInteractive',\n",
              "                                                     [key], {});\n",
              "          if (!dataTable) return;\n",
              "\n",
              "          const docLinkHtml = 'Like what you see? Visit the ' +\n",
              "            '<a target=\"_blank\" href=https://colab.research.google.com/notebooks/data_table.ipynb>data table notebook</a>'\n",
              "            + ' to learn more about interactive tables.';\n",
              "          element.innerHTML = '';\n",
              "          dataTable['output_type'] = 'display_data';\n",
              "          await google.colab.output.renderOutput(dataTable, element);\n",
              "          const docLink = document.createElement('div');\n",
              "          docLink.innerHTML = docLinkHtml;\n",
              "          element.appendChild(docLink);\n",
              "        }\n",
              "      </script>\n",
              "    </div>\n",
              "  </div>\n"
            ]
          },
          "metadata": {},
          "execution_count": 49
        }
      ]
    },
    {
      "cell_type": "code",
      "source": [
        "new_column = list()\n",
        "for row in data1.iterrows():\n",
        "  new_col = f\"{row[1]['Department']}-{row[1]['Expenditure_category']}-{row[1]['Item_name']}\"\n",
        "  new_column.append(new_col)"
      ],
      "metadata": {
        "id": "9Tqy7ZMKRl68"
      },
      "execution_count": 52,
      "outputs": []
    },
    {
      "cell_type": "code",
      "source": [
        "data1['Desciption'] = new_column\n",
        "data1=data1.drop(axis=1,columns=['Department','Expenditure_category','Item_name'])"
      ],
      "metadata": {
        "id": "vgysmOKeRlFD"
      },
      "execution_count": 53,
      "outputs": []
    },
    {
      "cell_type": "code",
      "source": [
        "data1"
      ],
      "metadata": {
        "id": "Sw4IJB6XTDM0",
        "outputId": "0311b16d-12b7-4f08-c121-298bed37a8a4",
        "colab": {
          "base_uri": "https://localhost:8080/",
          "height": 641
        }
      },
      "execution_count": 54,
      "outputs": [
        {
          "output_type": "execute_result",
          "data": {
            "text/plain": [
              "    Budget_resource  Issue_No  Fiscal_year  Department_code  \\\n",
              "0         งบประจำปี         0           62         11000000   \n",
              "1         งบประจำปี         0           62         11000000   \n",
              "2         งบประจำปี         0           62         11000000   \n",
              "3         งบประจำปี         0           62         11000000   \n",
              "4         งบประจำปี         0           62         11000000   \n",
              "..              ...       ...          ...              ...   \n",
              "687     งบเพิ่มเติม         1           66         50460000   \n",
              "688     งบเพิ่มเติม         1           66         50460000   \n",
              "689     งบเพิ่มเติม         1           66         50460000   \n",
              "690     งบเพิ่มเติม         1           66         50460000   \n",
              "691     งบเพิ่มเติม         1           66         50500000   \n",
              "\n",
              "                                      Core_budget_code  Approved_buget  \\\n",
              "0    12-เงินสำรองจ่ายทั่วไป กรณีค่าใช้จ่ายต่างๆ เกี...         1193000   \n",
              "1    12-เงินสำรองจ่ายทั่วไป กรณีค่าใช้จ่ายต่างๆ เกี...         1100000   \n",
              "2    12-เงินสำรองจ่ายทั่วไป กรณีค่าใช้จ่ายต่างๆ เกี...         3075000   \n",
              "3    12-เงินสำรองจ่ายทั่วไป กรณีค่าใช้จ่ายต่างๆ เกี...         6240000   \n",
              "4    12-เงินสำรองจ่ายทั่วไป กรณีค่าใช้จ่ายต่างๆ เกี...         2685000   \n",
              "..                                                 ...             ...   \n",
              "687                                                NaN         3686000   \n",
              "688                                                NaN         2575000   \n",
              "689                                                NaN          689000   \n",
              "690                                                NaN          464000   \n",
              "691                                                NaN         7578000   \n",
              "\n",
              "                                            Desciption  \n",
              "0    สำนักการระบายน้ำ-งบลงทุน-ขุดลอกคลองบางกะปิจากค...  \n",
              "1    สำนักการระบายน้ำ-งบลงทุน-ขุดลอกคลองทรงกระเทียม...  \n",
              "2    สำนักการระบายน้ำ-งบลงทุน-ขุดลอกคลองเป้งจากคลอง...  \n",
              "3    สำนักการระบายน้ำ-งบลงทุน-ขุดลอกคลองลำพังพวยจาก...  \n",
              "4    สำนักการระบายน้ำ-งบลงทุน-ขุดลอกบึงรางเข้จากคลอ...  \n",
              "..                                                 ...  \n",
              "687    สำนักงานเขตคลองสามวา-งบลงทุน-ขุดลอกคลองผักกะเฉด  \n",
              "688  สำนักงานเขตคลองสามวา-งบลงทุน-ขุดลอกคลองบึงทราย...  \n",
              "689     สำนักงานเขตคลองสามวา-งบลงทุน-ขุดลอกลำรางซาฟารี  \n",
              "690   สำนักงานเขตคลองสามวา-งบลงทุน-ขุดลอกลำรางตาจันทร์  \n",
              "691  สำนักงานเขตบางบอน-งบลงทุน-ขุดลอกคลองบางบอนต่อจ...  \n",
              "\n",
              "[692 rows x 7 columns]"
            ],
            "text/html": [
              "\n",
              "\n",
              "  <div id=\"df-2c507b42-6c8b-43e7-9cef-1b62537c8974\">\n",
              "    <div class=\"colab-df-container\">\n",
              "      <div>\n",
              "<style scoped>\n",
              "    .dataframe tbody tr th:only-of-type {\n",
              "        vertical-align: middle;\n",
              "    }\n",
              "\n",
              "    .dataframe tbody tr th {\n",
              "        vertical-align: top;\n",
              "    }\n",
              "\n",
              "    .dataframe thead th {\n",
              "        text-align: right;\n",
              "    }\n",
              "</style>\n",
              "<table border=\"1\" class=\"dataframe\">\n",
              "  <thead>\n",
              "    <tr style=\"text-align: right;\">\n",
              "      <th></th>\n",
              "      <th>Budget_resource</th>\n",
              "      <th>Issue_No</th>\n",
              "      <th>Fiscal_year</th>\n",
              "      <th>Department_code</th>\n",
              "      <th>Core_budget_code</th>\n",
              "      <th>Approved_buget</th>\n",
              "      <th>Desciption</th>\n",
              "    </tr>\n",
              "  </thead>\n",
              "  <tbody>\n",
              "    <tr>\n",
              "      <th>0</th>\n",
              "      <td>งบประจำปี</td>\n",
              "      <td>0</td>\n",
              "      <td>62</td>\n",
              "      <td>11000000</td>\n",
              "      <td>12-เงินสำรองจ่ายทั่วไป กรณีค่าใช้จ่ายต่างๆ เกี...</td>\n",
              "      <td>1193000</td>\n",
              "      <td>สำนักการระบายน้ำ-งบลงทุน-ขุดลอกคลองบางกะปิจากค...</td>\n",
              "    </tr>\n",
              "    <tr>\n",
              "      <th>1</th>\n",
              "      <td>งบประจำปี</td>\n",
              "      <td>0</td>\n",
              "      <td>62</td>\n",
              "      <td>11000000</td>\n",
              "      <td>12-เงินสำรองจ่ายทั่วไป กรณีค่าใช้จ่ายต่างๆ เกี...</td>\n",
              "      <td>1100000</td>\n",
              "      <td>สำนักการระบายน้ำ-งบลงทุน-ขุดลอกคลองทรงกระเทียม...</td>\n",
              "    </tr>\n",
              "    <tr>\n",
              "      <th>2</th>\n",
              "      <td>งบประจำปี</td>\n",
              "      <td>0</td>\n",
              "      <td>62</td>\n",
              "      <td>11000000</td>\n",
              "      <td>12-เงินสำรองจ่ายทั่วไป กรณีค่าใช้จ่ายต่างๆ เกี...</td>\n",
              "      <td>3075000</td>\n",
              "      <td>สำนักการระบายน้ำ-งบลงทุน-ขุดลอกคลองเป้งจากคลอง...</td>\n",
              "    </tr>\n",
              "    <tr>\n",
              "      <th>3</th>\n",
              "      <td>งบประจำปี</td>\n",
              "      <td>0</td>\n",
              "      <td>62</td>\n",
              "      <td>11000000</td>\n",
              "      <td>12-เงินสำรองจ่ายทั่วไป กรณีค่าใช้จ่ายต่างๆ เกี...</td>\n",
              "      <td>6240000</td>\n",
              "      <td>สำนักการระบายน้ำ-งบลงทุน-ขุดลอกคลองลำพังพวยจาก...</td>\n",
              "    </tr>\n",
              "    <tr>\n",
              "      <th>4</th>\n",
              "      <td>งบประจำปี</td>\n",
              "      <td>0</td>\n",
              "      <td>62</td>\n",
              "      <td>11000000</td>\n",
              "      <td>12-เงินสำรองจ่ายทั่วไป กรณีค่าใช้จ่ายต่างๆ เกี...</td>\n",
              "      <td>2685000</td>\n",
              "      <td>สำนักการระบายน้ำ-งบลงทุน-ขุดลอกบึงรางเข้จากคลอ...</td>\n",
              "    </tr>\n",
              "    <tr>\n",
              "      <th>...</th>\n",
              "      <td>...</td>\n",
              "      <td>...</td>\n",
              "      <td>...</td>\n",
              "      <td>...</td>\n",
              "      <td>...</td>\n",
              "      <td>...</td>\n",
              "      <td>...</td>\n",
              "    </tr>\n",
              "    <tr>\n",
              "      <th>687</th>\n",
              "      <td>งบเพิ่มเติม</td>\n",
              "      <td>1</td>\n",
              "      <td>66</td>\n",
              "      <td>50460000</td>\n",
              "      <td>NaN</td>\n",
              "      <td>3686000</td>\n",
              "      <td>สำนักงานเขตคลองสามวา-งบลงทุน-ขุดลอกคลองผักกะเฉด</td>\n",
              "    </tr>\n",
              "    <tr>\n",
              "      <th>688</th>\n",
              "      <td>งบเพิ่มเติม</td>\n",
              "      <td>1</td>\n",
              "      <td>66</td>\n",
              "      <td>50460000</td>\n",
              "      <td>NaN</td>\n",
              "      <td>2575000</td>\n",
              "      <td>สำนักงานเขตคลองสามวา-งบลงทุน-ขุดลอกคลองบึงทราย...</td>\n",
              "    </tr>\n",
              "    <tr>\n",
              "      <th>689</th>\n",
              "      <td>งบเพิ่มเติม</td>\n",
              "      <td>1</td>\n",
              "      <td>66</td>\n",
              "      <td>50460000</td>\n",
              "      <td>NaN</td>\n",
              "      <td>689000</td>\n",
              "      <td>สำนักงานเขตคลองสามวา-งบลงทุน-ขุดลอกลำรางซาฟารี</td>\n",
              "    </tr>\n",
              "    <tr>\n",
              "      <th>690</th>\n",
              "      <td>งบเพิ่มเติม</td>\n",
              "      <td>1</td>\n",
              "      <td>66</td>\n",
              "      <td>50460000</td>\n",
              "      <td>NaN</td>\n",
              "      <td>464000</td>\n",
              "      <td>สำนักงานเขตคลองสามวา-งบลงทุน-ขุดลอกลำรางตาจันทร์</td>\n",
              "    </tr>\n",
              "    <tr>\n",
              "      <th>691</th>\n",
              "      <td>งบเพิ่มเติม</td>\n",
              "      <td>1</td>\n",
              "      <td>66</td>\n",
              "      <td>50500000</td>\n",
              "      <td>NaN</td>\n",
              "      <td>7578000</td>\n",
              "      <td>สำนักงานเขตบางบอน-งบลงทุน-ขุดลอกคลองบางบอนต่อจ...</td>\n",
              "    </tr>\n",
              "  </tbody>\n",
              "</table>\n",
              "<p>692 rows × 7 columns</p>\n",
              "</div>\n",
              "      <button class=\"colab-df-convert\" onclick=\"convertToInteractive('df-2c507b42-6c8b-43e7-9cef-1b62537c8974')\"\n",
              "              title=\"Convert this dataframe to an interactive table.\"\n",
              "              style=\"display:none;\">\n",
              "\n",
              "  <svg xmlns=\"http://www.w3.org/2000/svg\" height=\"24px\"viewBox=\"0 0 24 24\"\n",
              "       width=\"24px\">\n",
              "    <path d=\"M0 0h24v24H0V0z\" fill=\"none\"/>\n",
              "    <path d=\"M18.56 5.44l.94 2.06.94-2.06 2.06-.94-2.06-.94-.94-2.06-.94 2.06-2.06.94zm-11 1L8.5 8.5l.94-2.06 2.06-.94-2.06-.94L8.5 2.5l-.94 2.06-2.06.94zm10 10l.94 2.06.94-2.06 2.06-.94-2.06-.94-.94-2.06-.94 2.06-2.06.94z\"/><path d=\"M17.41 7.96l-1.37-1.37c-.4-.4-.92-.59-1.43-.59-.52 0-1.04.2-1.43.59L10.3 9.45l-7.72 7.72c-.78.78-.78 2.05 0 2.83L4 21.41c.39.39.9.59 1.41.59.51 0 1.02-.2 1.41-.59l7.78-7.78 2.81-2.81c.8-.78.8-2.07 0-2.86zM5.41 20L4 18.59l7.72-7.72 1.47 1.35L5.41 20z\"/>\n",
              "  </svg>\n",
              "      </button>\n",
              "\n",
              "\n",
              "\n",
              "    <div id=\"df-1150b51a-1970-4bb5-bb9b-539efa30d4ca\">\n",
              "      <button class=\"colab-df-quickchart\" onclick=\"quickchart('df-1150b51a-1970-4bb5-bb9b-539efa30d4ca')\"\n",
              "              title=\"Suggest charts.\"\n",
              "              style=\"display:none;\">\n",
              "\n",
              "<svg xmlns=\"http://www.w3.org/2000/svg\" height=\"24px\"viewBox=\"0 0 24 24\"\n",
              "     width=\"24px\">\n",
              "    <g>\n",
              "        <path d=\"M19 3H5c-1.1 0-2 .9-2 2v14c0 1.1.9 2 2 2h14c1.1 0 2-.9 2-2V5c0-1.1-.9-2-2-2zM9 17H7v-7h2v7zm4 0h-2V7h2v10zm4 0h-2v-4h2v4z\"/>\n",
              "    </g>\n",
              "</svg>\n",
              "      </button>\n",
              "    </div>\n",
              "\n",
              "<style>\n",
              "  .colab-df-quickchart {\n",
              "    background-color: #E8F0FE;\n",
              "    border: none;\n",
              "    border-radius: 50%;\n",
              "    cursor: pointer;\n",
              "    display: none;\n",
              "    fill: #1967D2;\n",
              "    height: 32px;\n",
              "    padding: 0 0 0 0;\n",
              "    width: 32px;\n",
              "  }\n",
              "\n",
              "  .colab-df-quickchart:hover {\n",
              "    background-color: #E2EBFA;\n",
              "    box-shadow: 0px 1px 2px rgba(60, 64, 67, 0.3), 0px 1px 3px 1px rgba(60, 64, 67, 0.15);\n",
              "    fill: #174EA6;\n",
              "  }\n",
              "\n",
              "  [theme=dark] .colab-df-quickchart {\n",
              "    background-color: #3B4455;\n",
              "    fill: #D2E3FC;\n",
              "  }\n",
              "\n",
              "  [theme=dark] .colab-df-quickchart:hover {\n",
              "    background-color: #434B5C;\n",
              "    box-shadow: 0px 1px 3px 1px rgba(0, 0, 0, 0.15);\n",
              "    filter: drop-shadow(0px 1px 2px rgba(0, 0, 0, 0.3));\n",
              "    fill: #FFFFFF;\n",
              "  }\n",
              "</style>\n",
              "\n",
              "    <script>\n",
              "      async function quickchart(key) {\n",
              "        const containerElement = document.querySelector('#' + key);\n",
              "        const charts = await google.colab.kernel.invokeFunction(\n",
              "            'suggestCharts', [key], {});\n",
              "      }\n",
              "    </script>\n",
              "\n",
              "      <script>\n",
              "\n",
              "function displayQuickchartButton(domScope) {\n",
              "  let quickchartButtonEl =\n",
              "    domScope.querySelector('#df-1150b51a-1970-4bb5-bb9b-539efa30d4ca button.colab-df-quickchart');\n",
              "  quickchartButtonEl.style.display =\n",
              "    google.colab.kernel.accessAllowed ? 'block' : 'none';\n",
              "}\n",
              "\n",
              "        displayQuickchartButton(document);\n",
              "      </script>\n",
              "      <style>\n",
              "    .colab-df-container {\n",
              "      display:flex;\n",
              "      flex-wrap:wrap;\n",
              "      gap: 12px;\n",
              "    }\n",
              "\n",
              "    .colab-df-convert {\n",
              "      background-color: #E8F0FE;\n",
              "      border: none;\n",
              "      border-radius: 50%;\n",
              "      cursor: pointer;\n",
              "      display: none;\n",
              "      fill: #1967D2;\n",
              "      height: 32px;\n",
              "      padding: 0 0 0 0;\n",
              "      width: 32px;\n",
              "    }\n",
              "\n",
              "    .colab-df-convert:hover {\n",
              "      background-color: #E2EBFA;\n",
              "      box-shadow: 0px 1px 2px rgba(60, 64, 67, 0.3), 0px 1px 3px 1px rgba(60, 64, 67, 0.15);\n",
              "      fill: #174EA6;\n",
              "    }\n",
              "\n",
              "    [theme=dark] .colab-df-convert {\n",
              "      background-color: #3B4455;\n",
              "      fill: #D2E3FC;\n",
              "    }\n",
              "\n",
              "    [theme=dark] .colab-df-convert:hover {\n",
              "      background-color: #434B5C;\n",
              "      box-shadow: 0px 1px 3px 1px rgba(0, 0, 0, 0.15);\n",
              "      filter: drop-shadow(0px 1px 2px rgba(0, 0, 0, 0.3));\n",
              "      fill: #FFFFFF;\n",
              "    }\n",
              "  </style>\n",
              "\n",
              "      <script>\n",
              "        const buttonEl =\n",
              "          document.querySelector('#df-2c507b42-6c8b-43e7-9cef-1b62537c8974 button.colab-df-convert');\n",
              "        buttonEl.style.display =\n",
              "          google.colab.kernel.accessAllowed ? 'block' : 'none';\n",
              "\n",
              "        async function convertToInteractive(key) {\n",
              "          const element = document.querySelector('#df-2c507b42-6c8b-43e7-9cef-1b62537c8974');\n",
              "          const dataTable =\n",
              "            await google.colab.kernel.invokeFunction('convertToInteractive',\n",
              "                                                     [key], {});\n",
              "          if (!dataTable) return;\n",
              "\n",
              "          const docLinkHtml = 'Like what you see? Visit the ' +\n",
              "            '<a target=\"_blank\" href=https://colab.research.google.com/notebooks/data_table.ipynb>data table notebook</a>'\n",
              "            + ' to learn more about interactive tables.';\n",
              "          element.innerHTML = '';\n",
              "          dataTable['output_type'] = 'display_data';\n",
              "          await google.colab.output.renderOutput(dataTable, element);\n",
              "          const docLink = document.createElement('div');\n",
              "          docLink.innerHTML = docLinkHtml;\n",
              "          element.appendChild(docLink);\n",
              "        }\n",
              "      </script>\n",
              "    </div>\n",
              "  </div>\n"
            ]
          },
          "metadata": {},
          "execution_count": 54
        }
      ]
    },
    {
      "cell_type": "code",
      "source": [],
      "metadata": {
        "id": "87VAGl08TDJx"
      },
      "execution_count": null,
      "outputs": []
    },
    {
      "cell_type": "code",
      "source": [],
      "metadata": {
        "id": "r0iNkexgTDGV"
      },
      "execution_count": null,
      "outputs": []
    },
    {
      "cell_type": "code",
      "source": [
        "##การสร้าง columns เพิ่ม"
      ],
      "metadata": {
        "id": "ZfJw202hMwyU"
      },
      "execution_count": null,
      "outputs": []
    },
    {
      "cell_type": "code",
      "metadata": {
        "id": "HuvNCoCRq1YQ"
      },
      "source": [
        "this_data = data_covid[['sex','age','province_of_onset']]\n",
        "this_data"
      ],
      "execution_count": null,
      "outputs": []
    },
    {
      "cell_type": "code",
      "metadata": {
        "id": "WekNYPgMtwxX"
      },
      "source": [
        "for each_row in this_data.iterrows():\n",
        "    # print(each_row)\n",
        "    # print(each_row[1])\n",
        "    # print(each_row[1]['sex'])\n",
        "    if (each_row[1]['age'] <= 20) and (each_row[1]['province_of_onset'] == 'ขอนแก่น'):\n",
        "        print(each_row)"
      ],
      "execution_count": null,
      "outputs": []
    },
    {
      "cell_type": "markdown",
      "metadata": {
        "id": "Rt9Sm-nGr8um"
      },
      "source": [
        "### การวนลูป แบบมองตารางแพนด้าส์(pandas dataframe) เป็น numpy array  (```.iloc```)"
      ]
    },
    {
      "cell_type": "code",
      "metadata": {
        "id": "-gT66JgMuBN0"
      },
      "source": [
        "for each_row in range(this_data.shape[0]):\n",
        "    if (this_data.iloc[each_row,1] <= 20) and (this_data.iloc[each_row,2] == 'ขอนแก่น'):  #each_row คือ ตัวเลข\n",
        "        print(each_row)\n",
        "        print(this_data.iloc[each_row,:])"
      ],
      "execution_count": null,
      "outputs": []
    },
    {
      "cell_type": "markdown",
      "metadata": {
        "id": "VlgREHOC0eXu"
      },
      "source": [
        "## Quiz ตัดตารางออกมาเฉพาะปี 2021 ```announce_date``` ในปี 2021\n",
        "\n",
        "**Hint**\n",
        "*   วนลูปหา index ของปี 2021\n",
        "*   ตัดตารางมาเฉพาะ ปี 2021\n",
        "\n"
      ]
    },
    {
      "cell_type": "code",
      "metadata": {
        "id": "E3C7RQIz8wtu"
      },
      "source": [
        "TF=list()\n",
        "for each_row in data_covid.iterrows():\n",
        "    if each_row[1]['announce_date'].split('/')[2] == '2021':\n",
        "        TF.append(True)\n",
        "    else:\n",
        "        TF.append(False)\n",
        "\n",
        "data_covid[TF].head()"
      ],
      "execution_count": null,
      "outputs": []
    },
    {
      "cell_type": "code",
      "source": [
        "TF"
      ],
      "metadata": {
        "id": "6-bZiKrFc_Yn"
      },
      "execution_count": null,
      "outputs": []
    },
    {
      "cell_type": "code",
      "source": [],
      "metadata": {
        "id": "sQSXrHg9dCYR"
      },
      "execution_count": null,
      "outputs": []
    },
    {
      "cell_type": "markdown",
      "source": [
        "### HW กลุ่ม 2 || เลือกข้อมูลมาเฉพาะวัน announce_date เป็นวันที่ 1-20  "
      ],
      "metadata": {
        "id": "nC3foO7jTFb9"
      }
    },
    {
      "cell_type": "markdown",
      "metadata": {
        "id": "gXOzi1O6BAFO"
      },
      "source": [
        "# Function ตัวช่วยใน pandas"
      ]
    },
    {
      "cell_type": "markdown",
      "metadata": {
        "id": "TvToU8hCCJL-"
      },
      "source": [
        "### ```.describe()``` คำนวณค่าทางสถิติของข้อมูลที่เป็นตัวเลข"
      ]
    },
    {
      "cell_type": "code",
      "metadata": {
        "id": "XM8qJ0o7A7ip"
      },
      "source": [
        "data_covid.describe()"
      ],
      "execution_count": null,
      "outputs": []
    },
    {
      "cell_type": "markdown",
      "metadata": {
        "id": "zXToQo4-CaPF"
      },
      "source": [
        "### ```.mean()``` คำนวณค่าเฉลี่ยของข้อมูลโดยไม่สนใจ missing"
      ]
    },
    {
      "cell_type": "code",
      "metadata": {
        "id": "TBwXJCRLBomc"
      },
      "source": [
        "data_covid[data_covid['sex']=='ชาย']['age'].mean()"
      ],
      "execution_count": null,
      "outputs": []
    },
    {
      "cell_type": "markdown",
      "metadata": {
        "id": "NuwVtwnjCpb5"
      },
      "source": [
        "### ```.isnull()```"
      ]
    },
    {
      "cell_type": "code",
      "metadata": {
        "id": "GNHkaDLMCo5t"
      },
      "source": [
        "data_covid.isnull()"
      ],
      "execution_count": null,
      "outputs": []
    },
    {
      "cell_type": "markdown",
      "metadata": {
        "id": "mkAeKL1D5HLi"
      },
      "source": [
        "# next\n",
        "\n",
        "*   ต่อตารางแกน X แกน y\n",
        "*   .groupby\n",
        "*   save table"
      ]
    },
    {
      "cell_type": "code",
      "metadata": {
        "id": "hqgXy4NYxy1W"
      },
      "source": [],
      "execution_count": null,
      "outputs": []
    }
  ]
}